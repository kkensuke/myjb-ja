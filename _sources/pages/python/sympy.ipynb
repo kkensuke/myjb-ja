{
 "cells": [
  {
   "cell_type": "markdown",
   "id": "f0e2344e",
   "metadata": {},
   "source": [
    "# [SymPY](https://www.tutorialspoint.com/sympy/index.htm)\n",
    "> SymPy は、数式処理のための Python ライブラリです。 - SymPy ドキュメント\n",
    "\n",
    "このページでは、SymPyの使用例を見ることができます。"
   ]
  },
  {
   "cell_type": "code",
   "execution_count": null,
   "id": "cbfa03bd",
   "metadata": {},
   "outputs": [],
   "source": [
    "from sympy import *"
   ]
  },
  {
   "cell_type": "markdown",
   "id": "8f5c2987",
   "metadata": {},
   "source": [
    "## 記号の宣言"
   ]
  },
  {
   "cell_type": "code",
   "execution_count": null,
   "id": "df485152",
   "metadata": {},
   "outputs": [],
   "source": [
    "x = Symbol(\"x\")\n",
    "y = Symbol(\"y\")"
   ]
  },
  {
   "cell_type": "code",
   "execution_count": null,
   "id": "724a4557",
   "metadata": {},
   "outputs": [],
   "source": [
    "(x + y) ** 2"
   ]
  },
  {
   "cell_type": "markdown",
   "id": "d437de2d",
   "metadata": {},
   "source": [
    "## 展開"
   ]
  },
  {
   "cell_type": "code",
   "execution_count": null,
   "id": "a02991fc",
   "metadata": {},
   "outputs": [],
   "source": [
    "f = expand((x + y) ** 2)\n",
    "display(f)"
   ]
  },
  {
   "cell_type": "markdown",
   "id": "c71fcc4d",
   "metadata": {},
   "source": [
    "## 代入"
   ]
  },
  {
   "cell_type": "code",
   "execution_count": null,
   "id": "4e0846c6",
   "metadata": {},
   "outputs": [],
   "source": [
    "f.subs({x: 1, y: 2})"
   ]
  },
  {
   "cell_type": "markdown",
   "id": "fff34f17",
   "metadata": {},
   "source": [
    "## 因数分解"
   ]
  },
  {
   "cell_type": "code",
   "execution_count": null,
   "id": "e7f5ad3d",
   "metadata": {},
   "outputs": [],
   "source": [
    "factor(x**2 - 4 * x + 3)"
   ]
  },
  {
   "cell_type": "markdown",
   "id": "043d3d3e",
   "metadata": {},
   "source": [
    "## 方程式の解"
   ]
  },
  {
   "cell_type": "code",
   "execution_count": null,
   "id": "379198b1",
   "metadata": {},
   "outputs": [],
   "source": [
    "solve(x**2 - x - 1)"
   ]
  },
  {
   "cell_type": "markdown",
   "id": "a0bc8ad2",
   "metadata": {},
   "source": [
    "## 部分分数分解"
   ]
  },
  {
   "cell_type": "code",
   "execution_count": null,
   "id": "0142e8c8",
   "metadata": {},
   "outputs": [],
   "source": [
    "apart(1 / (x**5 - 1))"
   ]
  },
  {
   "cell_type": "markdown",
   "id": "981753db",
   "metadata": {},
   "source": [
    "## 積分と微分"
   ]
  },
  {
   "cell_type": "code",
   "execution_count": null,
   "id": "c6c50626",
   "metadata": {},
   "outputs": [],
   "source": [
    "a = Symbol(\"a\")  # real=Trueを指定しない場合、aは複素数として扱われます。\n",
    "b = Symbol(\"b\")\n",
    "\n",
    "u = exp(a * x) * sin(b * x)\n",
    "display(u)"
   ]
  },
  {
   "cell_type": "code",
   "execution_count": null,
   "id": "13ee9f8f",
   "metadata": {},
   "outputs": [],
   "source": [
    "int_u = integrate(u, x)\n",
    "display(int_u)"
   ]
  },
  {
   "cell_type": "code",
   "execution_count": null,
   "id": "b54dc314",
   "metadata": {},
   "outputs": [],
   "source": [
    "R = diff(u, x, 2) + u + x\n",
    "display(R)"
   ]
  },
  {
   "cell_type": "markdown",
   "id": "73940318",
   "metadata": {},
   "source": [
    "## 総和"
   ]
  },
  {
   "cell_type": "code",
   "execution_count": null,
   "id": "e9c00c03",
   "metadata": {},
   "outputs": [],
   "source": [
    "k, N = symbols(\"k, N\", integer=True)\n",
    "factor(summation(k, (k, 1, N)))"
   ]
  },
  {
   "cell_type": "markdown",
   "id": "dc677117",
   "metadata": {},
   "source": [
    "## 極限\n",
    "\n",
    "$$ \\lim_{x \\to 0} \\frac{\\sin x}{x} = 1 $$"
   ]
  },
  {
   "cell_type": "code",
   "execution_count": null,
   "id": "c6ee5d65",
   "metadata": {},
   "outputs": [],
   "source": [
    "limit(sin(x) / x, x, 0)"
   ]
  },
  {
   "cell_type": "markdown",
   "id": "7dd46d2d",
   "metadata": {},
   "source": [
    "## その他の例"
   ]
  },
  {
   "cell_type": "code",
   "execution_count": null,
   "id": "b47abb43",
   "metadata": {},
   "outputs": [],
   "source": [
    "s = Symbol(\"s\")\n",
    "t = Symbol(\"t\")\n",
    "\n",
    "l = (s**2 * x**3) + (t * x**2) + (3 * x) + 1\n",
    "\n",
    "display(l)"
   ]
  },
  {
   "cell_type": "code",
   "execution_count": null,
   "id": "c5d61fdf",
   "metadata": {},
   "outputs": [],
   "source": [
    "int_l = integrate(l, (x, 0, 1))\n",
    "display(int_l)"
   ]
  }
 ],
 "metadata": {
  "jupytext": {
   "text_representation": {
    "extension": ".md",
    "format_name": "myst",
    "format_version": 0.13,
    "jupytext_version": "1.15.0"
   }
  },
  "kernelspec": {
   "display_name": "Python 3 (ipykernel)",
   "language": "python",
   "name": "python3"
  },
  "source_map": [
   12,
   18,
   20,
   24,
   29,
   31,
   35,
   38,
   42,
   44,
   48,
   50,
   54,
   56,
   60,
   62,
   66,
   74,
   79,
   82,
   86,
   89,
   95,
   97,
   101,
   110
  ]
 },
 "nbformat": 4,
 "nbformat_minor": 5
}