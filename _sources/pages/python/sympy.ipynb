{
 "cells": [
  {
   "cell_type": "markdown",
   "id": "7f509ba9",
   "metadata": {},
   "source": [
    "# [SymPY](https://www.tutorialspoint.com/sympy/index.htm)\n",
    "> SymPy は、数式処理のための Python ライブラリです。 - SymPy ドキュメント\n",
    "\n",
    "このページでは、SymPyの使用例を見ることができます。"
   ]
  },
  {
   "cell_type": "code",
   "execution_count": null,
   "id": "d7b2fb77",
   "metadata": {},
   "outputs": [],
   "source": [
    "from sympy import *"
   ]
  },
  {
   "cell_type": "markdown",
   "id": "2455eb3b",
   "metadata": {},
   "source": [
    "## 記号の宣言"
   ]
  },
  {
   "cell_type": "code",
   "execution_count": null,
   "id": "a2b3de75",
   "metadata": {},
   "outputs": [],
   "source": [
    "x = Symbol(\"x\")\n",
    "y = Symbol(\"y\")"
   ]
  },
  {
   "cell_type": "code",
   "execution_count": null,
   "id": "bd0e39cf",
   "metadata": {},
   "outputs": [],
   "source": [
    "(x + y) ** 2"
   ]
  },
  {
   "cell_type": "markdown",
   "id": "48f1b75a",
   "metadata": {},
   "source": [
    "## 展開"
   ]
  },
  {
   "cell_type": "code",
   "execution_count": null,
   "id": "d092b686",
   "metadata": {},
   "outputs": [],
   "source": [
    "f = expand((x + y) ** 2)\n",
    "display(f)"
   ]
  },
  {
   "cell_type": "markdown",
   "id": "512b064d",
   "metadata": {},
   "source": [
    "## 代入"
   ]
  },
  {
   "cell_type": "code",
   "execution_count": null,
   "id": "0d4d9513",
   "metadata": {},
   "outputs": [],
   "source": [
    "f.subs({x: 1, y: 2})"
   ]
  },
  {
   "cell_type": "markdown",
   "id": "6a922164",
   "metadata": {},
   "source": [
    "## 因数分解"
   ]
  },
  {
   "cell_type": "code",
   "execution_count": null,
   "id": "ae975195",
   "metadata": {},
   "outputs": [],
   "source": [
    "factor(x**2 - 4 * x + 3)"
   ]
  },
  {
   "cell_type": "markdown",
   "id": "eb26b48d",
   "metadata": {},
   "source": [
    "## 方程式の解"
   ]
  },
  {
   "cell_type": "code",
   "execution_count": null,
   "id": "e73d6cb6",
   "metadata": {},
   "outputs": [],
   "source": [
    "solve(x**2 - x - 1)"
   ]
  },
  {
   "cell_type": "markdown",
   "id": "abe17bb8",
   "metadata": {},
   "source": [
    "## 部分分数分解"
   ]
  },
  {
   "cell_type": "code",
   "execution_count": null,
   "id": "c64d7098",
   "metadata": {},
   "outputs": [],
   "source": [
    "apart(1 / (x**5 - 1))"
   ]
  },
  {
   "cell_type": "markdown",
   "id": "cb84f6bd",
   "metadata": {},
   "source": [
    "## 積分と微分"
   ]
  },
  {
   "cell_type": "code",
   "execution_count": null,
   "id": "0d30e4f8",
   "metadata": {},
   "outputs": [],
   "source": [
    "a = Symbol(\"a\")  # real=Trueを指定しない場合、aは複素数として扱われます。\n",
    "b = Symbol(\"b\")\n",
    "\n",
    "u = exp(a * x) * sin(b * x)\n",
    "display(u)"
   ]
  },
  {
   "cell_type": "code",
   "execution_count": null,
   "id": "1405da64",
   "metadata": {},
   "outputs": [],
   "source": [
    "int_u = integrate(u, x)\n",
    "display(int_u)"
   ]
  },
  {
   "cell_type": "code",
   "execution_count": null,
   "id": "68052ade",
   "metadata": {},
   "outputs": [],
   "source": [
    "R = diff(u, x, 2) + u + x\n",
    "display(R)"
   ]
  },
  {
   "cell_type": "markdown",
   "id": "03073b4b",
   "metadata": {},
   "source": [
    "## 総和"
   ]
  },
  {
   "cell_type": "code",
   "execution_count": null,
   "id": "401eec3f",
   "metadata": {},
   "outputs": [],
   "source": [
    "k, N = symbols(\"k, N\", integer=True)\n",
    "factor(summation(k, (k, 1, N)))"
   ]
  },
  {
   "cell_type": "markdown",
   "id": "947edeb1",
   "metadata": {},
   "source": [
    "## 極限\n",
    "\n",
    "$$ \\lim_{x \\to 0} \\frac{\\sin x}{x} = 1 $$"
   ]
  },
  {
   "cell_type": "code",
   "execution_count": null,
   "id": "380da958",
   "metadata": {},
   "outputs": [],
   "source": [
    "limit(sin(x) / x, x, 0)"
   ]
  },
  {
   "cell_type": "markdown",
   "id": "41380f54",
   "metadata": {},
   "source": [
    "## その他の例"
   ]
  },
  {
   "cell_type": "code",
   "execution_count": null,
   "id": "b979e98d",
   "metadata": {},
   "outputs": [],
   "source": [
    "s = Symbol(\"s\")\n",
    "t = Symbol(\"t\")\n",
    "\n",
    "l = (s**2 * x**3) + (t * x**2) + (3 * x) + 1\n",
    "\n",
    "display(l)"
   ]
  },
  {
   "cell_type": "code",
   "execution_count": null,
   "id": "2ec4429d",
   "metadata": {},
   "outputs": [],
   "source": [
    "int_l = integrate(l, (x, 0, 1))\n",
    "display(int_l)"
   ]
  }
 ],
 "metadata": {
  "jupytext": {
   "text_representation": {
    "extension": ".md",
    "format_name": "myst",
    "format_version": 0.13,
    "jupytext_version": "1.15.0"
   }
  },
  "kernelspec": {
   "display_name": "Python 3 (ipykernel)",
   "language": "python",
   "name": "python3"
  },
  "source_map": [
   12,
   18,
   20,
   24,
   29,
   31,
   35,
   38,
   42,
   44,
   48,
   50,
   54,
   56,
   60,
   62,
   66,
   74,
   79,
   82,
   86,
   89,
   95,
   97,
   101,
   110
  ]
 },
 "nbformat": 4,
 "nbformat_minor": 5
}