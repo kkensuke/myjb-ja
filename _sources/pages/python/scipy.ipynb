{
 "cells": [
  {
   "cell_type": "markdown",
   "id": "a6bf87c3",
   "metadata": {},
   "source": [
    "# [SciPY](https://docs.scipy.org/doc/scipy/index.html)\n",
    "\n",
    "> SciPY は、Python の NumPy 拡張をベースとした、**数学的なアルゴリズムと便利な関数のコレクション**です。 - SciPYドキュメント\n",
    "\n",
    "このページでは、異なる関数（微分、積分、最適化）を使用して問題を解決するSciPYの例を見ることができます。"
   ]
  },
  {
   "cell_type": "code",
   "execution_count": null,
   "id": "a1d645d0",
   "metadata": {},
   "outputs": [],
   "source": [
    "import numpy as np\n",
    "import matplotlib.pyplot as plt\n",
    "from scipy import integrate, diff, optimize\n",
    "\n",
    "from IPython.display import display, Latex"
   ]
  },
  {
   "cell_type": "markdown",
   "id": "5b070da0",
   "metadata": {},
   "source": [
    "## 微分\n",
    "### scipy.integrate.solve_ivp\n",
    "ODE（常微分方程式）のシステムの**初期値問題**を解きます。\n",
    "\n",
    "$$ \\frac{dy}{dt} = f(t, y), \\quad y(t_0) = y_0 $$"
   ]
  },
  {
   "cell_type": "markdown",
   "id": "a0f38c56",
   "metadata": {},
   "source": [
    ">```python\n",
    ">scipy.integrate.solve_ivp(fun, t_span, y0, method='RK45', t_eval=None,\\\n",
    ">    dense_output=False, events=None, vectorized=False, args=None, **options)\n",
    ">```"
   ]
  },
  {
   "cell_type": "markdown",
   "id": "f045ea7f",
   "metadata": {},
   "source": [
    "Lotka-Volterra 方程式を解きます。Lotka-Volterra 方程式は、捕食者と被食者として2つの種が相互作用する生物学的な系の動態を記述するために使用される、一次非線形の常微分方程式のペアです。これは 1925 年にアルフレッド・J・ロトカと 1926 年にヴィト・ヴォルテラによってそれぞれ提案されました。\n",
    "\n",
    "$$ \\frac{dx}{dt} = ax - bxy ,\\quad \\frac{dy}{dt} = -cx + dxy  $$"
   ]
  },
  {
   "cell_type": "code",
   "execution_count": null,
   "id": "91e8b488",
   "metadata": {},
   "outputs": [],
   "source": [
    "from scipy.integrate import solve_ivp\n",
    "\n",
    "\n",
    "def lotkavolterra(t, z, a, b, c, d):\n",
    "    x, y = z\n",
    "    return [a * x - b * x * y, -c * y + d * x * y]\n",
    "\n",
    "\n",
    "sol = solve_ivp(lotkavolterra, [0, 15], [10, 5], args=(1.5, 1, 3, 1), dense_output=True)\n",
    "\n",
    "t = np.linspace(0, 15, 300)\n",
    "z = sol.sol(t)\n",
    "\n",
    "plt.plot(t, z.T)\n",
    "plt.xlabel(\"t\")\n",
    "plt.legend([\"x; prey\", \"y; predator\"], shadow=True)\n",
    "plt.title(\"Lotka-Volterra System\")\n",
    "plt.show()"
   ]
  },
  {
   "cell_type": "markdown",
   "id": "dbd559dd",
   "metadata": {},
   "source": [
    "---\n",
    "## 積分\n",
    "### scipy.integrate.quad\n",
    "定積分を計算します。\n",
    "\n",
    ">```python\n",
    ">scipy.integrate.quad(func, a, b, args=(), full_output=0, epsabs=1.49e-08, epsrel=1.49e-08,\\\n",
    ">    limit=50, points=None, weight=None, wvar=None, wopts=None, maxp1=50, limlst=50)\n",
    ">```\n",
    "\n",
    "`y` と `abserr` を返します。\n",
    "- y（float）：funcのaからbまでの定積分。\n",
    "- abserr（float）：結果の絶対誤差の推定値。\n",
    "\n",
    "次の定積分を計算しましょう：$ \\int_0^4 x^2 dx$"
   ]
  },
  {
   "cell_type": "code",
   "execution_count": null,
   "id": "e5d07483",
   "metadata": {},
   "outputs": [],
   "source": [
    "x2 = lambda x: x**2\n",
    "ans = integrate.quad(x2, 0, 4)  # 数値的な結果\n",
    "print(\"x, y = \", ans)\n",
    "\n",
    "\n",
    "display(Latex(\"$$ \\int_0^4 x^2 dx = \\\\frac{x^3}{3} \\Big|_0^4 = \\\\frac{4^3}{3} = 23.3333 $$\"))"
   ]
  },
  {
   "cell_type": "markdown",
   "id": "7c77a2e1",
   "metadata": {},
   "source": [
    "---\n",
    "## 方程式の根を求める\n",
    "### scipy.optimize.root_scalar\n",
    "スカラー関数の根を求めます。\n",
    ">```python\n",
    ">scipy.optimize.root_scalar(f, args=(), method=None, bracket=None, fprime=None, fprime2=None,\\\n",
    ">    x0=None, x1=None, xtol=None, rtol=None, maxiter=None, options=None)\n",
    ">```"
   ]
  },
  {
   "cell_type": "markdown",
   "id": "6df24db0",
   "metadata": {},
   "source": [
    "スカラー関数の根を求めます。\n",
    "\n",
    "$$f(x) = x^2 - x -1 $$"
   ]
  },
  {
   "cell_type": "code",
   "execution_count": null,
   "id": "4466b4a7",
   "metadata": {},
   "outputs": [],
   "source": [
    "from scipy import optimize\n",
    "\n",
    "\n",
    "def f(x):\n",
    "    return x**2 - x - 1\n",
    "\n",
    "\n",
    "sol = optimize.root_scalar(f, bracket=[0, 3])  # 数値的な結果\n",
    "print(\"numerical result: \", sol.root)\n",
    "\n",
    "\n",
    "print(\"\\nanalytical result:\")\n",
    "display(Latex(\"$$ f(x) = x^2 -x - 1 = 0 \\\\Longleftrightarrow x = \\\\frac{1 \\\\pm \\\\sqrt{5}}{2} = -0.618034, 1.618034 $$\"))"
   ]
  },
  {
   "cell_type": "markdown",
   "id": "e22e4075",
   "metadata": {},
   "source": [
    "---\n",
    "### scipy.optimize.root\n",
    "ベクトル関数の根を求めます。\n",
    "\n",
    ">```python\n",
    ">scipy.optimize.root(func, x0, args=(), method='hybr', jac=None, tol=None,\n",
    ">                    callback=None, options=None)\n",
    ">```"
   ]
  },
  {
   "cell_type": "code",
   "execution_count": null,
   "id": "2a236da7",
   "metadata": {},
   "outputs": [],
   "source": [
    "def fun(x):\n",
    "    return [x[0] + 0.5 * (x[0] - x[1]) ** 3 - 1.0, 0.5 * (x[1] - x[0]) ** 3 + x[1]]\n",
    "\n",
    "\n",
    "def jac(x):  # ヤコビアン\n",
    "    return np.array(\n",
    "        [\n",
    "            [1 + 1.5 * (x[0] - x[1]) ** 2, -1.5 * (x[0] - x[1]) ** 2],\n",
    "            [-1.5 * (x[1] - x[0]) ** 2, 1 + 1.5 * (x[1] - x[0]) ** 2],\n",
    "        ]\n",
    "    )\n",
    "\n",
    "\n",
    "sol = optimize.root(fun, [0, 0], jac=jac, method=\"hybr\")\n",
    "print('numerical result: ', sol.x)"
   ]
  },
  {
   "cell_type": "markdown",
   "id": "02e425c7",
   "metadata": {},
   "source": [
    "---\n",
    "### scipy.optimize.minimize\n",
    "局所的な（多変数の）最適化\n",
    "\n",
    ">```python\n",
    ">scipy.optimize.minimize(fun, x0, args=(), method=None, jac=None, hess=None,\\\n",
    ">    hessp=None, bounds=None, constraints=(), tol=None, callback=None, options=None)\n",
    ">```"
   ]
  },
  {
   "cell_type": "markdown",
   "id": "47f2bdfb",
   "metadata": {},
   "source": [
    "次の関数の最小点を求めます。\n",
    "\n",
    "$$ f(x,y) = (1-x)^2 + 5(y-x^2)^2 $$"
   ]
  },
  {
   "cell_type": "code",
   "execution_count": null,
   "id": "72e3266d",
   "metadata": {},
   "outputs": [],
   "source": [
    "from scipy.optimize import minimize\n",
    "\n",
    "f = lambda x: (1 - x[0]) ** 2 + 5 * (x[1] - x[0] ** 2) ** 2\n",
    "x0 = [-1, -1]\n",
    "res = minimize(f, x0, method=\"CG\", options={\"disp\": True})\n",
    "print(\"\\nnumerical result: \", res.x)"
   ]
  },
  {
   "cell_type": "markdown",
   "id": "9576ff9f",
   "metadata": {},
   "source": [
    "---\n",
    "### scipy.optimize.least_squares\n",
    "最小二乗法\n",
    ">```python\n",
    ">scipy.optimize.least_squares(fun, x0, jac='2-point', bounds=(- inf, inf), method='trf', ftol=1e-08,\\\n",
    ">    xtol=1e-08, gtol=1e-08, x_scale=1.0, loss='linear', f_scale=1.0, diff_step=None, tr_solver=None,\\\n",
    ">    tr_options={}, jac_sparsity=None, max_nfev=None, verbose=0, args=(), kwargs={})\n",
    ">```"
   ]
  },
  {
   "cell_type": "markdown",
   "id": "1a79b685",
   "metadata": {},
   "source": [
    "ここでは、フィッティング問題を解きます。"
   ]
  },
  {
   "cell_type": "code",
   "execution_count": null,
   "id": "1681f075",
   "metadata": {},
   "outputs": [],
   "source": [
    "# 変数に制約がある非線形最小二乗法の問題を解きます。\n",
    "import os\n",
    "import scipy.optimize as opt\n",
    "\n",
    "# p: パラメータ、t: 時間、y: 測定データ\n",
    "fitFunc = lambda p, t: p[0] * np.exp(-p[1] * t) * np.cos(p[2] * t)\n",
    "errFunc = lambda p, t, y: fitFunc(p, t) - y\n",
    "\n",
    "np.random.seed(0)\n",
    "x = np.linspace(0, 5, 100)\n",
    "y = fitFunc([3, 0.5, 3], x) + np.random.randn(len(x)) / 3\n",
    "\n",
    "p0 = [1, 1, 1]  # パラメータの初期推定値\n",
    "(p, success) = opt.leastsq(errFunc, p0, args=(x, y))\n",
    "print(\"\\nnumerical result: \", p)\n",
    "print(\"true value: \", [3, 0.5, 3])\n",
    "nfit = fitFunc(p, x)\n",
    "\n",
    "plt.plot(x, y, label=\"Measured data\", color=\"orange\")\n",
    "plt.plot(x, nfit, label=\"fitting curve\", color=\"red\")\n",
    "plt.legend()\n",
    "plt.show()"
   ]
  }
 ],
 "metadata": {
  "jupytext": {
   "text_representation": {
    "extension": ".md",
    "format_name": "myst",
    "format_version": 0.13,
    "jupytext_version": "1.15.0"
   }
  },
  "kernelspec": {
   "display_name": "Python 3 (ipykernel)",
   "language": "python",
   "name": "python3"
  },
  "source_map": [
   12,
   20,
   26,
   34,
   41,
   47,
   66,
   84,
   91,
   102,
   108,
   122,
   133,
   149,
   160,
   166,
   173,
   184,
   188
  ]
 },
 "nbformat": 4,
 "nbformat_minor": 5
}