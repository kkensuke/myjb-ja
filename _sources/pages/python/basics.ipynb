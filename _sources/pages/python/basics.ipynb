{
 "cells": [
  {
   "cell_type": "markdown",
   "id": "0c61e834",
   "metadata": {},
   "source": [
    "# Python and Jupyterlab\n",
    "\n",
    "\n",
    "[Python](https://www.python.org/) とは、シンプルで最も人気のあるプログラミング言語であり、AIや機械学習、データ分析、データ可視化、Web、ゲームなどのさまざまな分野で使用されています。\n",
    "\n",
    "[JupyterLab](https://jupyterlab.readthedocs.io/en/stable/) は、Python プログラミングのために作られた、Web ベースの次世代型ユーザーインターフェースです。\n",
    "\n",
    "ここでは、Python の基本と JupyterLab の使い方を学ぶことができます。jupyter-lab をインストールしていない場合は、[venv](venv) を参照してください。"
   ]
  },
  {
   "cell_type": "markdown",
   "id": "41e1fbfb",
   "metadata": {},
   "source": [
    "---\n",
    "## `print()` 関数\n",
    "\n",
    "`print()` 関数は、Python で最も基本的な関数です。変数や式の値を表示するために使用されます。\n",
    "ここでは、jupyter lab(notebook) の使用方法とともに、`print()` 関数の使い方を見ていきます。"
   ]
  },
  {
   "cell_type": "markdown",
   "id": "a1d8d754",
   "metadata": {},
   "source": [
    "まずは、`print()` 関数を使って文字列 \"Hello World\" を表示してみましょう。\n",
    "jupyter lab(notebook) では、コードブロックを `cell` と呼びます。`cell` には複数行のコードを記述することができます。\n",
    "コードを実行するには、`cell` をクリックしてから `Shift+Enter` キーを押します。"
   ]
  },
  {
   "cell_type": "code",
   "execution_count": null,
   "id": "ec60e726",
   "metadata": {},
   "outputs": [],
   "source": [
    "print(\"Hello, world!\")"
   ]
  },
  {
   "cell_type": "markdown",
   "id": "47760f02",
   "metadata": {},
   "source": [
    "### コメント"
   ]
  },
  {
   "cell_type": "markdown",
   "id": "253c1c79",
   "metadata": {},
   "source": [
    "プログラミングにおいて、コードの説明をするためにコメントを書くことがあります。Python では、`#` を使ってコメントを書くことができます。\n",
    "\n",
    "複数行のコメントを書きたい場合は、`\"\"\" \"\"\"` を使ってコメントを書くことができます（実際には、これは docstrings と呼ばれます）。"
   ]
  },
  {
   "cell_type": "code",
   "execution_count": null,
   "id": "edbd4914",
   "metadata": {},
   "outputs": [],
   "source": [
    "# This is a comment. No output.\n",
    "\n",
    "\"\"\"\n",
    "    This\n",
    "    is\n",
    "    a \n",
    "    multiline\n",
    "    comment.\n",
    "\"\"\""
   ]
  },
  {
   "cell_type": "markdown",
   "id": "606e475e",
   "metadata": {},
   "source": [
    "### 算術演算"
   ]
  },
  {
   "cell_type": "code",
   "execution_count": null,
   "id": "1e6aaa3d",
   "metadata": {},
   "outputs": [],
   "source": [
    "print(1+1)"
   ]
  },
  {
   "cell_type": "markdown",
   "id": "f9d3b0a3",
   "metadata": {},
   "source": [
    "プログラミングにおいて、すべてのオブジェクトにはデータ型があります。例えば、数字の `1` はデータ型 `int` を持ちます。\n",
    "\"Hello World\" という文字列はデータ型 `str` を持ちます。データ型が異なる場合、演算は異なる方法で行われます。\n",
    "\n",
    "例えば、`+` 演算子は2つの数字を足すために使われ、`+` 演算子は2つの文字列を連結するために使われます。"
   ]
  },
  {
   "cell_type": "code",
   "execution_count": null,
   "id": "12b0d56a",
   "metadata": {},
   "outputs": [],
   "source": [
    "# 以下のように文字列を使って計算することはできません。\n",
    "print(3+4)\n",
    "print('3+4')\n",
    "print('3'+'4')"
   ]
  },
  {
   "cell_type": "code",
   "execution_count": null,
   "id": "e537e4a2",
   "metadata": {},
   "outputs": [],
   "source": [
    "# これはエラーになります。数字と文字列を足すことはできません。\n",
    "# 文字列を数字に変換するか、数字を文字列に変換する必要があります。\n",
    "print(3+'4')"
   ]
  },
  {
   "cell_type": "code",
   "execution_count": null,
   "id": "30a97b2d",
   "metadata": {},
   "outputs": [],
   "source": [
    "a = 3 # これは変数です。\n",
    "b = '4' # これは変数です。\n",
    "print(a+b) # 上のセルと同じ結果になります。"
   ]
  },
  {
   "cell_type": "code",
   "execution_count": null,
   "id": "1bbf3448",
   "metadata": {},
   "outputs": [],
   "source": [
    "# `,` を使って複数の入力を表示する\n",
    "print(a, b)"
   ]
  },
  {
   "cell_type": "code",
   "execution_count": null,
   "id": "2cd3c4ad",
   "metadata": {},
   "outputs": [],
   "source": [
    "print(a + int(b)) # これは文字列を数字に変換します。\n",
    "print(str(a) + b) # これは数字を文字列に変換します。"
   ]
  },
  {
   "cell_type": "code",
   "execution_count": null,
   "id": "9e82604b",
   "metadata": {},
   "outputs": [],
   "source": [
    "# Basic arithmetic operations\n",
    "print('足し算 1+1 = ', 1+1)\n",
    "print('引き算 5-1 = ', 5-1)\n",
    "print('掛け算 2*2 = ', 2*2)\n",
    "print('割り算 5/2 = ', 5/2)\n",
    "print('剰余 5%2 = ', 5%2)\n",
    "print('切り捨て割り算 5//2 = ', 5//2)\n",
    "print('累乗 5**2 = ', 5**2)"
   ]
  },
  {
   "cell_type": "code",
   "execution_count": null,
   "id": "c36b6c5c",
   "metadata": {},
   "outputs": [],
   "source": [
    "# 改行する代わりにセミコロンを使うこともできます。\n",
    "print('adsf'); print('asdf')"
   ]
  },
  {
   "cell_type": "markdown",
   "id": "cd368726",
   "metadata": {},
   "source": [
    "### jupyter lab の使い方"
   ]
  },
  {
   "cell_type": "markdown",
   "id": "66b0c716",
   "metadata": {},
   "source": [
    "基本的に、コードセルはコードを書くために使われます。しかし、コードセルを使ってマークダウン形式でコメントを書くこともできます。\n",
    "マークダウン形式で書きたい場合は、セルの周りを右クリックして `m` を押してから `Shift+Enter` を押します。コード形式に戻すには `y` を押します。\n",
    "また、`a` または `b` を押すことで新しいセルを追加することができます（`a` は上に、`b` は下に追加されます）。\n",
    "その他の操作; `x`; セルを切り取る。`c`（複数のセルをコピーする場合は Shift + `c`）; セルをコピーする。`v`; セルを貼り付ける。`z`; 元に戻す。\n",
    "\n",
    "[マークダウンの使い方](../basic/markdown.md)"
   ]
  },
  {
   "cell_type": "markdown",
   "id": "ad501fe7",
   "metadata": {},
   "source": [
    "---\n",
    "## コレクション（リスト、タプル、セット、辞書）\n",
    "\n",
    "リスト、タプル、セット、辞書は、データを異なる方法で保存するために使われます。"
   ]
  },
  {
   "cell_type": "code",
   "execution_count": null,
   "id": "bf6a165b",
   "metadata": {},
   "outputs": [],
   "source": [
    "l = [3,4,5]\n",
    "index = 0 # インデックスは 0 から始まります。\n",
    "print(l[index])\n",
    "\n",
    "l[1] = 7 # リストの要素の値は、変更することができます。\n",
    "print(l)"
   ]
  },
  {
   "cell_type": "code",
   "execution_count": null,
   "id": "05fe4385",
   "metadata": {},
   "outputs": [],
   "source": [
    "# リストの要素には、異なるデータ型のデータを使うことができます。\n",
    "l = [3,4,5,'a','b','c', True, False, [1,2,3]]"
   ]
  },
  {
   "cell_type": "code",
   "execution_count": null,
   "id": "cd5f147d",
   "metadata": {},
   "outputs": [],
   "source": [
    "t = (3,4,5)\n",
    "\n",
    "t[2] = 7\n",
    "# タプルの要素の値は、変更することができません。\n",
    "# しかし、タプルはリストよりもメモリを少ない使います。"
   ]
  },
  {
   "cell_type": "code",
   "execution_count": null,
   "id": "be52b486",
   "metadata": {},
   "outputs": [],
   "source": [
    "s = {3,4,5,5}\n",
    "print(s)"
   ]
  },
  {
   "cell_type": "code",
   "execution_count": null,
   "id": "fa6a18d1",
   "metadata": {},
   "outputs": [],
   "source": [
    "d = {'a':3,'b':4,'c':5}\n",
    "print(d['a'])\n",
    "\n",
    "d['a'] = 6 # 辞書の要素の値は、変更することができます。\n",
    "d['d'] = 7 # 辞書には新しいキーと値のペアを追加することができます。\n",
    "print(d)\n",
    "\n",
    "print(d.items()) # `items()` は、辞書のすべてのキーと値のペアをリストとして返します。\n",
    "print(d.keys()) # `keys()` は、辞書のすべてのキーをリストとして返します。\n",
    "print(d.values()) # `values()` は、辞書のすべての値をリストとして返します。"
   ]
  },
  {
   "cell_type": "markdown",
   "id": "be511f0b",
   "metadata": {},
   "source": [
    "---\n",
    "## ファイルを開く"
   ]
  },
  {
   "cell_type": "code",
   "execution_count": null,
   "id": "f07a2b87",
   "metadata": {},
   "outputs": [],
   "source": [
    "path = './sample.txt'\n",
    "with open(path) as f:\n",
    "    l = f.readlines()\n",
    "    print(l)\n",
    "    for i in range(len(l)):\n",
    "        print(l[i])"
   ]
  },
  {
   "cell_type": "markdown",
   "id": "7b951e0f",
   "metadata": {},
   "source": [
    "---\n",
    "## For ループ\n",
    "\n",
    "`for loop` は、コレクションの要素を反復処理するために使われます。"
   ]
  },
  {
   "cell_type": "code",
   "execution_count": null,
   "id": "e8cca4df",
   "metadata": {},
   "outputs": [],
   "source": [
    "for i in range(5):\n",
    "    print(i)\n",
    "# インデックスは 0 から始まります。"
   ]
  },
  {
   "cell_type": "code",
   "execution_count": null,
   "id": "65e59b55",
   "metadata": {},
   "outputs": [],
   "source": [
    "for i in range(5,10):\n",
    "    print(i)\n",
    "# インデックスは 5 から始まります。\n",
    "# cf. range(5,13,2)"
   ]
  },
  {
   "cell_type": "code",
   "execution_count": null,
   "id": "de9e1b7e",
   "metadata": {},
   "outputs": [],
   "source": [
    "items = ['a','b','c','d','e']\n",
    "for i in items:\n",
    "    print(i)\n",
    "# `for loop` は、リスト、タプル、辞書、文字列などを反復処理するために使われます。\n",
    "\n",
    "print('-------------------------------')\n",
    "for i in range(len(items)):\n",
    "    print(items[i])"
   ]
  },
  {
   "cell_type": "code",
   "execution_count": null,
   "id": "ce6bfd52",
   "metadata": {},
   "outputs": [],
   "source": [
    "for i, item in enumerate(items):\n",
    "    print(i, item)"
   ]
  },
  {
   "cell_type": "code",
   "execution_count": null,
   "id": "1aa91b10",
   "metadata": {},
   "outputs": [],
   "source": [
    "for _ in range(5):\n",
    "    print('Hello')"
   ]
  },
  {
   "cell_type": "markdown",
   "id": "86c809e4",
   "metadata": {},
   "source": [
    "---\n",
    "## 内包表記"
   ]
  },
  {
   "cell_type": "code",
   "execution_count": null,
   "id": "684b7b66",
   "metadata": {},
   "outputs": [],
   "source": [
    "[i for i in range(5)]"
   ]
  },
  {
   "cell_type": "code",
   "execution_count": null,
   "id": "291df0d1",
   "metadata": {},
   "outputs": [],
   "source": [
    "data = [3,14,23,28,35,46,55,65,76,87,98,109,120,131,142]\n",
    "[x*10 for x in data]"
   ]
  },
  {
   "cell_type": "code",
   "execution_count": null,
   "id": "f2991892",
   "metadata": {},
   "outputs": [],
   "source": [
    "[x for x in data if x%2==0]"
   ]
  },
  {
   "cell_type": "code",
   "execution_count": null,
   "id": "09624826",
   "metadata": {},
   "outputs": [],
   "source": [
    "[x if x>50 else x*10 for x in data]"
   ]
  },
  {
   "cell_type": "markdown",
   "id": "c1a8fc79",
   "metadata": {},
   "source": [
    "リスト内包表記は、以下のように使うこともできますが、読みにくくなるのでおすすめしません。"
   ]
  },
  {
   "cell_type": "code",
   "execution_count": null,
   "id": "d08ddc5e",
   "metadata": {},
   "outputs": [],
   "source": [
    "import numpy as np # これはモジュールです。NumPy は、配列を扱うための多くの便利な関数を含むパッケージです。\n",
    "a = np.arange(1,51)\n",
    "fizz_buzz = ['fizzbuzz' if x%3==0 and x%5==0 else 'fizz' if x%3==0 else 'buzz' if x%5==0 else x for x in a]\n",
    "print(fizz_buzz)"
   ]
  },
  {
   "cell_type": "markdown",
   "id": "00286123",
   "metadata": {},
   "source": [
    "---\n",
    "## 関数\n",
    "\n",
    "`function` は、入力を受け取り、出力を返すコードのブロックです。呼び出されたときにのみ実行されます。\n",
    "実際には、私たちが書くコードのほとんどは、関数で構成されています。"
   ]
  },
  {
   "cell_type": "code",
   "execution_count": null,
   "id": "ffb05e83",
   "metadata": {},
   "outputs": [],
   "source": [
    "def print_hello():\n",
    "    print('Hello, world!')"
   ]
  },
  {
   "cell_type": "code",
   "execution_count": null,
   "id": "711f43b9",
   "metadata": {},
   "outputs": [],
   "source": [
    "print_hello()"
   ]
  },
  {
   "cell_type": "code",
   "execution_count": null,
   "id": "02ba327b",
   "metadata": {},
   "outputs": [],
   "source": [
    "def myfunc(arg1, arg2):\n",
    "    for i in range(arg1):\n",
    "        print(arg2)\n",
    "\n",
    "myfunc(3, 'Hello')\n",
    "# = myfunc(arg1=3, arg2='Hello')"
   ]
  },
  {
   "cell_type": "code",
   "execution_count": null,
   "id": "6f8d7966",
   "metadata": {},
   "outputs": [],
   "source": [
    "import numpy as np\n",
    "import matplotlib.pyplot as plt # Matplotlib は、グラフを描画するための多くの便利な関数を含むパッケージです。\n",
    "\n",
    "x = np.linspace(0,10, 100)\n",
    "y = np.sin(x)\n",
    "\n",
    "print(x[:5])\n",
    "print(y[:5])"
   ]
  },
  {
   "cell_type": "code",
   "execution_count": null,
   "id": "bcd0a254",
   "metadata": {},
   "outputs": [],
   "source": [
    "plt.plot(x,y)\n",
    "plt.title('sin')\n",
    "plt.show()"
   ]
  },
  {
   "cell_type": "markdown",
   "id": "7f2c299e",
   "metadata": {},
   "source": [
    "### ラムダ関数"
   ]
  },
  {
   "cell_type": "markdown",
   "id": "bace102f",
   "metadata": {},
   "source": [
    "$$ f(x) = x^2 $$"
   ]
  },
  {
   "cell_type": "code",
   "execution_count": null,
   "id": "30d2f09c",
   "metadata": {},
   "outputs": [],
   "source": [
    "f = lambda x: x**2\n",
    "\n",
    "print(f(3))"
   ]
  },
  {
   "cell_type": "markdown",
   "id": "fcfdf042",
   "metadata": {},
   "source": [
    "## 参考資料\n",
    "[Python Beginners Guide](https://wiki.python.org/moin/BeginnersGuide/Programmers)"
   ]
  }
 ],
 "metadata": {
  "jupytext": {
   "text_representation": {
    "extension": ".md",
    "format_name": "myst",
    "format_version": 0.13,
    "jupytext_version": "1.15.0"
   }
  },
  "kernelspec": {
   "display_name": "Python 3.8.9 ('venv': venv)",
   "language": "python",
   "name": "python3"
  },
  "source_map": [
   12,
   23,
   31,
   37,
   39,
   43,
   49,
   59,
   63,
   65,
   72,
   79,
   85,
   91,
   96,
   101,
   112,
   115,
   119,
   128,
   135,
   144,
   149,
   157,
   162,
   173,
   178,
   185,
   192,
   198,
   205,
   216,
   221,
   224,
   229,
   233,
   238,
   242,
   244,
   248,
   253,
   261,
   266,
   270,
   279,
   290,
   294,
   298,
   302,
   306
  ]
 },
 "nbformat": 4,
 "nbformat_minor": 5
}