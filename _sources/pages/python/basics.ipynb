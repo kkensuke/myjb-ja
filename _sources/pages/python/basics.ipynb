{
 "cells": [
  {
   "cell_type": "markdown",
   "id": "6974fb2c",
   "metadata": {},
   "source": [
    "# Python and Jupyterlab\n",
    "\n",
    "> Python is a clear and powerful object-oriented programming language. - python doc\n",
    "\n",
    "> JupyterLab is a flexible, extensible interface for interactive computing. - jupyter doc\n",
    "\n",
    "[Python](https://www.python.org/) is a simple and most popular programming language and used in many fields like AI and machine learning, Data analytics, Data visualization, Web, Game, and so on.\n",
    "\n",
    "[JupyterLab](https://jupyterlab.readthedocs.io/en/stable/) is a next-generation web-based user interface for python programming.\n",
    "\n",
    "Here, you can learn basics of python and usage of JupyterLab. If you have not installed jupyter-lab, refer to [venv](venv)."
   ]
  },
  {
   "cell_type": "markdown",
   "id": "4f011204",
   "metadata": {},
   "source": [
    "---\n",
    "## print() function\n",
    "\n",
    "`print()` function is the most basic function in python. It is used to print the value of any variable or expression.\n",
    "Here, we will see how to use `print()` function with the usage of jupyter lab(notebook)."
   ]
  },
  {
   "cell_type": "markdown",
   "id": "649e5179",
   "metadata": {},
   "source": [
    "To begin with, let us print string \"Hello World\" using `print()` function. \n",
    "In jupyter lab(notebook), a code block is called a `cell`. A cell can contain multiple lines of code.\n",
    "To execute the code, click on the cell(colored in blue(jupyter notebook:green)) and press `Shift+Enter` key."
   ]
  },
  {
   "cell_type": "code",
   "execution_count": 1,
   "id": "03935edd",
   "metadata": {},
   "outputs": [
    {
     "name": "stdout",
     "output_type": "stream",
     "text": [
      "Hello, world!\n"
     ]
    }
   ],
   "source": [
    "print(\"Hello, world!\")"
   ]
  },
  {
   "cell_type": "markdown",
   "id": "05344097",
   "metadata": {},
   "source": [
    "### comment"
   ]
  },
  {
   "cell_type": "markdown",
   "id": "15d242c0",
   "metadata": {},
   "source": [
    "When programming, we often put some comments to explain the code. In python, we can use `#` to write  comments.\n",
    "\n",
    "If you want to comment out multiple lines, you can use `\"\"\" \"\"\"` to write comments (actually, this is called docstrings)."
   ]
  },
  {
   "cell_type": "code",
   "execution_count": 2,
   "id": "de96c04c",
   "metadata": {},
   "outputs": [
    {
     "data": {
      "text/plain": [
       "'\\n    This\\n    is\\n    a \\n    multiline\\n    comment.\\n'"
      ]
     },
     "execution_count": 2,
     "metadata": {},
     "output_type": "execute_result"
    }
   ],
   "source": [
    "# This is a comment. No output.\n",
    "\n",
    "\"\"\"\n",
    "    This\n",
    "    is\n",
    "    a \n",
    "    multiline\n",
    "    comment.\n",
    "\"\"\""
   ]
  },
  {
   "cell_type": "markdown",
   "id": "d8fd57d2",
   "metadata": {},
   "source": [
    "### Arithmetic operations"
   ]
  },
  {
   "cell_type": "code",
   "execution_count": 3,
   "id": "4000a436",
   "metadata": {},
   "outputs": [
    {
     "name": "stdout",
     "output_type": "stream",
     "text": [
      "2\n"
     ]
    }
   ],
   "source": [
    "print(1+1)"
   ]
  },
  {
   "cell_type": "markdown",
   "id": "094925ac",
   "metadata": {},
   "source": [
    "In programming, every object has a data type. For example, the number `1` has the data type `int`.\n",
    "The \"Hello World\" string has the data type `str`. If the data types are different, the operations will be performed differently.\n",
    "\n",
    "For example, `+` operator is used to add two numbers, and `+` operator is used to concatenate two strings."
   ]
  },
  {
   "cell_type": "code",
   "execution_count": 4,
   "id": "591f9a12",
   "metadata": {},
   "outputs": [
    {
     "name": "stdout",
     "output_type": "stream",
     "text": [
      "7\n",
      "3+4\n",
      "34\n"
     ]
    }
   ],
   "source": [
    "# you cannot use strings to do math.\n",
    "print(3+4)\n",
    "print('3+4')\n",
    "print('3'+'4')"
   ]
  },
  {
   "cell_type": "code",
   "execution_count": 5,
   "id": "161af97b",
   "metadata": {},
   "outputs": [
    {
     "ename": "TypeError",
     "evalue": "unsupported operand type(s) for +: 'int' and 'str'",
     "output_type": "error",
     "traceback": [
      "\u001b[0;31m---------------------------------------------------------------------------\u001b[0m",
      "\u001b[0;31mTypeError\u001b[0m                                 Traceback (most recent call last)",
      "Cell \u001b[0;32mIn [5], line 3\u001b[0m\n\u001b[1;32m      1\u001b[0m \u001b[38;5;66;03m# This will be an error. You can't add a number and a string. \u001b[39;00m\n\u001b[1;32m      2\u001b[0m \u001b[38;5;66;03m# You need to convert the string to a number or vice versa.\u001b[39;00m\n\u001b[0;32m----> 3\u001b[0m \u001b[38;5;28mprint\u001b[39m(\u001b[38;5;241;43m3\u001b[39;49m\u001b[38;5;241;43m+\u001b[39;49m\u001b[38;5;124;43m'\u001b[39;49m\u001b[38;5;124;43m4\u001b[39;49m\u001b[38;5;124;43m'\u001b[39;49m)\n",
      "\u001b[0;31mTypeError\u001b[0m: unsupported operand type(s) for +: 'int' and 'str'"
     ]
    }
   ],
   "source": [
    "# This will be an error. You can't add a number and a string. \n",
    "# You need to convert the string to a number or vice versa.\n",
    "print(3+'4')"
   ]
  },
  {
   "cell_type": "code",
   "execution_count": 6,
   "id": "c2ea4115",
   "metadata": {},
   "outputs": [
    {
     "ename": "TypeError",
     "evalue": "unsupported operand type(s) for +: 'int' and 'str'",
     "output_type": "error",
     "traceback": [
      "\u001b[0;31m---------------------------------------------------------------------------\u001b[0m",
      "\u001b[0;31mTypeError\u001b[0m                                 Traceback (most recent call last)",
      "Cell \u001b[0;32mIn [6], line 3\u001b[0m\n\u001b[1;32m      1\u001b[0m a \u001b[38;5;241m=\u001b[39m \u001b[38;5;241m3\u001b[39m \u001b[38;5;66;03m# This is a variable. \u001b[39;00m\n\u001b[1;32m      2\u001b[0m b \u001b[38;5;241m=\u001b[39m \u001b[38;5;124m'\u001b[39m\u001b[38;5;124m4\u001b[39m\u001b[38;5;124m'\u001b[39m\n\u001b[0;32m----> 3\u001b[0m \u001b[38;5;28mprint\u001b[39m(\u001b[43ma\u001b[49m\u001b[38;5;241;43m+\u001b[39;49m\u001b[43mb\u001b[49m)\n",
      "\u001b[0;31mTypeError\u001b[0m: unsupported operand type(s) for +: 'int' and 'str'"
     ]
    }
   ],
   "source": [
    "a = 3 # This is a variable. \n",
    "b = '4'\n",
    "print(a+b) # This will be the same as the above cell."
   ]
  },
  {
   "cell_type": "code",
   "execution_count": 7,
   "id": "42ba2df7",
   "metadata": {},
   "outputs": [
    {
     "name": "stdout",
     "output_type": "stream",
     "text": [
      "3 4\n"
     ]
    }
   ],
   "source": [
    "# print out several inputs with `,`\n",
    "print(a, b)"
   ]
  },
  {
   "cell_type": "code",
   "execution_count": 8,
   "id": "229e96ac",
   "metadata": {},
   "outputs": [
    {
     "name": "stdout",
     "output_type": "stream",
     "text": [
      "7\n",
      "34\n"
     ]
    }
   ],
   "source": [
    "print(a + int(b)) # This will convert the string to a number.\n",
    "print(str(a) + b) # This will convert the number to a string."
   ]
  },
  {
   "cell_type": "code",
   "execution_count": 9,
   "id": "fd68ff34",
   "metadata": {},
   "outputs": [
    {
     "name": "stdout",
     "output_type": "stream",
     "text": [
      "addition 1+1 =  2\n",
      "subtraction 5-1 =  4\n",
      "multiplication 2*2 =  4\n",
      "division 5/2 =  2.5\n",
      "modulus 5%2 =  1\n",
      "floor division 5//2 =  2\n",
      "exponentiation 5**2 =  25\n"
     ]
    }
   ],
   "source": [
    "# Basic arithmetic operations\n",
    "print('addition 1+1 = ', 1+1)\n",
    "print('subtraction 5-1 = ', 5-1)\n",
    "print('multiplication 2*2 = ', 2*2)\n",
    "print('division 5/2 = ', 5/2)\n",
    "print('modulus 5%2 = ', 5%2)\n",
    "print('floor division 5//2 = ', 5//2)\n",
    "print('exponentiation 5**2 = ', 5**2)"
   ]
  },
  {
   "cell_type": "code",
   "execution_count": 10,
   "id": "ed6de168",
   "metadata": {},
   "outputs": [
    {
     "name": "stdout",
     "output_type": "stream",
     "text": [
      "adsf\n",
      "asdf\n"
     ]
    }
   ],
   "source": [
    "# Instead of using a new line, you can use a semicolon.\n",
    "print('adsf'); print('asdf')"
   ]
  },
  {
   "cell_type": "markdown",
   "id": "daa374c9",
   "metadata": {},
   "source": [
    "### jupyter lab usage"
   ]
  },
  {
   "cell_type": "markdown",
   "id": "4997dae1",
   "metadata": {},
   "source": [
    "Basically, code cells are used to write code. However, we can also use code cells to write comments in markdown format.\n",
    "If you want to write in markdown format, right click around the cell and press `m`, then `Shift+Enter`. You go back to code format by pressing `y`.\n",
    "Moreover, you can add a new cell by pressing `a` or `b`(`a` is for above, `b` is for below). \n",
    "Others; `x`; cut a cell. `c` (Shift + `c` to copy multi cells); copy a cell. `v`; paste a cell. `z`; undo. \n",
    "\n",
    "[Markdown usage](../basic/markdown.md)"
   ]
  },
  {
   "cell_type": "markdown",
   "id": "2aefabef",
   "metadata": {},
   "source": [
    "---\n",
    "## Collections(list, tuple, set, dictionary)\n",
    "\n",
    "List, tuple, set, dictionary are used to store data in different ways."
   ]
  },
  {
   "cell_type": "code",
   "execution_count": 11,
   "id": "d8d2fc34",
   "metadata": {},
   "outputs": [
    {
     "name": "stdout",
     "output_type": "stream",
     "text": [
      "3\n",
      "[3, 7, 5]\n"
     ]
    }
   ],
   "source": [
    "l = [3,4,5]\n",
    "index = 0 # index starts with 0\n",
    "print(l[index])\n",
    "\n",
    "l[1] = 7 # You can change the value of an element in a list.\n",
    "print(l)"
   ]
  },
  {
   "cell_type": "code",
   "execution_count": 12,
   "id": "ab791f79",
   "metadata": {},
   "outputs": [],
   "source": [
    "# You can use different types of data in a list.\n",
    "l = [3,4,5,'a','b','c', True, False, [1,2,3]]"
   ]
  },
  {
   "cell_type": "code",
   "execution_count": 13,
   "id": "ce3e5886",
   "metadata": {},
   "outputs": [
    {
     "ename": "TypeError",
     "evalue": "'tuple' object does not support item assignment",
     "output_type": "error",
     "traceback": [
      "\u001b[0;31m---------------------------------------------------------------------------\u001b[0m",
      "\u001b[0;31mTypeError\u001b[0m                                 Traceback (most recent call last)",
      "Cell \u001b[0;32mIn [13], line 3\u001b[0m\n\u001b[1;32m      1\u001b[0m t \u001b[38;5;241m=\u001b[39m (\u001b[38;5;241m3\u001b[39m,\u001b[38;5;241m4\u001b[39m,\u001b[38;5;241m5\u001b[39m)\n\u001b[0;32m----> 3\u001b[0m \u001b[43mt\u001b[49m\u001b[43m[\u001b[49m\u001b[38;5;241;43m2\u001b[39;49m\u001b[43m]\u001b[49m \u001b[38;5;241m=\u001b[39m \u001b[38;5;241m7\u001b[39m\n",
      "\u001b[0;31mTypeError\u001b[0m: 'tuple' object does not support item assignment"
     ]
    }
   ],
   "source": [
    "t = (3,4,5)\n",
    "\n",
    "t[2] = 7\n",
    "# You can't change the value of an element in a tuple.\n",
    "# However, a tuple uses less memory than a list."
   ]
  },
  {
   "cell_type": "code",
   "execution_count": 14,
   "id": "fdd9e03f",
   "metadata": {},
   "outputs": [
    {
     "name": "stdout",
     "output_type": "stream",
     "text": [
      "{3, 4, 5}\n"
     ]
    }
   ],
   "source": [
    "s = {3,4,5,5}\n",
    "print(s)"
   ]
  },
  {
   "cell_type": "code",
   "execution_count": 15,
   "id": "7c3520d9",
   "metadata": {},
   "outputs": [
    {
     "name": "stdout",
     "output_type": "stream",
     "text": [
      "3\n",
      "{'a': 6, 'b': 4, 'c': 5, 'd': 7}\n",
      "dict_items([('a', 6), ('b', 4), ('c', 5), ('d', 7)])\n",
      "dict_keys(['a', 'b', 'c', 'd'])\n",
      "dict_values([6, 4, 5, 7])\n"
     ]
    }
   ],
   "source": [
    "d = {'a':3,'b':4,'c':5}\n",
    "print(d['a'])\n",
    "\n",
    "d['a'] = 6 # You can change the value of an element in a dictionary.\n",
    "d['d'] = 7 # You can add a new key-value pair to a dictionary.\n",
    "print(d)\n",
    "\n",
    "print(d.items()) # This will return a list of all the key-value pairs in the dictionary.\n",
    "print(d.keys()) # This will return a list of all the keys in the dictionary.\n",
    "print(d.values()) # This will return a list of all the values in the dictionary."
   ]
  },
  {
   "cell_type": "markdown",
   "id": "83e5eb93",
   "metadata": {},
   "source": [
    "---\n",
    "## Open a file"
   ]
  },
  {
   "cell_type": "code",
   "execution_count": 16,
   "id": "2767efdd",
   "metadata": {},
   "outputs": [
    {
     "name": "stdout",
     "output_type": "stream",
     "text": [
      "['One\\n', 'Two\\n', 'Three\\n']\n",
      "One\n",
      "\n",
      "Two\n",
      "\n",
      "Three\n",
      "\n"
     ]
    }
   ],
   "source": [
    "path = './sample.txt'\n",
    "with open(path) as f:\n",
    "    l = f.readlines()\n",
    "    print(l)\n",
    "    for i in range(len(l)):\n",
    "        print(l[i])"
   ]
  },
  {
   "cell_type": "markdown",
   "id": "f02f7fb5",
   "metadata": {},
   "source": [
    "---\n",
    "## For loops\n",
    "\n",
    "`for loop` is used to iterate over a collection of items."
   ]
  },
  {
   "cell_type": "code",
   "execution_count": 17,
   "id": "410825fa",
   "metadata": {},
   "outputs": [
    {
     "name": "stdout",
     "output_type": "stream",
     "text": [
      "0\n",
      "1\n",
      "2\n",
      "3\n",
      "4\n"
     ]
    }
   ],
   "source": [
    "for i in range(5):\n",
    "    print(i)\n",
    "# Index starts at 0."
   ]
  },
  {
   "cell_type": "code",
   "execution_count": 18,
   "id": "11c98149",
   "metadata": {},
   "outputs": [
    {
     "name": "stdout",
     "output_type": "stream",
     "text": [
      "5\n",
      "6\n",
      "7\n",
      "8\n",
      "9\n"
     ]
    }
   ],
   "source": [
    "for i in range(5,10):\n",
    "    print(i)\n",
    "# Index starts at 5.\n",
    "# cf. range(5,13,2)"
   ]
  },
  {
   "cell_type": "code",
   "execution_count": 19,
   "id": "c8d77b88",
   "metadata": {},
   "outputs": [
    {
     "name": "stdout",
     "output_type": "stream",
     "text": [
      "a\n",
      "b\n",
      "c\n",
      "d\n",
      "e\n",
      "-------------------------------\n",
      "a\n",
      "b\n",
      "c\n",
      "d\n",
      "e\n"
     ]
    }
   ],
   "source": [
    "items = ['a','b','c','d','e']\n",
    "for i in items:\n",
    "    print(i)\n",
    "# You can use a for loop to iterate over a list, tuple, dictionary, string, and so on.\n",
    "\n",
    "print('-------------------------------')\n",
    "for i in range(len(items)):\n",
    "    print(items[i])"
   ]
  },
  {
   "cell_type": "code",
   "execution_count": 20,
   "id": "4366bcee",
   "metadata": {},
   "outputs": [
    {
     "name": "stdout",
     "output_type": "stream",
     "text": [
      "0 a\n",
      "1 b\n",
      "2 c\n",
      "3 d\n",
      "4 e\n"
     ]
    }
   ],
   "source": [
    "for i, item in enumerate(items):\n",
    "    print(i, item)"
   ]
  },
  {
   "cell_type": "code",
   "execution_count": 21,
   "id": "5bcdcf04",
   "metadata": {},
   "outputs": [
    {
     "name": "stdout",
     "output_type": "stream",
     "text": [
      "Hello\n",
      "Hello\n",
      "Hello\n",
      "Hello\n",
      "Hello\n"
     ]
    }
   ],
   "source": [
    "for _ in range(5):\n",
    "    print('Hello')"
   ]
  },
  {
   "cell_type": "markdown",
   "id": "b32c018a",
   "metadata": {},
   "source": [
    "---\n",
    "## Comprehension"
   ]
  },
  {
   "cell_type": "code",
   "execution_count": 22,
   "id": "0fff3189",
   "metadata": {},
   "outputs": [
    {
     "data": {
      "text/plain": [
       "[0, 1, 2, 3, 4]"
      ]
     },
     "execution_count": 22,
     "metadata": {},
     "output_type": "execute_result"
    }
   ],
   "source": [
    "[i for i in range(5)]"
   ]
  },
  {
   "cell_type": "code",
   "execution_count": 23,
   "id": "791d715a",
   "metadata": {},
   "outputs": [
    {
     "data": {
      "text/plain": [
       "[30, 140, 230, 280, 350, 460, 550, 650, 760, 870, 980, 1090, 1200, 1310, 1420]"
      ]
     },
     "execution_count": 23,
     "metadata": {},
     "output_type": "execute_result"
    }
   ],
   "source": [
    "data = [3,14,23,28,35,46,55,65,76,87,98,109,120,131,142]\n",
    "[x*10 for x in data]"
   ]
  },
  {
   "cell_type": "code",
   "execution_count": 24,
   "id": "dfd70cb0",
   "metadata": {},
   "outputs": [
    {
     "data": {
      "text/plain": [
       "[14, 28, 46, 76, 98, 120, 142]"
      ]
     },
     "execution_count": 24,
     "metadata": {},
     "output_type": "execute_result"
    }
   ],
   "source": [
    "[x for x in data if x%2==0]"
   ]
  },
  {
   "cell_type": "code",
   "execution_count": 25,
   "id": "08d69f22",
   "metadata": {},
   "outputs": [
    {
     "data": {
      "text/plain": [
       "[30, 140, 230, 280, 350, 460, 55, 65, 76, 87, 98, 109, 120, 131, 142]"
      ]
     },
     "execution_count": 25,
     "metadata": {},
     "output_type": "execute_result"
    }
   ],
   "source": [
    "[x if x>50 else x*10 for x in data]"
   ]
  },
  {
   "cell_type": "markdown",
   "id": "87862b66",
   "metadata": {},
   "source": [
    "You can use list comprehension like below but it is not recommended because it is hard to read."
   ]
  },
  {
   "cell_type": "code",
   "execution_count": 26,
   "id": "39ed7390",
   "metadata": {},
   "outputs": [
    {
     "name": "stdout",
     "output_type": "stream",
     "text": [
      "[1, 2, 'fizz', 4, 'buzz', 'fizz', 7, 8, 'fizz', 'buzz', 11, 'fizz', 13, 14, 'fizzbuzz', 16, 17, 'fizz', 19, 'buzz', 'fizz', 22, 23, 'fizz', 'buzz', 26, 'fizz', 28, 29, 'fizzbuzz', 31, 32, 'fizz', 34, 'buzz', 'fizz', 37, 38, 'fizz', 'buzz', 41, 'fizz', 43, 44, 'fizzbuzz', 46, 47, 'fizz', 49, 'buzz']\n"
     ]
    }
   ],
   "source": [
    "import numpy as np # This is a module. NumPy is a package that contains many useful functions for working with arrays.\n",
    "a = np.arange(1,51)\n",
    "fizz_buzz = ['fizzbuzz' if x%3==0 and x%5==0 else 'fizz' if x%3==0 else 'buzz' if x%5==0 else x for x in a]\n",
    "print(fizz_buzz)"
   ]
  },
  {
   "cell_type": "markdown",
   "id": "f4aff548",
   "metadata": {},
   "source": [
    "---\n",
    "## Functions\n",
    "\n",
    "`function` is a block of code which take inputs and returns outputs. It only runs when it is called. \n",
    "Actually, most code we write consists of functions."
   ]
  },
  {
   "cell_type": "code",
   "execution_count": 27,
   "id": "49dd0960",
   "metadata": {},
   "outputs": [],
   "source": [
    "def print_hello():\n",
    "    print('Hello, world!')"
   ]
  },
  {
   "cell_type": "code",
   "execution_count": 28,
   "id": "3c755612",
   "metadata": {},
   "outputs": [
    {
     "name": "stdout",
     "output_type": "stream",
     "text": [
      "Hello, world!\n"
     ]
    }
   ],
   "source": [
    "print_hello()"
   ]
  },
  {
   "cell_type": "code",
   "execution_count": 29,
   "id": "1010d0e0",
   "metadata": {},
   "outputs": [
    {
     "name": "stdout",
     "output_type": "stream",
     "text": [
      "Hello\n",
      "Hello\n",
      "Hello\n"
     ]
    }
   ],
   "source": [
    "def myfunc(arg1, arg2):\n",
    "    for i in range(arg1):\n",
    "        print(arg2)\n",
    "\n",
    "myfunc(3, 'Hello')\n",
    "# = myfunc(arg1=3, arg2='Hello')"
   ]
  },
  {
   "cell_type": "code",
   "execution_count": 30,
   "id": "c6293791",
   "metadata": {},
   "outputs": [
    {
     "name": "stdout",
     "output_type": "stream",
     "text": [
      "[0.        0.1010101 0.2020202 0.3030303 0.4040404]\n",
      "[0.         0.10083842 0.20064886 0.2984138  0.39313661]\n"
     ]
    }
   ],
   "source": [
    "import numpy as np # NumPy is a package that contains many useful functions for working with arrays.\n",
    "import matplotlib.pyplot as plt # Matplotlib is a package that contains many useful functions for plotting.\n",
    "\n",
    "x = np.linspace(0,10, 100)\n",
    "y = np.sin(x)\n",
    "\n",
    "print(x[:5])\n",
    "print(y[:5])"
   ]
  },
  {
   "cell_type": "code",
   "execution_count": 31,
   "id": "ecf61794",
   "metadata": {},
   "outputs": [
    {
     "data": {
      "image/png": "[encoded data removed]",
      "text/plain": [
       "<Figure size 640x480 with 1 Axes>"
      ]
     },
     "metadata": {},
     "output_type": "display_data"
    }
   ],
   "source": [
    "plt.plot(x,y)\n",
    "plt.title('sin')\n",
    "plt.show()"
   ]
  },
  {
   "cell_type": "markdown",
   "id": "372c7a73",
   "metadata": {},
   "source": [
    "### lambda functions"
   ]
  },
  {
   "cell_type": "markdown",
   "id": "835224ed",
   "metadata": {},
   "source": [
    "$$ f(x) = x^2 $$"
   ]
  },
  {
   "cell_type": "code",
   "execution_count": 32,
   "id": "dd018261",
   "metadata": {},
   "outputs": [
    {
     "name": "stdout",
     "output_type": "stream",
     "text": [
      "9\n"
     ]
    }
   ],
   "source": [
    "f = lambda x: x**2\n",
    "\n",
    "print(f(3))"
   ]
  },
  {
   "cell_type": "markdown",
   "id": "235de00d",
   "metadata": {},
   "source": [
    "## Reference\n",
    "[Python Beginners Guide](https://wiki.python.org/moin/BeginnersGuide/Programmers)"
   ]
  }
 ],
 "metadata": {
  "jupytext": {
   "text_representation": {
    "extension": ".md",
    "format_name": "myst",
    "format_version": 0.13,
    "jupytext_version": "1.15.0"
   }
  },
  "kernelspec": {
   "display_name": "Python 3.8.9 ('venv': venv)",
   "language": "python",
   "name": "python3"
  },
  "language_info": {
   "codemirror_mode": {
    "name": "ipython",
    "version": 3
   },
   "file_extension": ".py",
   "mimetype": "text/x-python",
   "name": "python",
   "nbconvert_exporter": "python",
   "pygments_lexer": "ipython3",
   "version": "3.9.6"
  },
  "source_map": [
   12,
   26,
   34,
   40,
   42,
   46,
   52,
   62,
   66,
   68,
   75,
   82,
   88,
   94,
   99,
   104,
   115,
   118,
   122,
   131,
   138,
   147,
   152,
   160,
   165,
   176,
   181,
   188,
   195,
   201,
   208,
   219,
   224,
   227,
   232,
   236,
   241,
   245,
   247,
   251,
   256,
   264,
   269,
   273,
   282,
   293,
   297,
   301,
   305,
   309
  ]
 },
 "nbformat": 4,
 "nbformat_minor": 5
}