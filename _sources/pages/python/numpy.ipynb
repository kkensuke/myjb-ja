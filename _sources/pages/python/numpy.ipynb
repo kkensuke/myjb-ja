{
 "cells": [
  {
   "cell_type": "markdown",
   "id": "74f70bc7",
   "metadata": {},
   "source": [
    "# Numpy\n",
    "\n",
    "Numpy is a Python library for scientific computing. It provides high-performance multidimensional arrays and matrices, and efficient tools for working with these objects."
   ]
  },
  {
   "cell_type": "code",
   "execution_count": 1,
   "id": "0e36dc73",
   "metadata": {},
   "outputs": [],
   "source": [
    "import numpy as np"
   ]
  },
  {
   "cell_type": "markdown",
   "id": "28af16f5",
   "metadata": {},
   "source": [
    "## Create numpy arrays"
   ]
  },
  {
   "cell_type": "markdown",
   "id": "d40d2641",
   "metadata": {},
   "source": [
    "A basic way to create an array is to use the function `np.array()`. It takes a list as an argument and returns a numpy array."
   ]
  },
  {
   "cell_type": "code",
   "execution_count": 2,
   "id": "d6d562b0",
   "metadata": {},
   "outputs": [
    {
     "name": "stdout",
     "output_type": "stream",
     "text": [
      "[1 2 3]\n"
     ]
    }
   ],
   "source": [
    "a = np.array([1, 2, 3])\n",
    "print(a)"
   ]
  },
  {
   "cell_type": "markdown",
   "id": "a6af1e37",
   "metadata": {},
   "source": [
    "In numpy, there are many methods to create arrays. For example, `np.arange()` creates an array of integers, `np.zeros()` creates an array of zeros, and `np.ones()` creates an array of ones."
   ]
  },
  {
   "cell_type": "code",
   "execution_count": 3,
   "id": "0d336b75",
   "metadata": {},
   "outputs": [
    {
     "data": {
      "text/plain": [
       "array([0, 1, 2, 3, 4, 5, 6, 7, 8, 9])"
      ]
     },
     "execution_count": 3,
     "metadata": {},
     "output_type": "execute_result"
    }
   ],
   "source": [
    "np.arange(10)"
   ]
  },
  {
   "cell_type": "code",
   "execution_count": 4,
   "id": "438d7ef9",
   "metadata": {},
   "outputs": [
    {
     "data": {
      "text/plain": [
       "array([1, 3, 5, 7, 9])"
      ]
     },
     "execution_count": 4,
     "metadata": {},
     "output_type": "execute_result"
    }
   ],
   "source": [
    "np.arange(1, 10, 2)"
   ]
  },
  {
   "cell_type": "code",
   "execution_count": 5,
   "id": "7b0e9a51",
   "metadata": {},
   "outputs": [
    {
     "data": {
      "text/plain": [
       "array([0., 0., 0., 0., 0., 0., 0., 0., 0., 0.])"
      ]
     },
     "execution_count": 5,
     "metadata": {},
     "output_type": "execute_result"
    }
   ],
   "source": [
    "np.zeros(10)"
   ]
  },
  {
   "cell_type": "code",
   "execution_count": 6,
   "id": "96960c4b",
   "metadata": {},
   "outputs": [
    {
     "data": {
      "text/plain": [
       "array([[0., 0., 0., 0., 0.],\n",
       "       [0., 0., 0., 0., 0.],\n",
       "       [0., 0., 0., 0., 0.]])"
      ]
     },
     "execution_count": 6,
     "metadata": {},
     "output_type": "execute_result"
    }
   ],
   "source": [
    "np.zeros((3, 5))"
   ]
  },
  {
   "cell_type": "code",
   "execution_count": 7,
   "id": "569145af",
   "metadata": {},
   "outputs": [
    {
     "data": {
      "text/plain": [
       "array([1., 1., 1., 1., 1., 1., 1., 1., 1., 1.])"
      ]
     },
     "execution_count": 7,
     "metadata": {},
     "output_type": "execute_result"
    }
   ],
   "source": [
    "np.ones(10)"
   ]
  },
  {
   "cell_type": "code",
   "execution_count": 8,
   "id": "421939c7",
   "metadata": {},
   "outputs": [
    {
     "data": {
      "text/plain": [
       "array([[1., 1., 1., 1., 1.],\n",
       "       [1., 1., 1., 1., 1.],\n",
       "       [1., 1., 1., 1., 1.]])"
      ]
     },
     "execution_count": 8,
     "metadata": {},
     "output_type": "execute_result"
    }
   ],
   "source": [
    "np.ones((3, 5))"
   ]
  },
  {
   "cell_type": "markdown",
   "id": "17fbbb16",
   "metadata": {},
   "source": [
    "`np.random.??` makes random arrays.\n",
    "\n",
    "`np.random.rand()` makes an array of random numbers from the uniform distribution between 0 and 1.\n",
    "\n",
    "`np.random.randn()` makes an array of random numbers from the standard normal distribution.\n",
    "\n",
    "`np.random.randint(low, high, size)` makes an array of random integers between low and high.\n",
    "\n",
    "`np.random.choice(a, size, replace=True, p=None)` makes an array of random numbers from the list a."
   ]
  },
  {
   "cell_type": "code",
   "execution_count": 9,
   "id": "f55088af",
   "metadata": {},
   "outputs": [
    {
     "name": "stdout",
     "output_type": "stream",
     "text": [
      "np.random.rand(5) = \n",
      "[0.5488135  0.71518937 0.60276338 0.54488318 0.4236548 ]\n",
      "\n",
      "np.random.randn(5) = \n",
      "[-0.84272405  1.96992445  1.26611853 -0.50587654  2.54520078]\n",
      "\n",
      "np.random.rand(3, 5) = \n",
      "[[0.92559664 0.07103606 0.0871293  0.0202184  0.83261985]\n",
      " [0.77815675 0.87001215 0.97861834 0.79915856 0.46147936]\n",
      " [0.78052918 0.11827443 0.63992102 0.14335329 0.94466892]]\n",
      "\n",
      "np.random.randint(low=1, high=10, size=5) =  [5 8 4 3 8]\n",
      "\n",
      "np.random.randint(10) =  2\n",
      "\n",
      "np.random.randint(1, 10, (3, 5)) = \n",
      "[[1 1 5 6 6]\n",
      " [7 9 5 2 5]\n",
      " [9 2 2 8 4]]\n",
      "np.random.choice(['a', 'b', 'c'], 10) = \n",
      "['c' 'c' 'c' 'a' 'c' 'b' 'a' 'b' 'c' 'a']\n",
      "\n"
     ]
    }
   ],
   "source": [
    "np.random.seed(0)\n",
    "\n",
    "print(\"np.random.rand(5) = \", np.random.rand(5), sep=\"\\n\", end=\"\\n\\n\")\n",
    "\n",
    "print(\"np.random.randn(5) = \", np.random.randn(5), sep=\"\\n\", end=\"\\n\\n\")\n",
    "\n",
    "print(\"np.random.rand(3, 5) = \", np.random.rand(3, 5), sep=\"\\n\", end=\"\\n\\n\")\n",
    "\n",
    "print(\"np.random.randint(low=1, high=10, size=5) = \", np.random.randint(low=1, high=10, size=5), end=\"\\n\\n\")\n",
    "\n",
    "print(\"np.random.randint(10) = \", np.random.randint(10), end=\"\\n\\n\")\n",
    "\n",
    "print(\"np.random.randint(1, 10, (3, 5)) = \", np.random.randint(1, 10, (3, 5)), sep=\"\\n\")\n",
    "\n",
    "print(\"np.random.choice(['a', 'b', 'c'], 10) = \", np.random.choice([\"a\", \"b\", \"c\"], 10), sep=\"\\n\", end=\"\\n\\n\")"
   ]
  },
  {
   "cell_type": "markdown",
   "id": "ed4668de",
   "metadata": {},
   "source": [
    "`np.linspace(start, stop, num, endpoint=True)` creates an array of evenly spaced numbers over a specified interval. This can be useful for plotting functions."
   ]
  },
  {
   "cell_type": "code",
   "execution_count": 10,
   "id": "6808fd71",
   "metadata": {},
   "outputs": [
    {
     "data": {
      "text/plain": [
       "array([0. , 0.2, 0.4, 0.6, 0.8, 1. ])"
      ]
     },
     "execution_count": 10,
     "metadata": {},
     "output_type": "execute_result"
    }
   ],
   "source": [
    "np.linspace(0, 1, 6)"
   ]
  },
  {
   "cell_type": "markdown",
   "id": "403eeb7f",
   "metadata": {},
   "source": [
    "`np.eye()` creates an matrix with ones on the diagonal and zeros elsewhere. You can also make non-square identity matrices by specifying the number of rows and columns."
   ]
  },
  {
   "cell_type": "code",
   "execution_count": 11,
   "id": "ef2147cc",
   "metadata": {},
   "outputs": [
    {
     "data": {
      "text/plain": [
       "array([[1., 0., 0., 0., 0.],\n",
       "       [0., 1., 0., 0., 0.],\n",
       "       [0., 0., 1., 0., 0.]])"
      ]
     },
     "execution_count": 11,
     "metadata": {},
     "output_type": "execute_result"
    }
   ],
   "source": [
    "np.eye(3, 5)"
   ]
  },
  {
   "cell_type": "code",
   "execution_count": 12,
   "id": "732cff82",
   "metadata": {},
   "outputs": [
    {
     "data": {
      "text/plain": [
       "array([[1., 0., 0., 0., 0.],\n",
       "       [0., 1., 0., 0., 0.],\n",
       "       [0., 0., 1., 0., 0.],\n",
       "       [0., 0., 0., 1., 0.],\n",
       "       [0., 0., 0., 0., 1.]])"
      ]
     },
     "execution_count": 12,
     "metadata": {},
     "output_type": "execute_result"
    }
   ],
   "source": [
    "np.eye(5)  # This is the same as np.identity(5)"
   ]
  },
  {
   "cell_type": "code",
   "execution_count": 13,
   "id": "9a02022f",
   "metadata": {},
   "outputs": [
    {
     "data": {
      "text/plain": [
       "array([[1., 0., 0., 0., 0.],\n",
       "       [0., 1., 0., 0., 0.],\n",
       "       [0., 0., 1., 0., 0.],\n",
       "       [0., 0., 0., 1., 0.],\n",
       "       [0., 0., 0., 0., 1.]])"
      ]
     },
     "execution_count": 13,
     "metadata": {},
     "output_type": "execute_result"
    }
   ],
   "source": [
    "np.identity(5)"
   ]
  },
  {
   "cell_type": "markdown",
   "id": "bac93854",
   "metadata": {},
   "source": [
    "`np.emtpy()` creates an array of uninitialized (arbitrary) data of the given shape and dtype. It is used when you want to create an array and then fill it with data later. It is faster than creating an array of zeros or ones using `np.zeros()` or `np.ones()`."
   ]
  },
  {
   "cell_type": "code",
   "execution_count": 14,
   "id": "6d71e530",
   "metadata": {},
   "outputs": [
    {
     "data": {
      "text/plain": [
       "array([1.e-323, 1.e-323, 1.e-323, 0.e+000, 1.e-323, 5.e-324, 0.e+000,\n",
       "       5.e-324, 1.e-323, 0.e+000])"
      ]
     },
     "execution_count": 14,
     "metadata": {},
     "output_type": "execute_result"
    }
   ],
   "source": [
    "np.empty(10)"
   ]
  },
  {
   "cell_type": "markdown",
   "id": "ec17afca",
   "metadata": {},
   "source": [
    "`np.zeros_like(()`, `np.ones_like()`, `np.empty_like()` create arrays of zeros, ones, or uninitialized data with the same shape and dtype as the given array."
   ]
  },
  {
   "cell_type": "code",
   "execution_count": 15,
   "id": "f4c3bb3c",
   "metadata": {},
   "outputs": [
    {
     "data": {
      "text/plain": [
       "array([[0, 0, 0],\n",
       "       [0, 0, 0]])"
      ]
     },
     "execution_count": 15,
     "metadata": {},
     "output_type": "execute_result"
    }
   ],
   "source": [
    "a = np.array([[1, 2, 3], [4, 5, 6]])\n",
    "\n",
    "np.zeros_like(a)"
   ]
  },
  {
   "cell_type": "code",
   "execution_count": 16,
   "id": "416eda40",
   "metadata": {},
   "outputs": [
    {
     "data": {
      "text/plain": [
       "array([[3, 3, 3, 3, 3],\n",
       "       [3, 3, 3, 3, 3],\n",
       "       [3, 3, 3, 3, 3]])"
      ]
     },
     "execution_count": 16,
     "metadata": {},
     "output_type": "execute_result"
    }
   ],
   "source": [
    "np.full((3, 5), 3)"
   ]
  },
  {
   "cell_type": "code",
   "execution_count": 17,
   "id": "49fed4cf",
   "metadata": {},
   "outputs": [
    {
     "data": {
      "text/plain": [
       "array([[0., 1., 2., 3., 4.],\n",
       "       [1., 2., 3., 4., 5.],\n",
       "       [2., 3., 4., 5., 6.]])"
      ]
     },
     "execution_count": 17,
     "metadata": {},
     "output_type": "execute_result"
    }
   ],
   "source": [
    "np.fromfunction(lambda i, j: i + j, (3, 5))"
   ]
  },
  {
   "cell_type": "markdown",
   "id": "f0b6b603",
   "metadata": {},
   "source": [
    "## Manipulating arrays"
   ]
  },
  {
   "cell_type": "code",
   "execution_count": 18,
   "id": "95eb3d64",
   "metadata": {},
   "outputs": [
    {
     "name": "stdout",
     "output_type": "stream",
     "text": [
      "[1 2 3 4]\n"
     ]
    }
   ],
   "source": [
    "# Append 4 to a\n",
    "a = np.array([1, 2, 3])\n",
    "b = np.append(a, 4)\n",
    "print(b)"
   ]
  },
  {
   "cell_type": "code",
   "execution_count": 19,
   "id": "2a59c3aa",
   "metadata": {},
   "outputs": [
    {
     "name": "stdout",
     "output_type": "stream",
     "text": [
      "[1 3]\n"
     ]
    }
   ],
   "source": [
    "# Delete a[1]\n",
    "a = np.array([1, 2, 3])\n",
    "b = np.delete(a, 1)\n",
    "print(b)"
   ]
  },
  {
   "cell_type": "code",
   "execution_count": 20,
   "id": "0b06499a",
   "metadata": {},
   "outputs": [
    {
     "name": "stdout",
     "output_type": "stream",
     "text": [
      "[1 2 3]\n"
     ]
    }
   ],
   "source": [
    "# Sort a\n",
    "a = np.array([3, 2, 1])\n",
    "b = np.sort(a)\n",
    "print(b)"
   ]
  },
  {
   "cell_type": "code",
   "execution_count": 21,
   "id": "48e5ffaf",
   "metadata": {},
   "outputs": [
    {
     "name": "stdout",
     "output_type": "stream",
     "text": [
      "[1 2 3 4 5 6]\n"
     ]
    }
   ],
   "source": [
    "# Concatenate two arrays\n",
    "a = np.array([1, 2, 3])\n",
    "b = np.array([4, 5, 6])\n",
    "c = np.concatenate((a, b))\n",
    "print(c)"
   ]
  },
  {
   "cell_type": "code",
   "execution_count": 22,
   "id": "82e0dace",
   "metadata": {},
   "outputs": [
    {
     "name": "stdout",
     "output_type": "stream",
     "text": [
      "a.shape  (6,)\n",
      "b =  [[1 2 3]\n",
      " [4 5 6]]\n",
      "b.shape  (2, 3)\n"
     ]
    }
   ],
   "source": [
    "# Reshape an array\n",
    "a = np.array([1, 2, 3, 4, 5, 6])\n",
    "print(\"a.shape \", a.shape)\n",
    "b = a.reshape(2, 3)\n",
    "print(\"b = \", b)\n",
    "print(\"b.shape \", b.shape)"
   ]
  },
  {
   "cell_type": "code",
   "execution_count": 23,
   "id": "1a8bac6e",
   "metadata": {},
   "outputs": [
    {
     "name": "stdout",
     "output_type": "stream",
     "text": [
      "[False False False  True  True  True]\n",
      "[4 5 6]\n"
     ]
    }
   ],
   "source": [
    "# Conditional selection\n",
    "a = np.array([1, 2, 3, 4, 5, 6])\n",
    "print(a > 3)\n",
    "print(a[a > 3])"
   ]
  },
  {
   "cell_type": "code",
   "execution_count": 24,
   "id": "7cf6fe62",
   "metadata": {},
   "outputs": [
    {
     "name": "stdout",
     "output_type": "stream",
     "text": [
      "[2 3 4]\n"
     ]
    }
   ],
   "source": [
    "# Slice an array\n",
    "a = np.array([1, 2, 3, 4, 5, 6])\n",
    "# print from a[1] to a[3], not including a[4](=5)\n",
    "print(a[1:4])"
   ]
  },
  {
   "cell_type": "markdown",
   "id": "1c2cafb0",
   "metadata": {},
   "source": [
    "## Arithmetic operations on arrays"
   ]
  },
  {
   "cell_type": "code",
   "execution_count": 25,
   "id": "d272b5f6",
   "metadata": {},
   "outputs": [
    {
     "name": "stdout",
     "output_type": "stream",
     "text": [
      "[ 6  8 10 12]\n",
      "[-4 -4 -4 -4]\n",
      "[ 5 12 21 32]\n",
      "[0.2        0.33333333 0.42857143 0.5       ]\n"
     ]
    }
   ],
   "source": [
    "a = np.array([1, 2, 3, 4])\n",
    "b = np.array([5, 6, 7, 8])\n",
    "\n",
    "# Addition\n",
    "print(a + b)\n",
    "\n",
    "# Subtraction\n",
    "print(a - b)\n",
    "\n",
    "# Multiplication\n",
    "print(a * b)\n",
    "\n",
    "# Division\n",
    "print(a / b)"
   ]
  },
  {
   "cell_type": "code",
   "execution_count": 26,
   "id": "cbba174f",
   "metadata": {},
   "outputs": [
    {
     "name": "stdout",
     "output_type": "stream",
     "text": [
      "a + 2 =  [3 4 5 6]\n",
      "a - 2 =  [-1  0  1  2]\n",
      "a * 2 =  [2 4 6 8]\n",
      "a / 2 =  [0.5 1.  1.5 2. ]\n",
      "a ** 0.5 =  [1.         1.41421356 1.73205081 2.        ]\n",
      "a ** 2 =  [ 1  4  9 16]\n",
      "np.log(a) =  [0.         0.69314718 1.09861229 1.38629436]\n",
      "np.exp(a) =  [ 2.71828183  7.3890561  20.08553692 54.59815003]\n",
      "np.sin(a) =  [ 0.84147098  0.90929743  0.14112001 -0.7568025 ]\n",
      "np.cos(a) =  [ 0.54030231 -0.41614684 -0.9899925  -0.65364362]\n"
     ]
    }
   ],
   "source": [
    "a = np.array([1, 2, 3, 4])\n",
    "\n",
    "# Add a scalar to each element\n",
    "print(\"a + 2 = \", a + 2)\n",
    "\n",
    "# Subtract a scalar from each element\n",
    "print(\"a - 2 = \", a - 2)\n",
    "\n",
    "# Multiply a scalar to each element\n",
    "print(\"a * 2 = \", a * 2)\n",
    "\n",
    "# Divide each element by a scalar\n",
    "print(\"a / 2 = \", a / 2)\n",
    "\n",
    "# Take the square root of each element\n",
    "print(\"a ** 0.5 = \", np.sqrt(a))\n",
    "\n",
    "# Take the square of each element\n",
    "print(\"a ** 2 = \", a**2)\n",
    "\n",
    "# Take the log of each element\n",
    "print(\"np.log(a) = \", np.log(a))\n",
    "\n",
    "# Take the exponential of each element\n",
    "print(\"np.exp(a) = \", np.exp(a))\n",
    "\n",
    "# Take the sin of each element\n",
    "print(\"np.sin(a) = \", np.sin(a))\n",
    "\n",
    "# Take the cos of each element\n",
    "print(\"np.cos(a) = \", np.cos(a))"
   ]
  },
  {
   "cell_type": "code",
   "execution_count": 27,
   "id": "1468446c",
   "metadata": {},
   "outputs": [
    {
     "name": "stdout",
     "output_type": "stream",
     "text": [
      "max =  5\n",
      "min =  1\n",
      "argmax =  4\n",
      "argmin =  0\n",
      "sum =  15\n",
      "mean =  3.0\n",
      "std =  1.4142135623730951\n",
      "var =  2.0\n"
     ]
    }
   ],
   "source": [
    "a = np.array([1, 2, 3, 4, 5])\n",
    "\n",
    "# Maximum\n",
    "print(\"max = \", a.max())\n",
    "\n",
    "# Minimum\n",
    "print(\"min = \", a.min())\n",
    "\n",
    "# Argmax\n",
    "print(\"argmax = \", a.argmax())\n",
    "\n",
    "# Argmin\n",
    "print(\"argmin = \", a.argmin())\n",
    "\n",
    "# Sum\n",
    "print(\"sum = \", a.sum())\n",
    "\n",
    "# Mean\n",
    "print(\"mean = \", a.mean())\n",
    "\n",
    "# Standard deviation\n",
    "print(\"std = \", a.std())\n",
    "\n",
    "# Variance\n",
    "print(\"var = \", a.var())"
   ]
  },
  {
   "cell_type": "code",
   "execution_count": 28,
   "id": "3221e15a",
   "metadata": {},
   "outputs": [
    {
     "name": "stdout",
     "output_type": "stream",
     "text": [
      "70\n"
     ]
    }
   ],
   "source": [
    "# Dot product\n",
    "a = np.array([1, 2, 3, 4])\n",
    "b = np.array([5, 6, 7, 8])\n",
    "print(np.dot(a, b))"
   ]
  },
  {
   "cell_type": "markdown",
   "id": "fbe6a5cf",
   "metadata": {},
   "source": [
    "## Matrix operations"
   ]
  },
  {
   "cell_type": "code",
   "execution_count": 29,
   "id": "5c86d55e",
   "metadata": {},
   "outputs": [
    {
     "name": "stdout",
     "output_type": "stream",
     "text": [
      "[[ 58  64]\n",
      " [139 154]]\n",
      "\n",
      "[[ 58  64]\n",
      " [139 154]]\n",
      "\n",
      "[[ 58  64]\n",
      " [139 154]]\n",
      "\n"
     ]
    }
   ],
   "source": [
    "a = np.array([[1, 2, 3], [4, 5, 6]])\n",
    "b = np.array([[7, 8], [9, 10], [11, 12]])\n",
    "\n",
    "# Matrix multiplication\n",
    "print(np.dot(a, b), end=\"\\n\\n\")\n",
    "\n",
    "print(a.dot(b), end=\"\\n\\n\")\n",
    "\n",
    "print(a @ b, end=\"\\n\\n\")"
   ]
  },
  {
   "cell_type": "code",
   "execution_count": 30,
   "id": "44f0efc0",
   "metadata": {},
   "outputs": [
    {
     "name": "stdout",
     "output_type": "stream",
     "text": [
      "a.T = \n",
      "[[ 1  4  7]\n",
      " [ 2  6 11]\n",
      " [ 3  8 13]]\n",
      "\n",
      "np.trace(a) =  20\n",
      "\n",
      "np.linalg.det(a) =  3.999999999999999\n",
      "\n",
      "np.linalg.inv(a) = \n",
      "[[-2.5   1.75 -0.5 ]\n",
      " [ 1.   -2.    1.  ]\n",
      " [ 0.5   0.75 -0.5 ]]\n",
      "\n"
     ]
    }
   ],
   "source": [
    "a = np.array([[1, 2, 3], [4, 6, 8], [7, 11, 13]])\n",
    "\n",
    "# Transpose\n",
    "print(\"a.T = \", a.T, sep=\"\\n\", end=\"\\n\\n\")\n",
    "\n",
    "# Trace\n",
    "print(\"np.trace(a) = \", np.trace(a), end=\"\\n\\n\")\n",
    "\n",
    "# Determinant\n",
    "print(\"np.linalg.det(a) = \", np.linalg.det(a), end=\"\\n\\n\")\n",
    "\n",
    "# Inverse\n",
    "print(\"np.linalg.inv(a) = \", np.linalg.inv(a), sep=\"\\n\", end=\"\\n\\n\")"
   ]
  },
  {
   "cell_type": "markdown",
   "id": "eb4d92a4",
   "metadata": {},
   "source": [
    "`np.linalg.???` is a module for linear algebra. `linalg` can also be called from `scipy` as `scipy.linalg.???`."
   ]
  },
  {
   "cell_type": "code",
   "execution_count": 31,
   "id": "06a787c8",
   "metadata": {},
   "outputs": [
    {
     "name": "stdout",
     "output_type": "stream",
     "text": [
      "eigvals = \n",
      "[20.96315698 -0.27883016 -0.68432682]\n",
      "\n",
      "eigvecs = \n",
      "[[-0.17747914 -0.84842833 -0.74978668]\n",
      " [-0.50048229  0.52923643 -0.27279835]\n",
      " [-0.8473598   0.00884096  0.6028275 ]]\n",
      "\n",
      "a = \n",
      "[[ 1.  2.  3.]\n",
      " [ 4.  6.  8.]\n",
      " [ 7. 11. 13.]]\n",
      "\n"
     ]
    }
   ],
   "source": [
    "# Eigenvalues and eigenvectors\n",
    "eigvals, eigvecs = np.linalg.eig(a)\n",
    "print(\"eigvals = \", eigvals, sep=\"\\n\", end=\"\\n\\n\")\n",
    "print(\"eigvecs = \", eigvecs, sep=\"\\n\", end=\"\\n\\n\")\n",
    "\n",
    "print(\"a = \", eigvecs @ np.diag(eigvals) @ np.linalg.inv(eigvecs), sep=\"\\n\", end=\"\\n\\n\")"
   ]
  },
  {
   "cell_type": "code",
   "execution_count": 32,
   "id": "83a0488d",
   "metadata": {},
   "outputs": [
    {
     "name": "stdout",
     "output_type": "stream",
     "text": [
      "U = \n",
      "[[-0.17104729  0.72829433  0.6635738 ]\n",
      " [-0.49727069  0.51761162 -0.69627586]\n",
      " [-0.85056727 -0.4490719   0.27362335]]\n",
      "\n",
      "S = \n",
      "[21.64329507  0.70666899  0.26152943]\n",
      "\n",
      "V = \n",
      "[[-0.37490137 -0.58595323 -0.71840641]\n",
      " [-0.48786982 -0.53424233  0.69033917]\n",
      " [-0.78830959  0.6092979  -0.08558071]]\n",
      "\n",
      "a = \n",
      "[[ 1.  2.  3.]\n",
      " [ 4.  6.  8.]\n",
      " [ 7. 11. 13.]]\n",
      "\n"
     ]
    }
   ],
   "source": [
    "# Singular value decomposition\n",
    "U, S, V = np.linalg.svd(a)\n",
    "print(\"U = \", U, sep=\"\\n\", end=\"\\n\\n\")\n",
    "print(\"S = \", S, sep=\"\\n\", end=\"\\n\\n\")\n",
    "print(\"V = \", V, sep=\"\\n\", end=\"\\n\\n\")\n",
    "\n",
    "print(\"a = \", U @ np.diag(S) @ V, sep=\"\\n\", end=\"\\n\\n\")"
   ]
  },
  {
   "cell_type": "markdown",
   "id": "0587e145",
   "metadata": {},
   "source": [
    "## [Learn more about numpy](https://numpy.org/doc/stable/user/absolute_beginners.html)"
   ]
  }
 ],
 "metadata": {
  "jupytext": {
   "text_representation": {
    "extension": ".md",
    "format_name": "myst",
    "format_version": 0.13,
    "jupytext_version": "1.15.0"
   }
  },
  "kernelspec": {
   "display_name": "venv",
   "language": "python",
   "name": "python3"
  },
  "language_info": {
   "codemirror_mode": {
    "name": "ipython",
    "version": 3
   },
   "file_extension": ".py",
   "mimetype": "text/x-python",
   "name": "python",
   "nbconvert_exporter": "python",
   "pygments_lexer": "ipython3",
   "version": "3.9.6"
  },
  "source_map": [
   12,
   18,
   20,
   24,
   28,
   31,
   35,
   39,
   43,
   47,
   51,
   55,
   57,
   69,
   85,
   89,
   91,
   95,
   99,
   103,
   105,
   109,
   111,
   115,
   121,
   125,
   127,
   131,
   138,
   145,
   152,
   160,
   169,
   176,
   181,
   185,
   202,
   236,
   264,
   269,
   273,
   285,
   299,
   303,
   312,
   320
  ]
 },
 "nbformat": 4,
 "nbformat_minor": 5
}