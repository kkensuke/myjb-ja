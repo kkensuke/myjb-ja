{
 "cells": [
  {
   "cell_type": "markdown",
   "id": "9bd38f86",
   "metadata": {},
   "source": [
    "# Numpy\n",
    "\n",
    "Numpyは、科学計算のためのPythonライブラリです。高性能な多次元配列や行列を提供し、これらのオブジェクトを効率的に操作するためのツールを提供します。"
   ]
  },
  {
   "cell_type": "code",
   "execution_count": null,
   "id": "238d1397",
   "metadata": {},
   "outputs": [],
   "source": [
    "import numpy as np"
   ]
  },
  {
   "cell_type": "markdown",
   "id": "deb9ad55",
   "metadata": {},
   "source": [
    "## Numpy配列の作成"
   ]
  },
  {
   "cell_type": "markdown",
   "id": "91bfb9ef",
   "metadata": {},
   "source": [
    "配列を作成する基本的な方法は、関数 `np.array()` を使用することです。これはリストを引数に取り、numpy配列を返します。"
   ]
  },
  {
   "cell_type": "code",
   "execution_count": null,
   "id": "87d6dd1a",
   "metadata": {},
   "outputs": [],
   "source": [
    "a = np.array([1, 2, 3])\n",
    "print(a)"
   ]
  },
  {
   "cell_type": "markdown",
   "id": "6ba8c06a",
   "metadata": {},
   "source": [
    "Numpyでは、配列を作成するための多くのメソッドがあります。例えば、`np.arange()` は整数の配列を作成し、`np.zeros()` はゼロの配列を作成し、`np.ones()` は1の配列を作成します。"
   ]
  },
  {
   "cell_type": "code",
   "execution_count": null,
   "id": "9e94b037",
   "metadata": {},
   "outputs": [],
   "source": [
    "np.arange(10)"
   ]
  },
  {
   "cell_type": "code",
   "execution_count": null,
   "id": "bf26a76a",
   "metadata": {},
   "outputs": [],
   "source": [
    "np.arange(1, 10, 2)"
   ]
  },
  {
   "cell_type": "code",
   "execution_count": null,
   "id": "13e8d2c2",
   "metadata": {},
   "outputs": [],
   "source": [
    "np.zeros(10)"
   ]
  },
  {
   "cell_type": "code",
   "execution_count": null,
   "id": "63d95aeb",
   "metadata": {},
   "outputs": [],
   "source": [
    "np.zeros((3, 5))"
   ]
  },
  {
   "cell_type": "code",
   "execution_count": null,
   "id": "5d36f0a4",
   "metadata": {},
   "outputs": [],
   "source": [
    "np.ones(10)"
   ]
  },
  {
   "cell_type": "code",
   "execution_count": null,
   "id": "1bb551b3",
   "metadata": {},
   "outputs": [],
   "source": [
    "np.ones((3, 5))"
   ]
  },
  {
   "cell_type": "markdown",
   "id": "e2245d0a",
   "metadata": {},
   "source": [
    "`np.random.??` はランダムな配列を作成します。\n",
    "\n",
    "`np.random.rand()` は、0から1の一様分布のランダムな数値の配列を作成します。\n",
    "\n",
    "`np.random.randn()` は、標準正規分布からのランダムな数値の配列を作成します。\n",
    "\n",
    "`np.random.randint(low, high, size)` は、lowからhighまでのランダムな整数の配列を作成します。\n",
    "\n",
    "`np.random.choice(a, size, replace=True, p=None)` は、リストaからランダムな数値の配列を作成します。"
   ]
  },
  {
   "cell_type": "code",
   "execution_count": null,
   "id": "c875a973",
   "metadata": {},
   "outputs": [],
   "source": [
    "np.random.seed(0)\n",
    "\n",
    "print(\"np.random.rand(5) = \", np.random.rand(5), sep=\"\\n\", end=\"\\n\\n\")\n",
    "\n",
    "print(\"np.random.randn(5) = \", np.random.randn(5), sep=\"\\n\", end=\"\\n\\n\")\n",
    "\n",
    "print(\"np.random.rand(3, 5) = \", np.random.rand(3, 5), sep=\"\\n\", end=\"\\n\\n\")\n",
    "\n",
    "print(\"np.random.randint(low=1, high=10, size=5) = \", np.random.randint(low=1, high=10, size=5), end=\"\\n\\n\")\n",
    "\n",
    "print(\"np.random.randint(10) = \", np.random.randint(10), end=\"\\n\\n\")\n",
    "\n",
    "print(\"np.random.randint(1, 10, (3, 5)) = \", np.random.randint(1, 10, (3, 5)), sep=\"\\n\")\n",
    "\n",
    "print(\"np.random.choice(['a', 'b', 'c'], 10) = \", np.random.choice([\"a\", \"b\", \"c\"], 10), sep=\"\\n\", end=\"\\n\\n\")"
   ]
  },
  {
   "cell_type": "markdown",
   "id": "7e67c58d",
   "metadata": {},
   "source": [
    "`np.linspace(start, stop, num, endpoint=True)` は、指定された区間内で均等に分布する数値の配列を作成します。これは関数をプロットする際に便利です。"
   ]
  },
  {
   "cell_type": "code",
   "execution_count": null,
   "id": "058794f2",
   "metadata": {},
   "outputs": [],
   "source": [
    "np.linspace(0, 1, 6)"
   ]
  },
  {
   "cell_type": "markdown",
   "id": "b16df545",
   "metadata": {},
   "source": [
    "`np.eye()` は、対角線上に1があり他は0の行列を作成します。行と列の数を指定して非正方形の単位行列を作成することもできます。"
   ]
  },
  {
   "cell_type": "code",
   "execution_count": null,
   "id": "ae1960fe",
   "metadata": {},
   "outputs": [],
   "source": [
    "np.eye(3, 5)"
   ]
  },
  {
   "cell_type": "code",
   "execution_count": null,
   "id": "e26f78ad",
   "metadata": {},
   "outputs": [],
   "source": [
    "np.eye(5)  # これは np.identity(5) と同じです"
   ]
  },
  {
   "cell_type": "code",
   "execution_count": null,
   "id": "51ec1686",
   "metadata": {},
   "outputs": [],
   "source": [
    "np.identity(5)"
   ]
  },
  {
   "cell_type": "markdown",
   "id": "2d045507",
   "metadata": {},
   "source": [
    "`np.empty()` は、与えられた形状とデータ型の未初期化（任意の）データの配列を作成します。配列を作成してから後でデータで埋める場合に使用されます。`np.zeros()` や `np.ones()` を使用して0または1の配列を作成するよりも速くなります。"
   ]
  },
  {
   "cell_type": "code",
   "execution_count": null,
   "id": "75503959",
   "metadata": {},
   "outputs": [],
   "source": [
    "np.empty(10)"
   ]
  },
  {
   "cell_type": "markdown",
   "id": "38fa991c",
   "metadata": {},
   "source": [
    "`np.zeros_like()`, `np.ones_like()`, `np.empty_like()` は、与えられた配列と同じ形状とデータ型のゼロ、1、または未初期化のデータの配列を作成します。"
   ]
  },
  {
   "cell_type": "code",
   "execution_count": null,
   "id": "a3ff0caa",
   "metadata": {},
   "outputs": [],
   "source": [
    "a = np.array([[1, 2, 3], [4, 5, 6]])\n",
    "\n",
    "np.zeros_like(a)"
   ]
  },
  {
   "cell_type": "code",
   "execution_count": null,
   "id": "c1501326",
   "metadata": {},
   "outputs": [],
   "source": [
    "np.full((3, 5), 3)"
   ]
  },
  {
   "cell_type": "code",
   "execution_count": null,
   "id": "9623b4c3",
   "metadata": {},
   "outputs": [],
   "source": [
    "np.fromfunction(lambda i, j: i + j, (3, 5))"
   ]
  },
  {
   "cell_type": "markdown",
   "id": "8859a823",
   "metadata": {},
   "source": [
    "## 配列の操作"
   ]
  },
  {
   "cell_type": "code",
   "execution_count": null,
   "id": "b5bce201",
   "metadata": {},
   "outputs": [],
   "source": [
    "# 配列に 4 を追加する\n",
    "\n",
    "a = np.array([1, 2, 3])\n",
    "b = np.append(a, 4)\n",
    "print(b)"
   ]
  },
  {
   "cell_type": "code",
   "execution_count": null,
   "id": "83f84abb",
   "metadata": {},
   "outputs": [],
   "source": [
    "# a[1] を削除する\n",
    "a = np.array([1, 2, 3])\n",
    "b = np.delete(a, 1)\n",
    "print(b)"
   ]
  },
  {
   "cell_type": "code",
   "execution_count": null,
   "id": "c2849dc4",
   "metadata": {},
   "outputs": [],
   "source": [
    "# 配列をソートする\n",
    "a = np.array([3, 2, 1])\n",
    "b = np.sort(a)\n",
    "print(b)"
   ]
  },
  {
   "cell_type": "code",
   "execution_count": null,
   "id": "6f0c3bee",
   "metadata": {},
   "outputs": [],
   "source": [
    "# 二つの配列を連結する\n",
    "a = np.array([1, 2, 3])\n",
    "b = np.array([4, 5, 6])\n",
    "c = np.concatenate((a, b))\n",
    "print(c)"
   ]
  },
  {
   "cell_type": "code",
   "execution_count": null,
   "id": "7568d0e7",
   "metadata": {},
   "outputs": [],
   "source": [
    "# 配列を再形成する\n",
    "a = np.array([1, 2, 3, 4, 5, 6])\n",
    "print(\"a.shape \", a.shape)\n",
    "b = a.reshape(2, 3)\n",
    "print(\"b = \", b)\n",
    "print(\"b.shape \", b.shape)"
   ]
  },
  {
   "cell_type": "code",
   "execution_count": null,
   "id": "f0b9502e",
   "metadata": {},
   "outputs": [],
   "source": [
    "# 条件に基づく選択\n",
    "a = np.array([1, 2, 3, 4, 5, 6])\n",
    "print(a > 3)\n",
    "print(a[a > 3])"
   ]
  },
  {
   "cell_type": "code",
   "execution_count": null,
   "id": "a6c4d8ce",
   "metadata": {},
   "outputs": [],
   "source": [
    "# 配列をスライスする\n",
    "a = np.array([1, 2, 3, 4, 5, 6])\n",
    "# a[1] から a[3] までを表示します（a[4]（=5）は含まれません）\n",
    "print(a[1:4])"
   ]
  },
  {
   "cell_type": "markdown",
   "id": "4a4a1316",
   "metadata": {},
   "source": [
    "## 配列の演算"
   ]
  },
  {
   "cell_type": "code",
   "execution_count": null,
   "id": "639ef649",
   "metadata": {},
   "outputs": [],
   "source": [
    "a = np.array([1, 2, 3, 4])\n",
    "b = np.array([5, 6, 7, 8])\n",
    "\n",
    "# 加算\n",
    "print(a + b)\n",
    "\n",
    "# 減算\n",
    "print(a - b)\n",
    "\n",
    "# 乗算\n",
    "print(a * b)\n",
    "\n",
    "# 除算\n",
    "print(a / b)"
   ]
  },
  {
   "cell_type": "code",
   "execution_count": null,
   "id": "5f8626ac",
   "metadata": {},
   "outputs": [],
   "source": [
    "a = np.array([1, 2, 3, 4])\n",
    "\n",
    "# 各要素にスカラーを加算\n",
    "print(\"a + 2 = \", a + 2)\n",
    "\n",
    "# 各要素からスカラーを減算\n",
    "print(\"a - 2 = \", a - 2)\n",
    "\n",
    "# 各要素にスカラーを乗算\n",
    "print(\"a * 2 = \", a * 2)\n",
    "\n",
    "# 各要素をスカラーで除算\n",
    "print(\"a / 2 = \", a / 2)\n",
    "\n",
    "# 各要素の平方根を取得\n",
    "print(\"a ** 0.5 = \", np.sqrt(a))\n",
    "\n",
    "# 各要素を二乗\n",
    "print(\"a ** 2 = \", a**2)\n",
    "\n",
    "# 各要素の対数を取得\n",
    "print(\"np.log(a) = \", np.log(a))\n",
    "\n",
    "# 各要素の指数を取得\n",
    "print(\"np.exp(a) = \", np.exp(a))\n",
    "\n",
    "# 各要素の sin を取得\n",
    "print(\"np.sin(a) = \", np.sin(a))\n",
    "\n",
    "# 各要素の cos を取得\n",
    "print(\"np.cos(a) = \", np.cos(a))"
   ]
  },
  {
   "cell_type": "code",
   "execution_count": null,
   "id": "2a269791",
   "metadata": {},
   "outputs": [],
   "source": [
    "a = np.array([1, 2, 3, 4, 5])\n",
    "\n",
    "# 最大値\n",
    "print(\"max = \", a.max())\n",
    "\n",
    "# 最小値\n",
    "print(\"min = \", a.min())\n",
    "\n",
    "# 最大値のインデックス\n",
    "print(\"argmax = \", a.argmax())\n",
    "\n",
    "# 最小値のインデックス\n",
    "print(\"argmin = \", a.argmin())\n",
    "\n",
    "# 合計\n",
    "print(\"sum = \", a.sum())\n",
    "\n",
    "# 平均\n",
    "print(\"mean = \", a.mean())\n",
    "\n",
    "# 標準偏差\n",
    "print(\"std = \", a.std())\n",
    "\n",
    "# 分散\n",
    "print(\"var = \", a.var())"
   ]
  },
  {
   "cell_type": "code",
   "execution_count": null,
   "id": "86a08a30",
   "metadata": {},
   "outputs": [],
   "source": [
    "# ドット積\n",
    "a = np.array([1, 2, 3, 4])\n",
    "b = np.array([5, 6, 7, 8])\n",
    "print(np.dot(a, b))"
   ]
  },
  {
   "cell_type": "markdown",
   "id": "c2b1def9",
   "metadata": {},
   "source": [
    "## 行列の操作"
   ]
  },
  {
   "cell_type": "code",
   "execution_count": null,
   "id": "b2a5eefa",
   "metadata": {},
   "outputs": [],
   "source": [
    "a = np.array([[1, 2, 3], [4, 5, 6]])\n",
    "b = np.array([[7, 8], [9, 10], [11, 12]])\n",
    "\n",
    "# 行列の積\n",
    "print(np.dot(a, b), end=\"\\n\\n\")\n",
    "\n",
    "print(a.dot(b), end=\"\\n\\n\")\n",
    "\n",
    "print(a @ b, end=\"\\n\\n\")"
   ]
  },
  {
   "cell_type": "code",
   "execution_count": null,
   "id": "4a4eaab8",
   "metadata": {},
   "outputs": [],
   "source": [
    "a = np.array([[1, 2, 3], [4, 6, 8], [7, 11, 13]])\n",
    "\n",
    "# 転置行列\n",
    "print(\"a.T = \", a.T, sep=\"\\n\", end=\"\\n\\n\")\n",
    "\n",
    "# トレース\n",
    "print(\"np.trace(a) = \", np.trace(a), end=\"\\n\\n\")\n",
    "\n",
    "# 行列式\n",
    "print(\"np.linalg.det(a) = \", np.linalg.det(a), end=\"\\n\\n\")\n",
    "\n",
    "# 逆行列\n",
    "print(\"np.linalg.inv(a) = \", np.linalg.inv(a), sep=\"\\n\", end=\"\\n\\n\")"
   ]
  },
  {
   "cell_type": "markdown",
   "id": "4cbf733f",
   "metadata": {},
   "source": [
    "`np.linalg.???` は、線形代数のためのモジュールです。`linalg` は `scipy.linalg.???` としても `scipy` から呼び出すことができます。"
   ]
  },
  {
   "cell_type": "code",
   "execution_count": null,
   "id": "db8f52e0",
   "metadata": {},
   "outputs": [],
   "source": [
    "# 固有値と固有ベクトル\n",
    "eigvals, eigvecs = np.linalg.eig(a)\n",
    "print(\"eigvals = \", eigvals, sep=\"\\n\", end=\"\\n\\n\")\n",
    "print(\"eigvecs = \", eigvecs, sep=\"\\n\", end=\"\\n\\n\")\n",
    "\n",
    "print(\"a = \", eigvecs @ np.diag(eigvals) @ np.linalg.inv(eigvecs), sep=\"\\n\", end=\"\\n\\n\")"
   ]
  },
  {
   "cell_type": "code",
   "execution_count": null,
   "id": "7e00ccec",
   "metadata": {},
   "outputs": [],
   "source": [
    "# 特異値分解\n",
    "U, S, V = np.linalg.svd(a)\n",
    "print(\"U = \", U, sep=\"\\n\", end=\"\\n\\n\")\n",
    "print(\"S = \", S, sep=\"\\n\", end=\"\\n\\n\")\n",
    "print(\"V = \", V, sep=\"\\n\", end=\"\\n\\n\")\n",
    "\n",
    "print(\"a = \", U @ np.diag(S) @ V, sep=\"\\n\", end=\"\\n\\n\")"
   ]
  },
  {
   "cell_type": "markdown",
   "id": "8224450d",
   "metadata": {},
   "source": [
    "## [Numpyについてもっと学ぶ](https://numpy.org/doc/stable/user/absolute_beginners.html)"
   ]
  }
 ],
 "metadata": {
  "jupytext": {
   "text_representation": {
    "extension": ".md",
    "format_name": "myst",
    "format_version": 0.13,
    "jupytext_version": "1.15.0"
   }
  },
  "kernelspec": {
   "display_name": "venv",
   "language": "python",
   "name": "python3"
  },
  "source_map": [
   12,
   17,
   19,
   23,
   27,
   30,
   34,
   38,
   42,
   46,
   50,
   54,
   56,
   68,
   84,
   88,
   90,
   94,
   98,
   102,
   104,
   108,
   110,
   114,
   120,
   124,
   126,
   130,
   138,
   145,
   152,
   160,
   169,
   176,
   181,
   185,
   202,
   236,
   264,
   269,
   273,
   285,
   299,
   303,
   312,
   320
  ]
 },
 "nbformat": 4,
 "nbformat_minor": 5
}