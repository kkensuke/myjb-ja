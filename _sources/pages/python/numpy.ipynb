{
 "cells": [
  {
   "cell_type": "markdown",
   "id": "8927fb5f",
   "metadata": {},
   "source": [
    "# Numpy\n",
    "\n",
    "Numpy is a Python library for scientific computing. It provides high-performance multidimensional arrays and matrices, and efficient tools for working with these objects."
   ]
  },
  {
   "cell_type": "code",
   "execution_count": null,
   "id": "235e0c58",
   "metadata": {},
   "outputs": [],
   "source": [
    "import numpy as np"
   ]
  },
  {
   "cell_type": "markdown",
   "id": "c22d92da",
   "metadata": {},
   "source": [
    "## Create numpy arrays"
   ]
  },
  {
   "cell_type": "markdown",
   "id": "46fa7b14",
   "metadata": {},
   "source": [
    "A basic way to create an array is to use the function `np.array()`. It takes a list as an argument and returns a numpy array."
   ]
  },
  {
   "cell_type": "code",
   "execution_count": null,
   "id": "96acf008",
   "metadata": {},
   "outputs": [],
   "source": [
    "a = np.array([1, 2, 3])\n",
    "print(a)"
   ]
  },
  {
   "cell_type": "markdown",
   "id": "4950ab26",
   "metadata": {},
   "source": [
    "In numpy, there are many methods to create arrays. For example, `np.arange()` creates an array of integers, `np.zeros()` creates an array of zeros, and `np.ones()` creates an array of ones."
   ]
  },
  {
   "cell_type": "code",
   "execution_count": null,
   "id": "a786a26b",
   "metadata": {},
   "outputs": [],
   "source": [
    "np.arange(10)"
   ]
  },
  {
   "cell_type": "code",
   "execution_count": null,
   "id": "6535e21e",
   "metadata": {},
   "outputs": [],
   "source": [
    "np.arange(1, 10, 2)"
   ]
  },
  {
   "cell_type": "code",
   "execution_count": null,
   "id": "8416ea46",
   "metadata": {},
   "outputs": [],
   "source": [
    "np.zeros(10)"
   ]
  },
  {
   "cell_type": "code",
   "execution_count": null,
   "id": "410fe278",
   "metadata": {},
   "outputs": [],
   "source": [
    "np.zeros((3, 5))"
   ]
  },
  {
   "cell_type": "code",
   "execution_count": null,
   "id": "e3defec8",
   "metadata": {},
   "outputs": [],
   "source": [
    "np.ones(10)"
   ]
  },
  {
   "cell_type": "code",
   "execution_count": null,
   "id": "04c454ff",
   "metadata": {},
   "outputs": [],
   "source": [
    "np.ones((3, 5))"
   ]
  },
  {
   "cell_type": "markdown",
   "id": "c2c57dc4",
   "metadata": {},
   "source": [
    "`np.random.??` makes random arrays.\n",
    "\n",
    "`np.random.rand()` makes an array of random numbers from the uniform distribution between 0 and 1.\n",
    "\n",
    "`np.random.randn()` makes an array of random numbers from the standard normal distribution.\n",
    "\n",
    "`np.random.randint(low, high, size)` makes an array of random integers between low and high.\n",
    "\n",
    "`np.random.choice(a, size, replace=True, p=None)` makes an array of random numbers from the list a."
   ]
  },
  {
   "cell_type": "code",
   "execution_count": null,
   "id": "fc1d8e35",
   "metadata": {},
   "outputs": [],
   "source": [
    "np.random.seed(0)\n",
    "\n",
    "print(\"np.random.rand(5) = \", np.random.rand(5), sep=\"\\n\", end=\"\\n\\n\")\n",
    "\n",
    "print(\"np.random.randn(5) = \", np.random.randn(5), sep=\"\\n\", end=\"\\n\\n\")\n",
    "\n",
    "print(\"np.random.rand(3, 5) = \", np.random.rand(3, 5), sep=\"\\n\", end=\"\\n\\n\")\n",
    "\n",
    "print(\"np.random.randint(low=1, high=10, size=5) = \", np.random.randint(low=1, high=10, size=5), end=\"\\n\\n\")\n",
    "\n",
    "print(\"np.random.randint(10) = \", np.random.randint(10), end=\"\\n\\n\")\n",
    "\n",
    "print(\"np.random.randint(1, 10, (3, 5)) = \", np.random.randint(1, 10, (3, 5)), sep=\"\\n\")\n",
    "\n",
    "print(\"np.random.choice(['a', 'b', 'c'], 10) = \", np.random.choice([\"a\", \"b\", \"c\"], 10), sep=\"\\n\", end=\"\\n\\n\")"
   ]
  },
  {
   "cell_type": "markdown",
   "id": "63368839",
   "metadata": {},
   "source": [
    "`np.linspace(start, stop, num, endpoint=True)` creates an array of evenly spaced numbers over a specified interval. This can be useful for plotting functions."
   ]
  },
  {
   "cell_type": "code",
   "execution_count": null,
   "id": "f63eb0e8",
   "metadata": {},
   "outputs": [],
   "source": [
    "np.linspace(0, 1, 6)"
   ]
  },
  {
   "cell_type": "markdown",
   "id": "917a368b",
   "metadata": {},
   "source": [
    "`np.eye()` creates an matrix with ones on the diagonal and zeros elsewhere. You can also make non-square identity matrices by specifying the number of rows and columns."
   ]
  },
  {
   "cell_type": "code",
   "execution_count": null,
   "id": "e7d2b478",
   "metadata": {},
   "outputs": [],
   "source": [
    "np.eye(3, 5)"
   ]
  },
  {
   "cell_type": "code",
   "execution_count": null,
   "id": "0c6cee09",
   "metadata": {},
   "outputs": [],
   "source": [
    "np.eye(5)  # This is the same as np.identity(5)"
   ]
  },
  {
   "cell_type": "code",
   "execution_count": null,
   "id": "b28686a8",
   "metadata": {},
   "outputs": [],
   "source": [
    "np.identity(5)"
   ]
  },
  {
   "cell_type": "markdown",
   "id": "3141cbbd",
   "metadata": {},
   "source": [
    "`np.emtpy()` creates an array of uninitialized (arbitrary) data of the given shape and dtype. It is used when you want to create an array and then fill it with data later. It is faster than creating an array of zeros or ones using `np.zeros()` or `np.ones()`."
   ]
  },
  {
   "cell_type": "code",
   "execution_count": null,
   "id": "d1dc17c4",
   "metadata": {},
   "outputs": [],
   "source": [
    "np.empty(10)"
   ]
  },
  {
   "cell_type": "markdown",
   "id": "9deea36d",
   "metadata": {},
   "source": [
    "`np.zeros_like(()`, `np.ones_like()`, `np.empty_like()` create arrays of zeros, ones, or uninitialized data with the same shape and dtype as the given array."
   ]
  },
  {
   "cell_type": "code",
   "execution_count": null,
   "id": "0cbab67e",
   "metadata": {},
   "outputs": [],
   "source": [
    "a = np.array([[1, 2, 3], [4, 5, 6]])\n",
    "\n",
    "np.zeros_like(a)"
   ]
  },
  {
   "cell_type": "code",
   "execution_count": null,
   "id": "d668dd7a",
   "metadata": {},
   "outputs": [],
   "source": [
    "np.full((3, 5), 3)"
   ]
  },
  {
   "cell_type": "code",
   "execution_count": null,
   "id": "e0a27b18",
   "metadata": {},
   "outputs": [],
   "source": [
    "np.fromfunction(lambda i, j: i + j, (3, 5))"
   ]
  },
  {
   "cell_type": "markdown",
   "id": "36711b1b",
   "metadata": {},
   "source": [
    "## Manipulating arrays"
   ]
  },
  {
   "cell_type": "code",
   "execution_count": null,
   "id": "b206bbcd",
   "metadata": {},
   "outputs": [],
   "source": [
    "# Append 4 to a\n",
    "a = np.array([1, 2, 3])\n",
    "b = np.append(a, 4)\n",
    "print(b)"
   ]
  },
  {
   "cell_type": "code",
   "execution_count": null,
   "id": "f66ae81c",
   "metadata": {},
   "outputs": [],
   "source": [
    "# Delete a[1]\n",
    "a = np.array([1, 2, 3])\n",
    "b = np.delete(a, 1)\n",
    "print(b)"
   ]
  },
  {
   "cell_type": "code",
   "execution_count": null,
   "id": "5f09004e",
   "metadata": {},
   "outputs": [],
   "source": [
    "# Sort a\n",
    "a = np.array([3, 2, 1])\n",
    "b = np.sort(a)\n",
    "print(b)"
   ]
  },
  {
   "cell_type": "code",
   "execution_count": null,
   "id": "cef89b8b",
   "metadata": {},
   "outputs": [],
   "source": [
    "# Concatenate two arrays\n",
    "a = np.array([1, 2, 3])\n",
    "b = np.array([4, 5, 6])\n",
    "c = np.concatenate((a, b))\n",
    "print(c)"
   ]
  },
  {
   "cell_type": "code",
   "execution_count": null,
   "id": "bf2dcaf4",
   "metadata": {},
   "outputs": [],
   "source": [
    "# Reshape an array\n",
    "a = np.array([1, 2, 3, 4, 5, 6])\n",
    "print(\"a.shape \", a.shape)\n",
    "b = a.reshape(2, 3)\n",
    "print(\"b = \", b)\n",
    "print(\"b.shape \", b.shape)"
   ]
  },
  {
   "cell_type": "code",
   "execution_count": null,
   "id": "a603311f",
   "metadata": {},
   "outputs": [],
   "source": [
    "# Conditional selection\n",
    "a = np.array([1, 2, 3, 4, 5, 6])\n",
    "print(a > 3)\n",
    "print(a[a > 3])"
   ]
  },
  {
   "cell_type": "code",
   "execution_count": null,
   "id": "ee60855c",
   "metadata": {},
   "outputs": [],
   "source": [
    "# Slice an array\n",
    "a = np.array([1, 2, 3, 4, 5, 6])\n",
    "# print from a[1] to a[3], not including a[4](=5)\n",
    "print(a[1:4])"
   ]
  },
  {
   "cell_type": "markdown",
   "id": "2f8b6d8b",
   "metadata": {},
   "source": [
    "## Arithmetic operations on arrays"
   ]
  },
  {
   "cell_type": "code",
   "execution_count": null,
   "id": "6ef4e804",
   "metadata": {},
   "outputs": [],
   "source": [
    "a = np.array([1, 2, 3, 4])\n",
    "b = np.array([5, 6, 7, 8])\n",
    "\n",
    "# Addition\n",
    "print(a + b)\n",
    "\n",
    "# Subtraction\n",
    "print(a - b)\n",
    "\n",
    "# Multiplication\n",
    "print(a * b)\n",
    "\n",
    "# Division\n",
    "print(a / b)"
   ]
  },
  {
   "cell_type": "code",
   "execution_count": null,
   "id": "1f9194a8",
   "metadata": {},
   "outputs": [],
   "source": [
    "a = np.array([1, 2, 3, 4])\n",
    "\n",
    "# Add a scalar to each element\n",
    "print(\"a + 2 = \", a + 2)\n",
    "\n",
    "# Subtract a scalar from each element\n",
    "print(\"a - 2 = \", a - 2)\n",
    "\n",
    "# Multiply a scalar to each element\n",
    "print(\"a * 2 = \", a * 2)\n",
    "\n",
    "# Divide each element by a scalar\n",
    "print(\"a / 2 = \", a / 2)\n",
    "\n",
    "# Take the square root of each element\n",
    "print(\"a ** 0.5 = \", np.sqrt(a))\n",
    "\n",
    "# Take the square of each element\n",
    "print(\"a ** 2 = \", a**2)\n",
    "\n",
    "# Take the log of each element\n",
    "print(\"np.log(a) = \", np.log(a))\n",
    "\n",
    "# Take the exponential of each element\n",
    "print(\"np.exp(a) = \", np.exp(a))\n",
    "\n",
    "# Take the sin of each element\n",
    "print(\"np.sin(a) = \", np.sin(a))\n",
    "\n",
    "# Take the cos of each element\n",
    "print(\"np.cos(a) = \", np.cos(a))"
   ]
  },
  {
   "cell_type": "code",
   "execution_count": null,
   "id": "210548cb",
   "metadata": {},
   "outputs": [],
   "source": [
    "a = np.array([1, 2, 3, 4, 5])\n",
    "\n",
    "# Maximum\n",
    "print(\"max = \", a.max())\n",
    "\n",
    "# Minimum\n",
    "print(\"min = \", a.min())\n",
    "\n",
    "# Argmax\n",
    "print(\"argmax = \", a.argmax())\n",
    "\n",
    "# Argmin\n",
    "print(\"argmin = \", a.argmin())\n",
    "\n",
    "# Sum\n",
    "print(\"sum = \", a.sum())\n",
    "\n",
    "# Mean\n",
    "print(\"mean = \", a.mean())\n",
    "\n",
    "# Standard deviation\n",
    "print(\"std = \", a.std())\n",
    "\n",
    "# Variance\n",
    "print(\"var = \", a.var())"
   ]
  },
  {
   "cell_type": "code",
   "execution_count": null,
   "id": "99ef184e",
   "metadata": {},
   "outputs": [],
   "source": [
    "# Dot product\n",
    "a = np.array([1, 2, 3, 4])\n",
    "b = np.array([5, 6, 7, 8])\n",
    "print(np.dot(a, b))"
   ]
  },
  {
   "cell_type": "markdown",
   "id": "3b60a3ad",
   "metadata": {},
   "source": [
    "## Matrix operations"
   ]
  },
  {
   "cell_type": "code",
   "execution_count": null,
   "id": "7f19c4fb",
   "metadata": {},
   "outputs": [],
   "source": [
    "a = np.array([[1, 2, 3], [4, 5, 6]])\n",
    "b = np.array([[7, 8], [9, 10], [11, 12]])\n",
    "\n",
    "# Matrix multiplication\n",
    "print(np.dot(a, b), end=\"\\n\\n\")\n",
    "\n",
    "print(a.dot(b), end=\"\\n\\n\")\n",
    "\n",
    "print(a @ b, end=\"\\n\\n\")"
   ]
  },
  {
   "cell_type": "code",
   "execution_count": null,
   "id": "30256ee9",
   "metadata": {},
   "outputs": [],
   "source": [
    "a = np.array([[1, 2, 3], [4, 6, 8], [7, 11, 13]])\n",
    "\n",
    "# Transpose\n",
    "print(\"a.T = \", a.T, sep=\"\\n\", end=\"\\n\\n\")\n",
    "\n",
    "# Trace\n",
    "print(\"np.trace(a) = \", np.trace(a), end=\"\\n\\n\")\n",
    "\n",
    "# Determinant\n",
    "print(\"np.linalg.det(a) = \", np.linalg.det(a), end=\"\\n\\n\")\n",
    "\n",
    "# Inverse\n",
    "print(\"np.linalg.inv(a) = \", np.linalg.inv(a), sep=\"\\n\", end=\"\\n\\n\")"
   ]
  },
  {
   "cell_type": "markdown",
   "id": "8d7fef74",
   "metadata": {},
   "source": [
    "`np.linalg.???` is a module for linear algebra. `linalg` can also be called from `scipy` as `scipy.linalg.???`."
   ]
  },
  {
   "cell_type": "code",
   "execution_count": null,
   "id": "0ac9dc53",
   "metadata": {},
   "outputs": [],
   "source": [
    "# Eigenvalues and eigenvectors\n",
    "eigvals, eigvecs = np.linalg.eig(a)\n",
    "print(\"eigvals = \", eigvals, sep=\"\\n\", end=\"\\n\\n\")\n",
    "print(\"eigvecs = \", eigvecs, sep=\"\\n\", end=\"\\n\\n\")\n",
    "\n",
    "print(\"a = \", eigvecs @ np.diag(eigvals) @ np.linalg.inv(eigvecs), sep=\"\\n\", end=\"\\n\\n\")"
   ]
  },
  {
   "cell_type": "code",
   "execution_count": null,
   "id": "d89e5f55",
   "metadata": {},
   "outputs": [],
   "source": [
    "# Singular value decomposition\n",
    "U, S, V = np.linalg.svd(a)\n",
    "print(\"U = \", U, sep=\"\\n\", end=\"\\n\\n\")\n",
    "print(\"S = \", S, sep=\"\\n\", end=\"\\n\\n\")\n",
    "print(\"V = \", V, sep=\"\\n\", end=\"\\n\\n\")\n",
    "\n",
    "print(\"a = \", U @ np.diag(S) @ V, sep=\"\\n\", end=\"\\n\\n\")"
   ]
  },
  {
   "cell_type": "markdown",
   "id": "bd8a146f",
   "metadata": {},
   "source": [
    "## [Learn more about numpy](https://numpy.org/doc/stable/user/absolute_beginners.html)"
   ]
  }
 ],
 "metadata": {
  "jupytext": {
   "text_representation": {
    "extension": ".md",
    "format_name": "myst",
    "format_version": 0.13,
    "jupytext_version": "1.15.0"
   }
  },
  "kernelspec": {
   "display_name": "venv",
   "language": "python",
   "name": "python3"
  },
  "source_map": [
   12,
   18,
   20,
   24,
   28,
   31,
   35,
   39,
   43,
   47,
   51,
   55,
   57,
   69,
   85,
   89,
   91,
   95,
   99,
   103,
   105,
   109,
   111,
   115,
   121,
   125,
   127,
   131,
   138,
   145,
   152,
   160,
   169,
   176,
   181,
   185,
   202,
   236,
   264,
   269,
   273,
   285,
   299,
   303,
   312,
   320
  ]
 },
 "nbformat": 4,
 "nbformat_minor": 5
}