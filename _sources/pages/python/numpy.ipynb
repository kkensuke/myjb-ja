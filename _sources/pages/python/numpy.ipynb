{
 "cells": [
  {
   "cell_type": "markdown",
   "id": "1bcf45b6",
   "metadata": {},
   "source": [
    "# Numpy\n",
    "\n",
    "Numpyは、科学計算のためのPythonライブラリです。高性能な多次元配列や行列を提供し、これらのオブジェクトを効率的に操作するためのツールを提供します。"
   ]
  },
  {
   "cell_type": "code",
   "execution_count": 1,
   "id": "8f888b98",
   "metadata": {},
   "outputs": [],
   "source": [
    "import numpy as np"
   ]
  },
  {
   "cell_type": "markdown",
   "id": "43a5e18f",
   "metadata": {},
   "source": [
    "## Numpy配列の作成"
   ]
  },
  {
   "cell_type": "markdown",
   "id": "423ac860",
   "metadata": {},
   "source": [
    "配列を作成する基本的な方法は、関数 `np.array()` を使用することです。これはリストを引数に取り、numpy配列を返します。"
   ]
  },
  {
   "cell_type": "code",
   "execution_count": 2,
   "id": "5a9837ea",
   "metadata": {},
   "outputs": [
    {
     "name": "stdout",
     "output_type": "stream",
     "text": [
      "[1 2 3]\n"
     ]
    }
   ],
   "source": [
    "a = np.array([1, 2, 3])\n",
    "print(a)"
   ]
  },
  {
   "cell_type": "markdown",
   "id": "31eea2e5",
   "metadata": {},
   "source": [
    "Numpyでは、配列を作成するための多くのメソッドがあります。例えば、`np.arange()` は整数の配列を作成し、`np.zeros()` はゼロの配列を作成し、`np.ones()` は1の配列を作成します。"
   ]
  },
  {
   "cell_type": "code",
   "execution_count": 3,
   "id": "89e3c55a",
   "metadata": {},
   "outputs": [
    {
     "data": {
      "text/plain": [
       "array([0, 1, 2, 3, 4, 5, 6, 7, 8, 9])"
      ]
     },
     "execution_count": 3,
     "metadata": {},
     "output_type": "execute_result"
    }
   ],
   "source": [
    "np.arange(10)"
   ]
  },
  {
   "cell_type": "code",
   "execution_count": 4,
   "id": "cc921d42",
   "metadata": {},
   "outputs": [
    {
     "data": {
      "text/plain": [
       "array([1, 3, 5, 7, 9])"
      ]
     },
     "execution_count": 4,
     "metadata": {},
     "output_type": "execute_result"
    }
   ],
   "source": [
    "np.arange(1, 10, 2)"
   ]
  },
  {
   "cell_type": "code",
   "execution_count": 5,
   "id": "1eeb6a91",
   "metadata": {},
   "outputs": [
    {
     "data": {
      "text/plain": [
       "array([0., 0., 0., 0., 0., 0., 0., 0., 0., 0.])"
      ]
     },
     "execution_count": 5,
     "metadata": {},
     "output_type": "execute_result"
    }
   ],
   "source": [
    "np.zeros(10)"
   ]
  },
  {
   "cell_type": "code",
   "execution_count": 6,
   "id": "8aa12007",
   "metadata": {},
   "outputs": [
    {
     "data": {
      "text/plain": [
       "array([[0., 0., 0., 0., 0.],\n",
       "       [0., 0., 0., 0., 0.],\n",
       "       [0., 0., 0., 0., 0.]])"
      ]
     },
     "execution_count": 6,
     "metadata": {},
     "output_type": "execute_result"
    }
   ],
   "source": [
    "np.zeros((3, 5))"
   ]
  },
  {
   "cell_type": "code",
   "execution_count": 7,
   "id": "fddf6746",
   "metadata": {},
   "outputs": [
    {
     "data": {
      "text/plain": [
       "array([1., 1., 1., 1., 1., 1., 1., 1., 1., 1.])"
      ]
     },
     "execution_count": 7,
     "metadata": {},
     "output_type": "execute_result"
    }
   ],
   "source": [
    "np.ones(10)"
   ]
  },
  {
   "cell_type": "code",
   "execution_count": 8,
   "id": "719dc32f",
   "metadata": {},
   "outputs": [
    {
     "data": {
      "text/plain": [
       "array([[1., 1., 1., 1., 1.],\n",
       "       [1., 1., 1., 1., 1.],\n",
       "       [1., 1., 1., 1., 1.]])"
      ]
     },
     "execution_count": 8,
     "metadata": {},
     "output_type": "execute_result"
    }
   ],
   "source": [
    "np.ones((3, 5))"
   ]
  },
  {
   "cell_type": "markdown",
   "id": "4f404ec0",
   "metadata": {},
   "source": [
    "`np.random.??` はランダムな配列を作成します。\n",
    "\n",
    "`np.random.rand()` は、0から1の一様分布のランダムな数値の配列を作成します。\n",
    "\n",
    "`np.random.randn()` は、標準正規分布からのランダムな数値の配列を作成します。\n",
    "\n",
    "`np.random.randint(low, high, size)` は、lowからhighまでのランダムな整数の配列を作成します。\n",
    "\n",
    "`np.random.choice(a, size, replace=True, p=None)` は、リストaからランダムな数値の配列を作成します。"
   ]
  },
  {
   "cell_type": "code",
   "execution_count": 9,
   "id": "a4287db3",
   "metadata": {},
   "outputs": [
    {
     "name": "stdout",
     "output_type": "stream",
     "text": [
      "np.random.rand(5) = \n",
      "[0.5488135  0.71518937 0.60276338 0.54488318 0.4236548 ]\n",
      "\n",
      "np.random.randn(5) = \n",
      "[-0.84272405  1.96992445  1.26611853 -0.50587654  2.54520078]\n",
      "\n",
      "np.random.rand(3, 5) = \n",
      "[[0.92559664 0.07103606 0.0871293  0.0202184  0.83261985]\n",
      " [0.77815675 0.87001215 0.97861834 0.79915856 0.46147936]\n",
      " [0.78052918 0.11827443 0.63992102 0.14335329 0.94466892]]\n",
      "\n",
      "np.random.randint(low=1, high=10, size=5) =  [5 8 4 3 8]\n",
      "\n",
      "np.random.randint(10) =  2\n",
      "\n",
      "np.random.randint(1, 10, (3, 5)) = \n",
      "[[1 1 5 6 6]\n",
      " [7 9 5 2 5]\n",
      " [9 2 2 8 4]]\n",
      "np.random.choice(['a', 'b', 'c'], 10) = \n",
      "['c' 'c' 'c' 'a' 'c' 'b' 'a' 'b' 'c' 'a']\n",
      "\n"
     ]
    }
   ],
   "source": [
    "np.random.seed(0)\n",
    "\n",
    "print(\"np.random.rand(5) = \", np.random.rand(5), sep=\"\\n\", end=\"\\n\\n\")\n",
    "\n",
    "print(\"np.random.randn(5) = \", np.random.randn(5), sep=\"\\n\", end=\"\\n\\n\")\n",
    "\n",
    "print(\"np.random.rand(3, 5) = \", np.random.rand(3, 5), sep=\"\\n\", end=\"\\n\\n\")\n",
    "\n",
    "print(\"np.random.randint(low=1, high=10, size=5) = \", np.random.randint(low=1, high=10, size=5), end=\"\\n\\n\")\n",
    "\n",
    "print(\"np.random.randint(10) = \", np.random.randint(10), end=\"\\n\\n\")\n",
    "\n",
    "print(\"np.random.randint(1, 10, (3, 5)) = \", np.random.randint(1, 10, (3, 5)), sep=\"\\n\")\n",
    "\n",
    "print(\"np.random.choice(['a', 'b', 'c'], 10) = \", np.random.choice([\"a\", \"b\", \"c\"], 10), sep=\"\\n\", end=\"\\n\\n\")"
   ]
  },
  {
   "cell_type": "markdown",
   "id": "adb3e881",
   "metadata": {},
   "source": [
    "`np.linspace(start, stop, num, endpoint=True)` は、指定された区間内で均等に分布する数値の配列を作成します。これは関数をプロットする際に便利です。"
   ]
  },
  {
   "cell_type": "code",
   "execution_count": 10,
   "id": "da6d16cf",
   "metadata": {},
   "outputs": [
    {
     "data": {
      "text/plain": [
       "array([0. , 0.2, 0.4, 0.6, 0.8, 1. ])"
      ]
     },
     "execution_count": 10,
     "metadata": {},
     "output_type": "execute_result"
    }
   ],
   "source": [
    "np.linspace(0, 1, 6)"
   ]
  },
  {
   "cell_type": "markdown",
   "id": "55318ea2",
   "metadata": {},
   "source": [
    "`np.eye()` は、対角線上に1があり他は0の行列を作成します。行と列の数を指定して非正方形の単位行列を作成することもできます。"
   ]
  },
  {
   "cell_type": "code",
   "execution_count": 11,
   "id": "534e224e",
   "metadata": {},
   "outputs": [
    {
     "data": {
      "text/plain": [
       "array([[1., 0., 0., 0., 0.],\n",
       "       [0., 1., 0., 0., 0.],\n",
       "       [0., 0., 1., 0., 0.]])"
      ]
     },
     "execution_count": 11,
     "metadata": {},
     "output_type": "execute_result"
    }
   ],
   "source": [
    "np.eye(3, 5)"
   ]
  },
  {
   "cell_type": "code",
   "execution_count": 12,
   "id": "7c530664",
   "metadata": {},
   "outputs": [
    {
     "data": {
      "text/plain": [
       "array([[1., 0., 0., 0., 0.],\n",
       "       [0., 1., 0., 0., 0.],\n",
       "       [0., 0., 1., 0., 0.],\n",
       "       [0., 0., 0., 1., 0.],\n",
       "       [0., 0., 0., 0., 1.]])"
      ]
     },
     "execution_count": 12,
     "metadata": {},
     "output_type": "execute_result"
    }
   ],
   "source": [
    "np.eye(5)  # これは np.identity(5) と同じです"
   ]
  },
  {
   "cell_type": "code",
   "execution_count": 13,
   "id": "85c6037e",
   "metadata": {},
   "outputs": [
    {
     "data": {
      "text/plain": [
       "array([[1., 0., 0., 0., 0.],\n",
       "       [0., 1., 0., 0., 0.],\n",
       "       [0., 0., 1., 0., 0.],\n",
       "       [0., 0., 0., 1., 0.],\n",
       "       [0., 0., 0., 0., 1.]])"
      ]
     },
     "execution_count": 13,
     "metadata": {},
     "output_type": "execute_result"
    }
   ],
   "source": [
    "np.identity(5)"
   ]
  },
  {
   "cell_type": "markdown",
   "id": "0db8f594",
   "metadata": {},
   "source": [
    "`np.empty()` は、与えられた形状とデータ型の未初期化（任意の）データの配列を作成します。配列を作成してから後でデータで埋める場合に使用されます。`np.zeros()` や `np.ones()` を使用して0または1の配列を作成するよりも速くなります。"
   ]
  },
  {
   "cell_type": "code",
   "execution_count": 14,
   "id": "1b399d22",
   "metadata": {},
   "outputs": [
    {
     "data": {
      "text/plain": [
       "array([1.e-323, 1.e-323, 1.e-323, 0.e+000, 1.e-323, 5.e-324, 0.e+000,\n",
       "       5.e-324, 1.e-323, 0.e+000])"
      ]
     },
     "execution_count": 14,
     "metadata": {},
     "output_type": "execute_result"
    }
   ],
   "source": [
    "np.empty(10)"
   ]
  },
  {
   "cell_type": "markdown",
   "id": "6a46c376",
   "metadata": {},
   "source": [
    "`np.zeros_like()`, `np.ones_like()`, `np.empty_like()` は、与えられた配列と同じ形状とデータ型のゼロ、1、または未初期化のデータの配列を作成します。"
   ]
  },
  {
   "cell_type": "code",
   "execution_count": 15,
   "id": "69609582",
   "metadata": {},
   "outputs": [
    {
     "data": {
      "text/plain": [
       "array([[0, 0, 0],\n",
       "       [0, 0, 0]])"
      ]
     },
     "execution_count": 15,
     "metadata": {},
     "output_type": "execute_result"
    }
   ],
   "source": [
    "a = np.array([[1, 2, 3], [4, 5, 6]])\n",
    "\n",
    "np.zeros_like(a)"
   ]
  },
  {
   "cell_type": "code",
   "execution_count": 16,
   "id": "e1965fae",
   "metadata": {},
   "outputs": [
    {
     "data": {
      "text/plain": [
       "array([[3, 3, 3, 3, 3],\n",
       "       [3, 3, 3, 3, 3],\n",
       "       [3, 3, 3, 3, 3]])"
      ]
     },
     "execution_count": 16,
     "metadata": {},
     "output_type": "execute_result"
    }
   ],
   "source": [
    "np.full((3, 5), 3)"
   ]
  },
  {
   "cell_type": "code",
   "execution_count": 17,
   "id": "7c76b989",
   "metadata": {},
   "outputs": [
    {
     "data": {
      "text/plain": [
       "array([[0., 1., 2., 3., 4.],\n",
       "       [1., 2., 3., 4., 5.],\n",
       "       [2., 3., 4., 5., 6.]])"
      ]
     },
     "execution_count": 17,
     "metadata": {},
     "output_type": "execute_result"
    }
   ],
   "source": [
    "np.fromfunction(lambda i, j: i + j, (3, 5))"
   ]
  },
  {
   "cell_type": "markdown",
   "id": "a6e8567d",
   "metadata": {},
   "source": [
    "## 配列の操作"
   ]
  },
  {
   "cell_type": "code",
   "execution_count": 18,
   "id": "6c6d9258",
   "metadata": {},
   "outputs": [
    {
     "name": "stdout",
     "output_type": "stream",
     "text": [
      "[1 2 3 4]\n"
     ]
    }
   ],
   "source": [
    "# 配列に 4 を追加する\n",
    "\n",
    "a = np.array([1, 2, 3])\n",
    "b = np.append(a, 4)\n",
    "print(b)"
   ]
  },
  {
   "cell_type": "code",
   "execution_count": 19,
   "id": "5ed2403f",
   "metadata": {},
   "outputs": [
    {
     "name": "stdout",
     "output_type": "stream",
     "text": [
      "[1 3]\n"
     ]
    }
   ],
   "source": [
    "# a[1] を削除する\n",
    "a = np.array([1, 2, 3])\n",
    "b = np.delete(a, 1)\n",
    "print(b)"
   ]
  },
  {
   "cell_type": "code",
   "execution_count": 20,
   "id": "ae489e36",
   "metadata": {},
   "outputs": [
    {
     "name": "stdout",
     "output_type": "stream",
     "text": [
      "[1 2 3]\n"
     ]
    }
   ],
   "source": [
    "# 配列をソートする\n",
    "a = np.array([3, 2, 1])\n",
    "b = np.sort(a)\n",
    "print(b)"
   ]
  },
  {
   "cell_type": "code",
   "execution_count": 21,
   "id": "fe94b652",
   "metadata": {},
   "outputs": [
    {
     "name": "stdout",
     "output_type": "stream",
     "text": [
      "[1 2 3 4 5 6]\n"
     ]
    }
   ],
   "source": [
    "# 二つの配列を連結する\n",
    "a = np.array([1, 2, 3])\n",
    "b = np.array([4, 5, 6])\n",
    "c = np.concatenate((a, b))\n",
    "print(c)"
   ]
  },
  {
   "cell_type": "code",
   "execution_count": 22,
   "id": "db222c64",
   "metadata": {},
   "outputs": [
    {
     "name": "stdout",
     "output_type": "stream",
     "text": [
      "a.shape  (6,)\n",
      "b =  [[1 2 3]\n",
      " [4 5 6]]\n",
      "b.shape  (2, 3)\n"
     ]
    }
   ],
   "source": [
    "# 配列を再形成する\n",
    "a = np.array([1, 2, 3, 4, 5, 6])\n",
    "print(\"a.shape \", a.shape)\n",
    "b = a.reshape(2, 3)\n",
    "print(\"b = \", b)\n",
    "print(\"b.shape \", b.shape)"
   ]
  },
  {
   "cell_type": "code",
   "execution_count": 23,
   "id": "4035d2e2",
   "metadata": {},
   "outputs": [
    {
     "name": "stdout",
     "output_type": "stream",
     "text": [
      "[False False False  True  True  True]\n",
      "[4 5 6]\n"
     ]
    }
   ],
   "source": [
    "# 条件に基づく選択\n",
    "a = np.array([1, 2, 3, 4, 5, 6])\n",
    "print(a > 3)\n",
    "print(a[a > 3])"
   ]
  },
  {
   "cell_type": "code",
   "execution_count": 24,
   "id": "44822c19",
   "metadata": {},
   "outputs": [
    {
     "name": "stdout",
     "output_type": "stream",
     "text": [
      "[2 3 4]\n"
     ]
    }
   ],
   "source": [
    "# 配列をスライスする\n",
    "a = np.array([1, 2, 3, 4, 5, 6])\n",
    "# a[1] から a[3] までを表示します（a[4]（=5）は含まれません）\n",
    "print(a[1:4])"
   ]
  },
  {
   "cell_type": "markdown",
   "id": "25ad7aa9",
   "metadata": {},
   "source": [
    "## 配列の演算"
   ]
  },
  {
   "cell_type": "code",
   "execution_count": 25,
   "id": "b1b4e8b2",
   "metadata": {},
   "outputs": [
    {
     "name": "stdout",
     "output_type": "stream",
     "text": [
      "[ 6  8 10 12]\n",
      "[-4 -4 -4 -4]\n",
      "[ 5 12 21 32]\n",
      "[0.2        0.33333333 0.42857143 0.5       ]\n"
     ]
    }
   ],
   "source": [
    "a = np.array([1, 2, 3, 4])\n",
    "b = np.array([5, 6, 7, 8])\n",
    "\n",
    "# 加算\n",
    "print(a + b)\n",
    "\n",
    "# 減算\n",
    "print(a - b)\n",
    "\n",
    "# 乗算\n",
    "print(a * b)\n",
    "\n",
    "# 除算\n",
    "print(a / b)"
   ]
  },
  {
   "cell_type": "code",
   "execution_count": 26,
   "id": "cd98bca5",
   "metadata": {},
   "outputs": [
    {
     "name": "stdout",
     "output_type": "stream",
     "text": [
      "a + 2 =  [3 4 5 6]\n",
      "a - 2 =  [-1  0  1  2]\n",
      "a * 2 =  [2 4 6 8]\n",
      "a / 2 =  [0.5 1.  1.5 2. ]\n",
      "a ** 0.5 =  [1.         1.41421356 1.73205081 2.        ]\n",
      "a ** 2 =  [ 1  4  9 16]\n",
      "np.log(a) =  [0.         0.69314718 1.09861229 1.38629436]\n",
      "np.exp(a) =  [ 2.71828183  7.3890561  20.08553692 54.59815003]\n",
      "np.sin(a) =  [ 0.84147098  0.90929743  0.14112001 -0.7568025 ]\n",
      "np.cos(a) =  [ 0.54030231 -0.41614684 -0.9899925  -0.65364362]\n"
     ]
    }
   ],
   "source": [
    "a = np.array([1, 2, 3, 4])\n",
    "\n",
    "# 各要素にスカラーを加算\n",
    "print(\"a + 2 = \", a + 2)\n",
    "\n",
    "# 各要素からスカラーを減算\n",
    "print(\"a - 2 = \", a - 2)\n",
    "\n",
    "# 各要素にスカラーを乗算\n",
    "print(\"a * 2 = \", a * 2)\n",
    "\n",
    "# 各要素をスカラーで除算\n",
    "print(\"a / 2 = \", a / 2)\n",
    "\n",
    "# 各要素の平方根を取得\n",
    "print(\"a ** 0.5 = \", np.sqrt(a))\n",
    "\n",
    "# 各要素を二乗\n",
    "print(\"a ** 2 = \", a**2)\n",
    "\n",
    "# 各要素の対数を取得\n",
    "print(\"np.log(a) = \", np.log(a))\n",
    "\n",
    "# 各要素の指数を取得\n",
    "print(\"np.exp(a) = \", np.exp(a))\n",
    "\n",
    "# 各要素の sin を取得\n",
    "print(\"np.sin(a) = \", np.sin(a))\n",
    "\n",
    "# 各要素の cos を取得\n",
    "print(\"np.cos(a) = \", np.cos(a))"
   ]
  },
  {
   "cell_type": "code",
   "execution_count": 27,
   "id": "3fbb6718",
   "metadata": {},
   "outputs": [
    {
     "name": "stdout",
     "output_type": "stream",
     "text": [
      "max =  5\n",
      "min =  1\n",
      "argmax =  4\n",
      "argmin =  0\n",
      "sum =  15\n",
      "mean =  3.0\n",
      "std =  1.4142135623730951\n",
      "var =  2.0\n"
     ]
    }
   ],
   "source": [
    "a = np.array([1, 2, 3, 4, 5])\n",
    "\n",
    "# 最大値\n",
    "print(\"max = \", a.max())\n",
    "\n",
    "# 最小値\n",
    "print(\"min = \", a.min())\n",
    "\n",
    "# 最大値のインデックス\n",
    "print(\"argmax = \", a.argmax())\n",
    "\n",
    "# 最小値のインデックス\n",
    "print(\"argmin = \", a.argmin())\n",
    "\n",
    "# 合計\n",
    "print(\"sum = \", a.sum())\n",
    "\n",
    "# 平均\n",
    "print(\"mean = \", a.mean())\n",
    "\n",
    "# 標準偏差\n",
    "print(\"std = \", a.std())\n",
    "\n",
    "# 分散\n",
    "print(\"var = \", a.var())"
   ]
  },
  {
   "cell_type": "code",
   "execution_count": 28,
   "id": "45364a4c",
   "metadata": {},
   "outputs": [
    {
     "name": "stdout",
     "output_type": "stream",
     "text": [
      "70\n"
     ]
    }
   ],
   "source": [
    "# ドット積\n",
    "a = np.array([1, 2, 3, 4])\n",
    "b = np.array([5, 6, 7, 8])\n",
    "print(np.dot(a, b))"
   ]
  },
  {
   "cell_type": "markdown",
   "id": "42050d4a",
   "metadata": {},
   "source": [
    "## 行列の操作"
   ]
  },
  {
   "cell_type": "code",
   "execution_count": 29,
   "id": "f61856ea",
   "metadata": {},
   "outputs": [
    {
     "name": "stdout",
     "output_type": "stream",
     "text": [
      "[[ 58  64]\n",
      " [139 154]]\n",
      "\n",
      "[[ 58  64]\n",
      " [139 154]]\n",
      "\n",
      "[[ 58  64]\n",
      " [139 154]]\n",
      "\n"
     ]
    }
   ],
   "source": [
    "a = np.array([[1, 2, 3], [4, 5, 6]])\n",
    "b = np.array([[7, 8], [9, 10], [11, 12]])\n",
    "\n",
    "# 行列の積\n",
    "print(np.dot(a, b), end=\"\\n\\n\")\n",
    "\n",
    "print(a.dot(b), end=\"\\n\\n\")\n",
    "\n",
    "print(a @ b, end=\"\\n\\n\")"
   ]
  },
  {
   "cell_type": "code",
   "execution_count": 30,
   "id": "06f052a9",
   "metadata": {},
   "outputs": [
    {
     "name": "stdout",
     "output_type": "stream",
     "text": [
      "a.T = \n",
      "[[ 1  4  7]\n",
      " [ 2  6 11]\n",
      " [ 3  8 13]]\n",
      "\n",
      "np.trace(a) =  20\n",
      "\n",
      "np.linalg.det(a) =  3.999999999999999\n",
      "\n",
      "np.linalg.inv(a) = \n",
      "[[-2.5   1.75 -0.5 ]\n",
      " [ 1.   -2.    1.  ]\n",
      " [ 0.5   0.75 -0.5 ]]\n",
      "\n"
     ]
    }
   ],
   "source": [
    "a = np.array([[1, 2, 3], [4, 6, 8], [7, 11, 13]])\n",
    "\n",
    "# 転置行列\n",
    "print(\"a.T = \", a.T, sep=\"\\n\", end=\"\\n\\n\")\n",
    "\n",
    "# トレース\n",
    "print(\"np.trace(a) = \", np.trace(a), end=\"\\n\\n\")\n",
    "\n",
    "# 行列式\n",
    "print(\"np.linalg.det(a) = \", np.linalg.det(a), end=\"\\n\\n\")\n",
    "\n",
    "# 逆行列\n",
    "print(\"np.linalg.inv(a) = \", np.linalg.inv(a), sep=\"\\n\", end=\"\\n\\n\")"
   ]
  },
  {
   "cell_type": "markdown",
   "id": "c21555ca",
   "metadata": {},
   "source": [
    "`np.linalg.???` は、線形代数のためのモジュールです。`linalg` は `scipy.linalg.???` としても `scipy` から呼び出すことができます。"
   ]
  },
  {
   "cell_type": "code",
   "execution_count": 31,
   "id": "9b69972d",
   "metadata": {},
   "outputs": [
    {
     "name": "stdout",
     "output_type": "stream",
     "text": [
      "eigvals = \n",
      "[20.96315698 -0.27883016 -0.68432682]\n",
      "\n",
      "eigvecs = \n",
      "[[-0.17747914 -0.84842833 -0.74978668]\n",
      " [-0.50048229  0.52923643 -0.27279835]\n",
      " [-0.8473598   0.00884096  0.6028275 ]]\n",
      "\n",
      "a = \n",
      "[[ 1.  2.  3.]\n",
      " [ 4.  6.  8.]\n",
      " [ 7. 11. 13.]]\n",
      "\n"
     ]
    }
   ],
   "source": [
    "# 固有値と固有ベクトル\n",
    "eigvals, eigvecs = np.linalg.eig(a)\n",
    "print(\"eigvals = \", eigvals, sep=\"\\n\", end=\"\\n\\n\")\n",
    "print(\"eigvecs = \", eigvecs, sep=\"\\n\", end=\"\\n\\n\")\n",
    "\n",
    "print(\"a = \", eigvecs @ np.diag(eigvals) @ np.linalg.inv(eigvecs), sep=\"\\n\", end=\"\\n\\n\")"
   ]
  },
  {
   "cell_type": "code",
   "execution_count": 32,
   "id": "3d4a3cab",
   "metadata": {},
   "outputs": [
    {
     "name": "stdout",
     "output_type": "stream",
     "text": [
      "U = \n",
      "[[-0.17104729  0.72829433  0.6635738 ]\n",
      " [-0.49727069  0.51761162 -0.69627586]\n",
      " [-0.85056727 -0.4490719   0.27362335]]\n",
      "\n",
      "S = \n",
      "[21.64329507  0.70666899  0.26152943]\n",
      "\n",
      "V = \n",
      "[[-0.37490137 -0.58595323 -0.71840641]\n",
      " [-0.48786982 -0.53424233  0.69033917]\n",
      " [-0.78830959  0.6092979  -0.08558071]]\n",
      "\n",
      "a = \n",
      "[[ 1.  2.  3.]\n",
      " [ 4.  6.  8.]\n",
      " [ 7. 11. 13.]]\n",
      "\n"
     ]
    }
   ],
   "source": [
    "# 特異値分解\n",
    "U, S, V = np.linalg.svd(a)\n",
    "print(\"U = \", U, sep=\"\\n\", end=\"\\n\\n\")\n",
    "print(\"S = \", S, sep=\"\\n\", end=\"\\n\\n\")\n",
    "print(\"V = \", V, sep=\"\\n\", end=\"\\n\\n\")\n",
    "\n",
    "print(\"a = \", U @ np.diag(S) @ V, sep=\"\\n\", end=\"\\n\\n\")"
   ]
  },
  {
   "cell_type": "markdown",
   "id": "d588d36e",
   "metadata": {},
   "source": [
    "## [Numpyについてもっと学ぶ](https://numpy.org/doc/stable/user/absolute_beginners.html)"
   ]
  }
 ],
 "metadata": {
  "jupytext": {
   "text_representation": {
    "extension": ".md",
    "format_name": "myst",
    "format_version": 0.13,
    "jupytext_version": "1.15.0"
   }
  },
  "kernelspec": {
   "display_name": "venv",
   "language": "python",
   "name": "python3"
  },
  "language_info": {
   "codemirror_mode": {
    "name": "ipython",
    "version": 3
   },
   "file_extension": ".py",
   "mimetype": "text/x-python",
   "name": "python",
   "nbconvert_exporter": "python",
   "pygments_lexer": "ipython3",
   "version": "3.9.6"
  },
  "source_map": [
   12,
   17,
   19,
   23,
   27,
   30,
   34,
   38,
   42,
   46,
   50,
   54,
   56,
   68,
   84,
   88,
   90,
   94,
   98,
   102,
   104,
   108,
   110,
   114,
   120,
   124,
   126,
   130,
   138,
   145,
   152,
   160,
   169,
   176,
   181,
   185,
   202,
   236,
   264,
   269,
   273,
   285,
   299,
   303,
   312,
   320
  ]
 },
 "nbformat": 4,
 "nbformat_minor": 5
}