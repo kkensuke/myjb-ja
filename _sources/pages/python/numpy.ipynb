{
 "cells": [
  {
   "cell_type": "markdown",
   "id": "a9a02381",
   "metadata": {},
   "source": [
    "# Numpy\n",
    "\n",
    "Numpyは、科学計算のためのPythonライブラリです。高性能な多次元配列や行列を提供し、これらのオブジェクトを効率的に操作するためのツールを提供します。"
   ]
  },
  {
   "cell_type": "code",
   "execution_count": null,
   "id": "b7ea71d5",
   "metadata": {},
   "outputs": [],
   "source": [
    "import numpy as np"
   ]
  },
  {
   "cell_type": "markdown",
   "id": "16c85727",
   "metadata": {},
   "source": [
    "## Numpy配列の作成"
   ]
  },
  {
   "cell_type": "markdown",
   "id": "ba96a6c7",
   "metadata": {},
   "source": [
    "配列を作成する基本的な方法は、関数 `np.array()` を使用することです。これはリストを引数に取り、numpy配列を返します。"
   ]
  },
  {
   "cell_type": "code",
   "execution_count": null,
   "id": "4d7bce90",
   "metadata": {},
   "outputs": [],
   "source": [
    "a = np.array([1, 2, 3])\n",
    "print(a)"
   ]
  },
  {
   "cell_type": "markdown",
   "id": "15fc34d6",
   "metadata": {},
   "source": [
    "Numpyでは、配列を作成するための多くのメソッドがあります。例えば、`np.arange()` は整数の配列を作成し、`np.zeros()` はゼロの配列を作成し、`np.ones()` は1の配列を作成します。"
   ]
  },
  {
   "cell_type": "code",
   "execution_count": null,
   "id": "9c818c31",
   "metadata": {},
   "outputs": [],
   "source": [
    "np.arange(10)"
   ]
  },
  {
   "cell_type": "code",
   "execution_count": null,
   "id": "d336b18e",
   "metadata": {},
   "outputs": [],
   "source": [
    "np.arange(1, 10, 2)"
   ]
  },
  {
   "cell_type": "code",
   "execution_count": null,
   "id": "2a9c18ec",
   "metadata": {},
   "outputs": [],
   "source": [
    "np.zeros(10)"
   ]
  },
  {
   "cell_type": "code",
   "execution_count": null,
   "id": "a2163174",
   "metadata": {},
   "outputs": [],
   "source": [
    "np.zeros((3, 5))"
   ]
  },
  {
   "cell_type": "code",
   "execution_count": null,
   "id": "8e763348",
   "metadata": {},
   "outputs": [],
   "source": [
    "np.ones(10)"
   ]
  },
  {
   "cell_type": "code",
   "execution_count": null,
   "id": "bcb07c2e",
   "metadata": {},
   "outputs": [],
   "source": [
    "np.ones((3, 5))"
   ]
  },
  {
   "cell_type": "markdown",
   "id": "60fcd08e",
   "metadata": {},
   "source": [
    "`np.random.??` はランダムな配列を作成します。\n",
    "\n",
    "`np.random.rand()` は、0から1の一様分布のランダムな数値の配列を作成します。\n",
    "\n",
    "`np.random.randn()` は、標準正規分布からのランダムな数値の配列を作成します。\n",
    "\n",
    "`np.random.randint(low, high, size)` は、lowからhighまでのランダムな整数の配列を作成します。\n",
    "\n",
    "`np.random.choice(a, size, replace=True, p=None)` は、リストaからランダムな数値の配列を作成します。"
   ]
  },
  {
   "cell_type": "code",
   "execution_count": null,
   "id": "1e19a929",
   "metadata": {},
   "outputs": [],
   "source": [
    "np.random.seed(0)\n",
    "\n",
    "print(\"np.random.rand(5) = \", np.random.rand(5), sep=\"\\n\", end=\"\\n\\n\")\n",
    "\n",
    "print(\"np.random.randn(5) = \", np.random.randn(5), sep=\"\\n\", end=\"\\n\\n\")\n",
    "\n",
    "print(\"np.random.rand(3, 5) = \", np.random.rand(3, 5), sep=\"\\n\", end=\"\\n\\n\")\n",
    "\n",
    "print(\"np.random.randint(low=1, high=10, size=5) = \", np.random.randint(low=1, high=10, size=5), end=\"\\n\\n\")\n",
    "\n",
    "print(\"np.random.randint(10) = \", np.random.randint(10), end=\"\\n\\n\")\n",
    "\n",
    "print(\"np.random.randint(1, 10, (3, 5)) = \", np.random.randint(1, 10, (3, 5)), sep=\"\\n\")\n",
    "\n",
    "print(\"np.random.choice(['a', 'b', 'c'], 10) = \", np.random.choice([\"a\", \"b\", \"c\"], 10), sep=\"\\n\", end=\"\\n\\n\")"
   ]
  },
  {
   "cell_type": "markdown",
   "id": "be60c680",
   "metadata": {},
   "source": [
    "`np.linspace(start, stop, num, endpoint=True)` は、指定された区間内で均等に分布する数値の配列を作成します。これは関数をプロットする際に便利です。"
   ]
  },
  {
   "cell_type": "code",
   "execution_count": null,
   "id": "a8f09d96",
   "metadata": {},
   "outputs": [],
   "source": [
    "np.linspace(0, 1, 6)"
   ]
  },
  {
   "cell_type": "markdown",
   "id": "cbed8421",
   "metadata": {},
   "source": [
    "`np.eye()` は、対角線上に1があり他は0の行列を作成します。行と列の数を指定して非正方形の単位行列を作成することもできます。"
   ]
  },
  {
   "cell_type": "code",
   "execution_count": null,
   "id": "18875dde",
   "metadata": {},
   "outputs": [],
   "source": [
    "np.eye(3, 5)"
   ]
  },
  {
   "cell_type": "code",
   "execution_count": null,
   "id": "9d42be44",
   "metadata": {},
   "outputs": [],
   "source": [
    "np.eye(5)  # これは np.identity(5) と同じです"
   ]
  },
  {
   "cell_type": "code",
   "execution_count": null,
   "id": "d3295c34",
   "metadata": {},
   "outputs": [],
   "source": [
    "np.identity(5)"
   ]
  },
  {
   "cell_type": "markdown",
   "id": "c989a5f3",
   "metadata": {},
   "source": [
    "`np.empty()` は、与えられた形状とデータ型の未初期化（任意の）データの配列を作成します。配列を作成してから後でデータで埋める場合に使用されます。`np.zeros()` や `np.ones()` を使用して0または1の配列を作成するよりも速くなります。"
   ]
  },
  {
   "cell_type": "code",
   "execution_count": null,
   "id": "2f1d0c5e",
   "metadata": {},
   "outputs": [],
   "source": [
    "np.empty(10)"
   ]
  },
  {
   "cell_type": "markdown",
   "id": "f8572397",
   "metadata": {},
   "source": [
    "`np.zeros_like()`, `np.ones_like()`, `np.empty_like()` は、与えられた配列と同じ形状とデータ型のゼロ、1、または未初期化のデータの配列を作成します。"
   ]
  },
  {
   "cell_type": "code",
   "execution_count": null,
   "id": "714cb4d9",
   "metadata": {},
   "outputs": [],
   "source": [
    "a = np.array([[1, 2, 3], [4, 5, 6]])\n",
    "\n",
    "np.zeros_like(a)"
   ]
  },
  {
   "cell_type": "code",
   "execution_count": null,
   "id": "8a817843",
   "metadata": {},
   "outputs": [],
   "source": [
    "np.full((3, 5), 3)"
   ]
  },
  {
   "cell_type": "code",
   "execution_count": null,
   "id": "448ea22b",
   "metadata": {},
   "outputs": [],
   "source": [
    "np.fromfunction(lambda i, j: i + j, (3, 5))"
   ]
  },
  {
   "cell_type": "markdown",
   "id": "8dce2924",
   "metadata": {},
   "source": [
    "## 配列の操作"
   ]
  },
  {
   "cell_type": "code",
   "execution_count": null,
   "id": "31479f0d",
   "metadata": {},
   "outputs": [],
   "source": [
    "# 配列に 4 を追加する\n",
    "\n",
    "a = np.array([1, 2, 3])\n",
    "b = np.append(a, 4)\n",
    "print(b)"
   ]
  },
  {
   "cell_type": "code",
   "execution_count": null,
   "id": "539a77b5",
   "metadata": {},
   "outputs": [],
   "source": [
    "# a[1] を削除する\n",
    "a = np.array([1, 2, 3])\n",
    "b = np.delete(a, 1)\n",
    "print(b)"
   ]
  },
  {
   "cell_type": "code",
   "execution_count": null,
   "id": "2df0d931",
   "metadata": {},
   "outputs": [],
   "source": [
    "# 配列をソートする\n",
    "a = np.array([3, 2, 1])\n",
    "b = np.sort(a)\n",
    "print(b)"
   ]
  },
  {
   "cell_type": "code",
   "execution_count": null,
   "id": "c51c9d91",
   "metadata": {},
   "outputs": [],
   "source": [
    "# 二つの配列を連結する\n",
    "a = np.array([1, 2, 3])\n",
    "b = np.array([4, 5, 6])\n",
    "c = np.concatenate((a, b))\n",
    "print(c)"
   ]
  },
  {
   "cell_type": "code",
   "execution_count": null,
   "id": "2a3cd8ca",
   "metadata": {},
   "outputs": [],
   "source": [
    "# 配列を再形成する\n",
    "a = np.array([1, 2, 3, 4, 5, 6])\n",
    "print(\"a.shape \", a.shape)\n",
    "b = a.reshape(2, 3)\n",
    "print(\"b = \", b)\n",
    "print(\"b.shape \", b.shape)"
   ]
  },
  {
   "cell_type": "code",
   "execution_count": null,
   "id": "20fb796e",
   "metadata": {},
   "outputs": [],
   "source": [
    "# 条件に基づく選択\n",
    "a = np.array([1, 2, 3, 4, 5, 6])\n",
    "print(a > 3)\n",
    "print(a[a > 3])"
   ]
  },
  {
   "cell_type": "code",
   "execution_count": null,
   "id": "d4515290",
   "metadata": {},
   "outputs": [],
   "source": [
    "# 配列をスライスする\n",
    "a = np.array([1, 2, 3, 4, 5, 6])\n",
    "# a[1] から a[3] までを表示します（a[4]（=5）は含まれません）\n",
    "print(a[1:4])"
   ]
  },
  {
   "cell_type": "markdown",
   "id": "b04fdfee",
   "metadata": {},
   "source": [
    "## 配列の演算"
   ]
  },
  {
   "cell_type": "code",
   "execution_count": null,
   "id": "3257e2bb",
   "metadata": {},
   "outputs": [],
   "source": [
    "a = np.array([1, 2, 3, 4])\n",
    "b = np.array([5, 6, 7, 8])\n",
    "\n",
    "# 加算\n",
    "print(a + b)\n",
    "\n",
    "# 減算\n",
    "print(a - b)\n",
    "\n",
    "# 乗算\n",
    "print(a * b)\n",
    "\n",
    "# 除算\n",
    "print(a / b)"
   ]
  },
  {
   "cell_type": "code",
   "execution_count": null,
   "id": "3716bfd8",
   "metadata": {},
   "outputs": [],
   "source": [
    "a = np.array([1, 2, 3, 4])\n",
    "\n",
    "# 各要素にスカラーを加算\n",
    "print(\"a + 2 = \", a + 2)\n",
    "\n",
    "# 各要素からスカラーを減算\n",
    "print(\"a - 2 = \", a - 2)\n",
    "\n",
    "# 各要素にスカラーを乗算\n",
    "print(\"a * 2 = \", a * 2)\n",
    "\n",
    "# 各要素をスカラーで除算\n",
    "print(\"a / 2 = \", a / 2)\n",
    "\n",
    "# 各要素の平方根を取得\n",
    "print(\"a ** 0.5 = \", np.sqrt(a))\n",
    "\n",
    "# 各要素を二乗\n",
    "print(\"a ** 2 = \", a**2)\n",
    "\n",
    "# 各要素の対数を取得\n",
    "print(\"np.log(a) = \", np.log(a))\n",
    "\n",
    "# 各要素の指数を取得\n",
    "print(\"np.exp(a) = \", np.exp(a))\n",
    "\n",
    "# 各要素の sin を取得\n",
    "print(\"np.sin(a) = \", np.sin(a))\n",
    "\n",
    "# 各要素の cos を取得\n",
    "print(\"np.cos(a) = \", np.cos(a))"
   ]
  },
  {
   "cell_type": "code",
   "execution_count": null,
   "id": "256596e4",
   "metadata": {},
   "outputs": [],
   "source": [
    "a = np.array([1, 2, 3, 4, 5])\n",
    "\n",
    "# 最大値\n",
    "print(\"max = \", a.max())\n",
    "\n",
    "# 最小値\n",
    "print(\"min = \", a.min())\n",
    "\n",
    "# 最大値のインデックス\n",
    "print(\"argmax = \", a.argmax())\n",
    "\n",
    "# 最小値のインデックス\n",
    "print(\"argmin = \", a.argmin())\n",
    "\n",
    "# 合計\n",
    "print(\"sum = \", a.sum())\n",
    "\n",
    "# 平均\n",
    "print(\"mean = \", a.mean())\n",
    "\n",
    "# 標準偏差\n",
    "print(\"std = \", a.std())\n",
    "\n",
    "# 分散\n",
    "print(\"var = \", a.var())"
   ]
  },
  {
   "cell_type": "code",
   "execution_count": null,
   "id": "e1647246",
   "metadata": {},
   "outputs": [],
   "source": [
    "# ドット積\n",
    "a = np.array([1, 2, 3, 4])\n",
    "b = np.array([5, 6, 7, 8])\n",
    "print(np.dot(a, b))"
   ]
  },
  {
   "cell_type": "markdown",
   "id": "9827ca48",
   "metadata": {},
   "source": [
    "## 行列の操作"
   ]
  },
  {
   "cell_type": "code",
   "execution_count": null,
   "id": "72816bfc",
   "metadata": {},
   "outputs": [],
   "source": [
    "a = np.array([[1, 2, 3], [4, 5, 6]])\n",
    "b = np.array([[7, 8], [9, 10], [11, 12]])\n",
    "\n",
    "# 行列の積\n",
    "print(np.dot(a, b), end=\"\\n\\n\")\n",
    "\n",
    "print(a.dot(b), end=\"\\n\\n\")\n",
    "\n",
    "print(a @ b, end=\"\\n\\n\")"
   ]
  },
  {
   "cell_type": "code",
   "execution_count": null,
   "id": "a051081a",
   "metadata": {},
   "outputs": [],
   "source": [
    "a = np.array([[1, 2, 3], [4, 6, 8], [7, 11, 13]])\n",
    "\n",
    "# 転置行列\n",
    "print(\"a.T = \", a.T, sep=\"\\n\", end=\"\\n\\n\")\n",
    "\n",
    "# トレース\n",
    "print(\"np.trace(a) = \", np.trace(a), end=\"\\n\\n\")\n",
    "\n",
    "# 行列式\n",
    "print(\"np.linalg.det(a) = \", np.linalg.det(a), end=\"\\n\\n\")\n",
    "\n",
    "# 逆行列\n",
    "print(\"np.linalg.inv(a) = \", np.linalg.inv(a), sep=\"\\n\", end=\"\\n\\n\")"
   ]
  },
  {
   "cell_type": "markdown",
   "id": "5a166da8",
   "metadata": {},
   "source": [
    "`np.linalg.???` は、線形代数のためのモジュールです。`linalg` は `scipy.linalg.???` としても `scipy` から呼び出すことができます。"
   ]
  },
  {
   "cell_type": "code",
   "execution_count": null,
   "id": "0b109ead",
   "metadata": {},
   "outputs": [],
   "source": [
    "# 固有値と固有ベクトル\n",
    "eigvals, eigvecs = np.linalg.eig(a)\n",
    "print(\"eigvals = \", eigvals, sep=\"\\n\", end=\"\\n\\n\")\n",
    "print(\"eigvecs = \", eigvecs, sep=\"\\n\", end=\"\\n\\n\")\n",
    "\n",
    "print(\"a = \", eigvecs @ np.diag(eigvals) @ np.linalg.inv(eigvecs), sep=\"\\n\", end=\"\\n\\n\")"
   ]
  },
  {
   "cell_type": "code",
   "execution_count": null,
   "id": "71978d19",
   "metadata": {},
   "outputs": [],
   "source": [
    "# 特異値分解\n",
    "U, S, V = np.linalg.svd(a)\n",
    "print(\"U = \", U, sep=\"\\n\", end=\"\\n\\n\")\n",
    "print(\"S = \", S, sep=\"\\n\", end=\"\\n\\n\")\n",
    "print(\"V = \", V, sep=\"\\n\", end=\"\\n\\n\")\n",
    "\n",
    "print(\"a = \", U @ np.diag(S) @ V, sep=\"\\n\", end=\"\\n\\n\")"
   ]
  },
  {
   "cell_type": "markdown",
   "id": "18ebb4a5",
   "metadata": {},
   "source": [
    "## [Numpyについてもっと学ぶ](https://numpy.org/doc/stable/user/absolute_beginners.html)"
   ]
  }
 ],
 "metadata": {
  "jupytext": {
   "text_representation": {
    "extension": ".md",
    "format_name": "myst",
    "format_version": 0.13,
    "jupytext_version": "1.15.0"
   }
  },
  "kernelspec": {
   "display_name": "venv",
   "language": "python",
   "name": "python3"
  },
  "source_map": [
   12,
   17,
   19,
   23,
   27,
   30,
   34,
   38,
   42,
   46,
   50,
   54,
   56,
   68,
   84,
   88,
   90,
   94,
   98,
   102,
   104,
   108,
   110,
   114,
   120,
   124,
   126,
   130,
   138,
   145,
   152,
   160,
   169,
   176,
   181,
   185,
   202,
   236,
   264,
   269,
   273,
   285,
   299,
   303,
   312,
   320
  ]
 },
 "nbformat": 4,
 "nbformat_minor": 5
}