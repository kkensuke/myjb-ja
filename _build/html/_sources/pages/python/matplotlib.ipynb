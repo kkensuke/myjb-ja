{
 "cells": [
  {
   "cell_type": "markdown",
   "id": "270c3617",
   "metadata": {},
   "source": [
    "# [Matplotlib](https://matplotlib.org/)\n",
    "\n",
    "Matplotlib は、Python でさまざまなグラフを描画するための包括的なライブラリです。"
   ]
  },
  {
   "cell_type": "code",
   "execution_count": null,
   "id": "f1f05a96",
   "metadata": {},
   "outputs": [],
   "source": [
    "import matplotlib.pyplot as plt\n",
    "import numpy as np"
   ]
  },
  {
   "cell_type": "markdown",
   "id": "6dd6ae4b",
   "metadata": {},
   "source": [
    "## 1. 直線をプロットする"
   ]
  },
  {
   "cell_type": "code",
   "execution_count": null,
   "id": "f8e492f8",
   "metadata": {},
   "outputs": [],
   "source": [
    "# 正方関数を定義\n",
    "def square(x):\n",
    "    return x**2\n",
    "\n",
    "# x と y の値を作成\n",
    "# np.linspace() は、指定された範囲内で均等に分布する数値を返す関数です。\n",
    "# これを使用して、-5 から 5 までのx値を、間に 100 のポイントで作成します。\n",
    "x = np.linspace(-5, 5, 100)\n",
    "y = square(x)"
   ]
  },
  {
   "cell_type": "code",
   "execution_count": null,
   "id": "73bf6fda",
   "metadata": {},
   "outputs": [],
   "source": [
    "# 関数をプロットします。`plt` は `matplotlib.pyplot` の別名です。\n",
    "plt.plot(x, y)\n",
    "plt.show()"
   ]
  },
  {
   "cell_type": "code",
   "execution_count": null,
   "id": "9dc77279",
   "metadata": {},
   "outputs": [],
   "source": [
    "# 関数をプロットします。`plt` は `matplotlib.pyplot` の別名です。\n",
    "plt.plot(x, y)\n",
    "\n",
    "# 軸にラベルを追加\n",
    "plt.xlabel('x')\n",
    "plt.ylabel('y')\n",
    "\n",
    "# タイトルを追加\n",
    "plt.title('Square function')\n",
    "\n",
    "plt.show()"
   ]
  },
  {
   "cell_type": "markdown",
   "id": "ff0110d7",
   "metadata": {},
   "source": [
    "### 色、マーカースタイル、および線スタイルを変更する"
   ]
  },
  {
   "cell_type": "code",
   "execution_count": null,
   "id": "21d7614c",
   "metadata": {},
   "outputs": [],
   "source": [
    "x = np.linspace(-5, 5, 10)\n",
    "y = square(x)\n",
    "\n",
    "# プロット関数内で色、マーカー、および線スタイルを指定できます。\n",
    "plt.plot(x, y, color='red', marker='o', linestyle='--', label='label')\n",
    "\n",
    "# 凡例を表示します。これは `plot()` 関数で定義された `label` を使用します。\n",
    "plt.legend()\n",
    "\n",
    "# 軸にラベルを追加\n",
    "plt.xlabel('x')\n",
    "plt.ylabel('y')\n",
    "\n",
    "# タイトルを追加\n",
    "plt.title('Square function')\n",
    "\n",
    "plt.show()"
   ]
  },
  {
   "cell_type": "markdown",
   "id": "15d32de7",
   "metadata": {},
   "source": [
    "立方体関数のプロットを追加します。"
   ]
  },
  {
   "cell_type": "code",
   "execution_count": null,
   "id": "cfd888e5",
   "metadata": {},
   "outputs": [],
   "source": [
    "def cube(x):\n",
    "    return x**3"
   ]
  },
  {
   "cell_type": "code",
   "execution_count": null,
   "id": "152df3e4",
   "metadata": {},
   "outputs": [],
   "source": [
    "x = np.linspace(-3, 3, 10)\n",
    "y = square(x)\n",
    "z = cube(x)\n",
    "\n",
    "# プロット関数内で色、マーカー、および線スタイルを指定できます。\n",
    "plt.plot(x, y, color='red', marker='o', linestyle='--', label='Square')\n",
    "plt.plot(x, z, color='blue', marker='x', linestyle='-', label='Cube')\n",
    "\n",
    "# 凡例を表示します。これは `plot()` 関数で定義された `label` を使用します。\n",
    "plt.legend()\n",
    "\n",
    "# 軸にラベルを追加\n",
    "plt.xlabel('x')\n",
    "plt.ylabel('y')\n",
    "\n",
    "# タイトルを追加\n",
    "plt.title('Square function and cube function')\n",
    "\n",
    "plt.show()"
   ]
  },
  {
   "cell_type": "markdown",
   "id": "bfc08a30",
   "metadata": {},
   "source": [
    "### `plt.semilogy` はy軸を対数スケールでプロットします。"
   ]
  },
  {
   "cell_type": "code",
   "execution_count": null,
   "id": "a27ac12e",
   "metadata": {},
   "outputs": [],
   "source": [
    "x = np.linspace(0.1, 10, 10)\n",
    "y = square(x)\n",
    "z = cube(x)\n",
    "\n",
    "# プロット関数内で色、マーカー、および線スタイルを指定できます。\n",
    "plt.semilogy(x, y, color='red', marker='o', linestyle='--', label='Square')\n",
    "plt.semilogy(x, z, color='blue', marker='x', linestyle='-', label='Cube')\n",
    "\n",
    "# 凡例を表示します。これは `plot()` 関数で定義された `label` を使用します。\n",
    "plt.legend()\n",
    "\n",
    "# 軸にラベルを追加\n",
    "plt.xlabel('x')\n",
    "plt.ylabel('y')\n",
    "\n",
    "# タイトルを追加\n",
    "plt.title('Square function and cube function')\n",
    "\n",
    "plt.show()"
   ]
  },
  {
   "cell_type": "code",
   "execution_count": null,
   "id": "e815e0b4",
   "metadata": {},
   "outputs": [],
   "source": [
    "x = np.linspace(-5, 5, 10)\n",
    "y = np.exp(x)\n",
    "\n",
    "# プロット関数内で色、マーカー、および線スタイルを指定できます。\n",
    "plt.semilogy(x, y, label='Exponential')\n",
    "\n",
    "# 凡例を表示します。これは `plot()` 関数で定義された `label` を使用します。\n",
    "plt.legend()\n",
    "\n",
    "# 軸にラベルを追加\n",
    "plt.xlabel('x')\n",
    "plt.ylabel('exp(x)')\n",
    "\n",
    "# タイトルを追加\n",
    "plt.title('Exponential function')\n",
    "\n",
    "plt.show()"
   ]
  },
  {
   "cell_type": "markdown",
   "id": "552d7572",
   "metadata": {},
   "source": [
    "## 2. 散布図"
   ]
  },
  {
   "cell_type": "code",
   "execution_count": null,
   "id": "40707a6a",
   "metadata": {},
   "outputs": [],
   "source": [
    "# 散布図\n",
    "x = np.linspace(-5, 5, 20)\n",
    "y = square(x)\n",
    "\n",
    "plt.scatter(x, y)\n",
    "plt.show()"
   ]
  },
  {
   "cell_type": "code",
   "execution_count": null,
   "id": "8db58671",
   "metadata": {},
   "outputs": [],
   "source": [
    "np.random.seed(0)\n",
    "\n",
    "# 散布図：平均0、標準偏差 1 のガウス分布\n",
    "x = np.random.normal(size=1000)\n",
    "y = np.random.normal(size=1000)\n",
    "\n",
    "plt.scatter(x, y)\n",
    "plt.show()"
   ]
  },
  {
   "cell_type": "markdown",
   "id": "6fcb5ec3",
   "metadata": {},
   "source": [
    "## 3. ヒストグラム"
   ]
  },
  {
   "cell_type": "code",
   "execution_count": null,
   "id": "780a9ff8",
   "metadata": {},
   "outputs": [],
   "source": [
    "np.random.seed(0)\n",
    "\n",
    "# 平均0、標準偏差1の正規分布から 10000 個の乱数を生成します。\n",
    "x = np.random.normal(0, 1, 10000)\n",
    "\n",
    "# 50 のビンでヒストグラムをプロットします。\n",
    "plt.hist(x, bins=50)\n",
    "plt.show()"
   ]
  },
  {
   "cell_type": "markdown",
   "id": "155eb579",
   "metadata": {},
   "source": [
    "別のヒストグラムを追加します。"
   ]
  },
  {
   "cell_type": "code",
   "execution_count": null,
   "id": "244b1b2a",
   "metadata": {},
   "outputs": [],
   "source": [
    "np.random.seed(0)\n",
    "\n",
    "# 平均0、標準偏差 1 の正規分布から 10000 個の乱数を生成します。\n",
    "x = np.random.normal(0, 1, 10000)\n",
    "# 平均2、標準偏差 0.5 の正規分布から 10000 個の乱数を生成します。\n",
    "y = np.random.normal(2, 0.5, 10000)\n",
    "\n",
    "# 50 のビンでヒストグラムをプロットします。\n",
    "# `alpha` は棒の透明度です。複数のヒストグラムを比較するために使用されます。\n",
    "plt.hist(x, bins=50, color='blue', alpha=0.5, label='x')\n",
    "plt.hist(y, bins=50, color='green', alpha=0.5, label='y')\n",
    "\n",
    "# 凡例を表示します。これは `hist()` 関数で定義された `label` を使用します。\n",
    "plt.legend()\n",
    "\n",
    "# 軸にラベルを追加\n",
    "plt.xlabel('value')\n",
    "plt.ylabel('count')\n",
    "\n",
    "# タイトルを追加\n",
    "plt.title('Histogram')\n",
    "\n",
    "plt.show()"
   ]
  },
  {
   "cell_type": "code",
   "execution_count": null,
   "id": "5e81f0ae",
   "metadata": {},
   "outputs": [],
   "source": [
    "import matplotlib.pyplot as plt\n",
    "import numpy as np\n",
    "\n",
    "year = (\"2003\", \"2013\", \"2023\")\n",
    "gdps = {\n",
    "    'Japan': (4519.56, 5212.33, 4409.74),\n",
    "    'China': (1656.96, 9624.93, 19373.59),\n",
    "    'USA': (11456.45, 16843.23, 26854.60),\n",
    "}\n",
    "\n",
    "x = np.arange(len(year)) * 1  # ラベルの位置\n",
    "width = 0.3  # バーの幅\n",
    "multiplier = 0\n",
    "\n",
    "fig, ax = plt.subplots(constrained_layout=True)\n",
    "\n",
    "for country, gdp in gdps.items():\n",
    "    offset = width * multiplier\n",
    "    rects = ax.bar(x + offset, gdp, width, label=country)\n",
    "    ax.bar_label(rects, padding=3)\n",
    "    multiplier += 1\n",
    "\n",
    "\n",
    "ax.set_ylabel('GDP (billion USD)')\n",
    "ax.set_title('GDP')\n",
    "ax.set_xticks(x + width, year)\n",
    "ax.legend(loc='upper left', ncols=3)\n",
    "\n",
    "plt.show()"
   ]
  },
  {
   "cell_type": "markdown",
   "id": "591676a9",
   "metadata": {},
   "source": [
    "## 5. 2D プロット"
   ]
  },
  {
   "cell_type": "code",
   "execution_count": null,
   "id": "2cc72665",
   "metadata": {},
   "outputs": [],
   "source": [
    "import matplotlib.pyplot as plt\n",
    "import numpy as np\n",
    "\n",
    "t = np.linspace(0, 2 * np.pi, 1024)\n",
    "data2d = np.sin(t)[:, np.newaxis] * np.sin(t)[np.newaxis, :]\n",
    "\n",
    "fig, ax = plt.subplots()\n",
    "im = ax.imshow(data2d)\n",
    "\n",
    "fig.colorbar(im, ax=ax, label='Colorbar')\n",
    "\n",
    "ax.set_title('sin(x)sin(y)')\n",
    "plt.show()"
   ]
  },
  {
   "cell_type": "markdown",
   "id": "b519d3cf",
   "metadata": {},
   "source": [
    "## 6. 3D ラインプロット"
   ]
  },
  {
   "cell_type": "code",
   "execution_count": null,
   "id": "ba29a3ac",
   "metadata": {},
   "outputs": [],
   "source": [
    "def pos(t):\n",
    "    \n",
    "    x = np.exp(-t) * np.cos(10 * np.pi * t)\n",
    "    y = np.exp(-t) * np.sin(10 * np.pi * t)\n",
    "    z = t\n",
    "    \n",
    "    return x, y, z\n",
    "\n",
    "t = np.linspace(0, 2, 1000)\n",
    "\n",
    "x, y, z = pos(t)\n",
    "\n",
    "fig = plt.figure(figsize=(6, 6))\n",
    "ax = fig.add_subplot(projection='3d')\n",
    "\n",
    "ax.plot(x, y, z, label='parametric curve')\n",
    "\n",
    "ax.set_xlabel('x')\n",
    "ax.set_ylabel('y')\n",
    "ax.set_zlabel('z')\n",
    "\n",
    "ax.set_title(\"3D Parametric Curve\")\n",
    "plt.show()"
   ]
  },
  {
   "cell_type": "markdown",
   "id": "46227963",
   "metadata": {},
   "source": [
    "## 7. 3D サーフェスプロット"
   ]
  },
  {
   "cell_type": "code",
   "execution_count": null,
   "id": "fca96945",
   "metadata": {},
   "outputs": [],
   "source": [
    "import matplotlib.pyplot as plt\n",
    "from matplotlib import cm\n",
    "from matplotlib.ticker import LinearLocator\n",
    "import numpy as np\n",
    "\n",
    "fig, ax = plt.subplots(subplot_kw={\"projection\": \"3d\"})\n",
    "\n",
    "# データを作成します。\n",
    "X = np.arange(-5, 5, 0.05)\n",
    "Y = np.arange(-5, 5, 0.05)\n",
    "X, Y = np.meshgrid(X, Y)\n",
    "Z = np.sin(X) * np.cos(Y)\n",
    "\n",
    "# サーフェスをプロットします。\n",
    "surf = ax.plot_surface(X, Y, Z, cmap=cm.coolwarm, linewidth=0, antialiased=False)\n",
    "\n",
    "# z軸をカスタマイズします。\n",
    "ax.set_zlim(-1.01, 1.01)\n",
    "ax.zaxis.set_major_locator(LinearLocator(5))\n",
    "ax.zaxis.set_major_formatter('{x:.02f}')\n",
    "\n",
    "# 値を色にマッピングするカラーバーを追加します。\n",
    "fig.colorbar(surf, shrink=0.5, aspect=9)\n",
    "\n",
    "plt.show()"
   ]
  }
 ],
 "metadata": {
  "jupytext": {
   "text_representation": {
    "extension": ".md",
    "format_name": "myst",
    "format_version": 0.13,
    "jupytext_version": "1.15.0"
   }
  },
  "kernelspec": {
   "display_name": "venv",
   "language": "python",
   "name": "python3"
  },
  "source_map": [
   12,
   18,
   21,
   25,
   37,
   43,
   55,
   59,
   77,
   81,
   86,
   106,
   110,
   132,
   150,
   154,
   163,
   172,
   176,
   185,
   189,
   215,
   245,
   249,
   263,
   267,
   291,
   295
  ]
 },
 "nbformat": 4,
 "nbformat_minor": 5
}