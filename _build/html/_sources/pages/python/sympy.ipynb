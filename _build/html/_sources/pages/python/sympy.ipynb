{
 "cells": [
  {
   "cell_type": "markdown",
   "id": "13d059a4",
   "metadata": {},
   "source": [
    "# [SymPY](https://www.tutorialspoint.com/sympy/index.htm)\n",
    "> SymPy は、数式処理のための Python ライブラリです。 - SymPy ドキュメント\n",
    "\n",
    "このページでは、SymPyの使用例を見ることができます。"
   ]
  },
  {
   "cell_type": "code",
   "execution_count": null,
   "id": "29a25e37",
   "metadata": {},
   "outputs": [],
   "source": [
    "from sympy import *"
   ]
  },
  {
   "cell_type": "markdown",
   "id": "bf8b8c51",
   "metadata": {},
   "source": [
    "## 記号の宣言"
   ]
  },
  {
   "cell_type": "code",
   "execution_count": null,
   "id": "46fb5499",
   "metadata": {},
   "outputs": [],
   "source": [
    "x = Symbol(\"x\")\n",
    "y = Symbol(\"y\")"
   ]
  },
  {
   "cell_type": "code",
   "execution_count": null,
   "id": "56417a32",
   "metadata": {},
   "outputs": [],
   "source": [
    "(x + y) ** 2"
   ]
  },
  {
   "cell_type": "markdown",
   "id": "14c19222",
   "metadata": {},
   "source": [
    "## 展開"
   ]
  },
  {
   "cell_type": "code",
   "execution_count": null,
   "id": "2d0bd9f6",
   "metadata": {},
   "outputs": [],
   "source": [
    "f = expand((x + y) ** 2)\n",
    "display(f)"
   ]
  },
  {
   "cell_type": "markdown",
   "id": "7239d5a8",
   "metadata": {},
   "source": [
    "## 代入"
   ]
  },
  {
   "cell_type": "code",
   "execution_count": null,
   "id": "a72de00a",
   "metadata": {},
   "outputs": [],
   "source": [
    "f.subs({x: 1, y: 2})"
   ]
  },
  {
   "cell_type": "markdown",
   "id": "494243bc",
   "metadata": {},
   "source": [
    "## 因数分解"
   ]
  },
  {
   "cell_type": "code",
   "execution_count": null,
   "id": "ef93413c",
   "metadata": {},
   "outputs": [],
   "source": [
    "factor(x**2 - 4 * x + 3)"
   ]
  },
  {
   "cell_type": "markdown",
   "id": "a6669cc2",
   "metadata": {},
   "source": [
    "## 方程式の解"
   ]
  },
  {
   "cell_type": "code",
   "execution_count": null,
   "id": "6d154d33",
   "metadata": {},
   "outputs": [],
   "source": [
    "solve(x**2 - x - 1)"
   ]
  },
  {
   "cell_type": "markdown",
   "id": "6dd3712e",
   "metadata": {},
   "source": [
    "## 部分分数分解"
   ]
  },
  {
   "cell_type": "code",
   "execution_count": null,
   "id": "3115af3d",
   "metadata": {},
   "outputs": [],
   "source": [
    "apart(1 / (x**5 - 1))"
   ]
  },
  {
   "cell_type": "markdown",
   "id": "b0aca6cd",
   "metadata": {},
   "source": [
    "## 積分と微分"
   ]
  },
  {
   "cell_type": "code",
   "execution_count": null,
   "id": "f85f36b5",
   "metadata": {},
   "outputs": [],
   "source": [
    "a = Symbol(\"a\")  # real=Trueを指定しない場合、aは複素数として扱われます。\n",
    "b = Symbol(\"b\")\n",
    "\n",
    "u = exp(a * x) * sin(b * x)\n",
    "display(u)"
   ]
  },
  {
   "cell_type": "code",
   "execution_count": null,
   "id": "85f6886d",
   "metadata": {},
   "outputs": [],
   "source": [
    "int_u = integrate(u, x)\n",
    "display(int_u)"
   ]
  },
  {
   "cell_type": "code",
   "execution_count": null,
   "id": "ea4a35d6",
   "metadata": {},
   "outputs": [],
   "source": [
    "R = diff(u, x, 2) + u + x\n",
    "display(R)"
   ]
  },
  {
   "cell_type": "markdown",
   "id": "be705356",
   "metadata": {},
   "source": [
    "## 総和"
   ]
  },
  {
   "cell_type": "code",
   "execution_count": null,
   "id": "3de6cd8d",
   "metadata": {},
   "outputs": [],
   "source": [
    "k, N = symbols(\"k, N\", integer=True)\n",
    "factor(summation(k, (k, 1, N)))"
   ]
  },
  {
   "cell_type": "markdown",
   "id": "d10bfabb",
   "metadata": {},
   "source": [
    "## 極限\n",
    "\n",
    "$$ \\lim_{x \\to 0} \\frac{\\sin x}{x} = 1 $$"
   ]
  },
  {
   "cell_type": "code",
   "execution_count": null,
   "id": "9de594a1",
   "metadata": {},
   "outputs": [],
   "source": [
    "limit(sin(x) / x, x, 0)"
   ]
  },
  {
   "cell_type": "markdown",
   "id": "191d3d97",
   "metadata": {},
   "source": [
    "## その他の例"
   ]
  },
  {
   "cell_type": "code",
   "execution_count": null,
   "id": "1b378f42",
   "metadata": {},
   "outputs": [],
   "source": [
    "s = Symbol(\"s\")\n",
    "t = Symbol(\"t\")\n",
    "\n",
    "l = (s**2 * x**3) + (t * x**2) + (3 * x) + 1\n",
    "\n",
    "display(l)"
   ]
  },
  {
   "cell_type": "code",
   "execution_count": null,
   "id": "fc430b87",
   "metadata": {},
   "outputs": [],
   "source": [
    "int_l = integrate(l, (x, 0, 1))\n",
    "display(int_l)"
   ]
  }
 ],
 "metadata": {
  "jupytext": {
   "text_representation": {
    "extension": ".md",
    "format_name": "myst",
    "format_version": 0.13,
    "jupytext_version": "1.15.0"
   }
  },
  "kernelspec": {
   "display_name": "Python 3 (ipykernel)",
   "language": "python",
   "name": "python3"
  },
  "source_map": [
   12,
   18,
   20,
   24,
   29,
   31,
   35,
   38,
   42,
   44,
   48,
   50,
   54,
   56,
   60,
   62,
   66,
   74,
   79,
   82,
   86,
   89,
   95,
   97,
   101,
   110
  ]
 },
 "nbformat": 4,
 "nbformat_minor": 5
}