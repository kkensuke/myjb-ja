{
 "cells": [
  {
   "cell_type": "markdown",
   "id": "29a1ccf3",
   "metadata": {},
   "source": [
    "# [SymPY](https://www.tutorialspoint.com/sympy/index.htm)\n",
    "> SymPy は、数式処理のための Python ライブラリです。 - SymPy ドキュメント\n",
    "\n",
    "このページでは、SymPyの使用例を見ることができます。"
   ]
  },
  {
   "cell_type": "code",
   "execution_count": null,
   "id": "fb5441bf",
   "metadata": {},
   "outputs": [],
   "source": [
    "from sympy import *"
   ]
  },
  {
   "cell_type": "markdown",
   "id": "0996b82c",
   "metadata": {},
   "source": [
    "## 記号の宣言"
   ]
  },
  {
   "cell_type": "code",
   "execution_count": null,
   "id": "25a9f5cf",
   "metadata": {},
   "outputs": [],
   "source": [
    "x = Symbol(\"x\")\n",
    "y = Symbol(\"y\")"
   ]
  },
  {
   "cell_type": "code",
   "execution_count": null,
   "id": "5d36aece",
   "metadata": {},
   "outputs": [],
   "source": [
    "(x + y) ** 2"
   ]
  },
  {
   "cell_type": "markdown",
   "id": "111a361f",
   "metadata": {},
   "source": [
    "## 展開"
   ]
  },
  {
   "cell_type": "code",
   "execution_count": null,
   "id": "6b2374ec",
   "metadata": {},
   "outputs": [],
   "source": [
    "f = expand((x + y) ** 2)\n",
    "display(f)"
   ]
  },
  {
   "cell_type": "markdown",
   "id": "f7c450fd",
   "metadata": {},
   "source": [
    "## 代入"
   ]
  },
  {
   "cell_type": "code",
   "execution_count": null,
   "id": "4a3e0410",
   "metadata": {},
   "outputs": [],
   "source": [
    "f.subs({x: 1, y: 2})"
   ]
  },
  {
   "cell_type": "markdown",
   "id": "ff4f6b4d",
   "metadata": {},
   "source": [
    "## 因数分解"
   ]
  },
  {
   "cell_type": "code",
   "execution_count": null,
   "id": "97cd60e3",
   "metadata": {},
   "outputs": [],
   "source": [
    "factor(x**2 - 4 * x + 3)"
   ]
  },
  {
   "cell_type": "markdown",
   "id": "b1800993",
   "metadata": {},
   "source": [
    "## 方程式の解"
   ]
  },
  {
   "cell_type": "code",
   "execution_count": null,
   "id": "11b341e1",
   "metadata": {},
   "outputs": [],
   "source": [
    "solve(x**2 - x - 1)"
   ]
  },
  {
   "cell_type": "markdown",
   "id": "07b3e5a2",
   "metadata": {},
   "source": [
    "## 部分分数分解"
   ]
  },
  {
   "cell_type": "code",
   "execution_count": null,
   "id": "1d46317c",
   "metadata": {},
   "outputs": [],
   "source": [
    "apart(1 / (x**5 - 1))"
   ]
  },
  {
   "cell_type": "markdown",
   "id": "790bb65f",
   "metadata": {},
   "source": [
    "## 積分と微分"
   ]
  },
  {
   "cell_type": "code",
   "execution_count": null,
   "id": "3fc209f4",
   "metadata": {},
   "outputs": [],
   "source": [
    "a = Symbol(\"a\")  # real=Trueを指定しない場合、aは複素数として扱われます。\n",
    "b = Symbol(\"b\")\n",
    "\n",
    "u = exp(a * x) * sin(b * x)\n",
    "display(u)"
   ]
  },
  {
   "cell_type": "code",
   "execution_count": null,
   "id": "ef472dce",
   "metadata": {},
   "outputs": [],
   "source": [
    "int_u = integrate(u, x)\n",
    "display(int_u)"
   ]
  },
  {
   "cell_type": "code",
   "execution_count": null,
   "id": "3f2c2794",
   "metadata": {},
   "outputs": [],
   "source": [
    "R = diff(u, x, 2) + u + x\n",
    "display(R)"
   ]
  },
  {
   "cell_type": "markdown",
   "id": "b4dc5852",
   "metadata": {},
   "source": [
    "## 総和"
   ]
  },
  {
   "cell_type": "code",
   "execution_count": null,
   "id": "648dd09d",
   "metadata": {},
   "outputs": [],
   "source": [
    "k, N = symbols(\"k, N\", integer=True)\n",
    "factor(summation(k, (k, 1, N)))"
   ]
  },
  {
   "cell_type": "markdown",
   "id": "83408f54",
   "metadata": {},
   "source": [
    "## 極限\n",
    "\n",
    "$$ \\lim_{x \\to 0} \\frac{\\sin x}{x} = 1 $$"
   ]
  },
  {
   "cell_type": "code",
   "execution_count": null,
   "id": "f94fd9dd",
   "metadata": {},
   "outputs": [],
   "source": [
    "limit(sin(x) / x, x, 0)"
   ]
  },
  {
   "cell_type": "markdown",
   "id": "c91d3e80",
   "metadata": {},
   "source": [
    "## その他の例"
   ]
  },
  {
   "cell_type": "code",
   "execution_count": null,
   "id": "16e081ac",
   "metadata": {},
   "outputs": [],
   "source": [
    "s = Symbol(\"s\")\n",
    "t = Symbol(\"t\")\n",
    "\n",
    "l = (s**2 * x**3) + (t * x**2) + (3 * x) + 1\n",
    "\n",
    "display(l)"
   ]
  },
  {
   "cell_type": "code",
   "execution_count": null,
   "id": "76ceeefa",
   "metadata": {},
   "outputs": [],
   "source": [
    "int_l = integrate(l, (x, 0, 1))\n",
    "display(int_l)"
   ]
  }
 ],
 "metadata": {
  "jupytext": {
   "text_representation": {
    "extension": ".md",
    "format_name": "myst",
    "format_version": 0.13,
    "jupytext_version": "1.15.0"
   }
  },
  "kernelspec": {
   "display_name": "Python 3 (ipykernel)",
   "language": "python",
   "name": "python3"
  },
  "source_map": [
   12,
   18,
   20,
   24,
   29,
   31,
   35,
   38,
   42,
   44,
   48,
   50,
   54,
   56,
   60,
   62,
   66,
   74,
   79,
   82,
   86,
   89,
   95,
   97,
   101,
   110
  ]
 },
 "nbformat": 4,
 "nbformat_minor": 5
}