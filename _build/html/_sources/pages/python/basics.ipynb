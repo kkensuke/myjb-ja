{
 "cells": [
  {
   "cell_type": "markdown",
   "id": "7f0a8013",
   "metadata": {},
   "source": [
    "# Python and Jupyterlab\n",
    "\n",
    "> Python is a clear and powerful object-oriented programming language. - python doc\n",
    "\n",
    "> JupyterLab is a flexible, extensible interface for interactive computing. - jupyter doc\n",
    "\n",
    "[Python](https://www.python.org/) is a simple and most popular programming language and used in many fields like AI and machine learning, Data analytics, Data visualization, Web, Game, and so on.\n",
    "\n",
    "[JupyterLab](https://jupyterlab.readthedocs.io/en/stable/) is a next-generation web-based user interface for python programming.\n",
    "\n",
    "Here, you can learn basics of python and usage of JupyterLab. If you have not installed jupyter-lab, refer to [venv](venv)."
   ]
  },
  {
   "cell_type": "markdown",
   "id": "2d53d77e",
   "metadata": {},
   "source": [
    "---\n",
    "## print() function\n",
    "\n",
    "`print()` function is the most basic function in python. It is used to print the value of any variable or expression.\n",
    "Here, we will see how to use `print()` function with the usage of jupyter lab(notebook)."
   ]
  },
  {
   "cell_type": "markdown",
   "id": "5f8ea574",
   "metadata": {},
   "source": [
    "To begin with, let us print string \"Hello World\" using `print()` function. \n",
    "In jupyter lab(notebook), a code block is called a `cell`. A cell can contain multiple lines of code.\n",
    "To execute the code, click on the cell(colored in blue(jupyter notebook:green)) and press `Shift+Enter` key."
   ]
  },
  {
   "cell_type": "code",
   "execution_count": 1,
   "id": "0c1cef59",
   "metadata": {},
   "outputs": [
    {
     "name": "stdout",
     "output_type": "stream",
     "text": [
      "Hello, world!\n"
     ]
    }
   ],
   "source": [
    "print(\"Hello, world!\")"
   ]
  },
  {
   "cell_type": "markdown",
   "id": "2143083d",
   "metadata": {},
   "source": [
    "### comment"
   ]
  },
  {
   "cell_type": "markdown",
   "id": "69d351b0",
   "metadata": {},
   "source": [
    "When programming, we often put some comments to explain the code. In python, we can use `#` to write  comments.\n",
    "\n",
    "If you want to comment out multiple lines, you can use `\"\"\" \"\"\"` to write comments (actually, this is called docstrings)."
   ]
  },
  {
   "cell_type": "code",
   "execution_count": 2,
   "id": "42efa731",
   "metadata": {},
   "outputs": [
    {
     "data": {
      "text/plain": [
       "'\\n    This\\n    is\\n    a \\n    multiline\\n    comment.\\n'"
      ]
     },
     "execution_count": 2,
     "metadata": {},
     "output_type": "execute_result"
    }
   ],
   "source": [
    "# This is a comment. No output.\n",
    "\n",
    "\"\"\"\n",
    "    This\n",
    "    is\n",
    "    a \n",
    "    multiline\n",
    "    comment.\n",
    "\"\"\""
   ]
  },
  {
   "cell_type": "markdown",
   "id": "92810b44",
   "metadata": {},
   "source": [
    "### Arithmetic operations"
   ]
  },
  {
   "cell_type": "code",
   "execution_count": 3,
   "id": "ed328a7f",
   "metadata": {},
   "outputs": [
    {
     "name": "stdout",
     "output_type": "stream",
     "text": [
      "2\n"
     ]
    }
   ],
   "source": [
    "print(1+1)"
   ]
  },
  {
   "cell_type": "markdown",
   "id": "84ec1dd3",
   "metadata": {},
   "source": [
    "In programming, every object has a data type. For example, the number `1` has the data type `int`.\n",
    "The \"Hello World\" string has the data type `str`. If the data types are different, the operations will be performed differently.\n",
    "\n",
    "For example, `+` operator is used to add two numbers, and `+` operator is used to concatenate two strings."
   ]
  },
  {
   "cell_type": "code",
   "execution_count": 4,
   "id": "a2541bad",
   "metadata": {},
   "outputs": [
    {
     "name": "stdout",
     "output_type": "stream",
     "text": [
      "7\n",
      "3+4\n",
      "34\n"
     ]
    }
   ],
   "source": [
    "# you cannot use strings to do math.\n",
    "print(3+4)\n",
    "print('3+4')\n",
    "print('3'+'4')"
   ]
  },
  {
   "cell_type": "code",
   "execution_count": 5,
   "id": "c58dbcde",
   "metadata": {},
   "outputs": [
    {
     "ename": "TypeError",
     "evalue": "unsupported operand type(s) for +: 'int' and 'str'",
     "output_type": "error",
     "traceback": [
      "\u001b[0;31m---------------------------------------------------------------------------\u001b[0m",
      "\u001b[0;31mTypeError\u001b[0m                                 Traceback (most recent call last)",
      "Cell \u001b[0;32mIn [5], line 3\u001b[0m\n\u001b[1;32m      1\u001b[0m \u001b[38;5;66;03m# This will be an error. You can't add a number and a string. \u001b[39;00m\n\u001b[1;32m      2\u001b[0m \u001b[38;5;66;03m# You need to convert the string to a number or vice versa.\u001b[39;00m\n\u001b[0;32m----> 3\u001b[0m \u001b[38;5;28mprint\u001b[39m(\u001b[38;5;241;43m3\u001b[39;49m\u001b[38;5;241;43m+\u001b[39;49m\u001b[38;5;124;43m'\u001b[39;49m\u001b[38;5;124;43m4\u001b[39;49m\u001b[38;5;124;43m'\u001b[39;49m)\n",
      "\u001b[0;31mTypeError\u001b[0m: unsupported operand type(s) for +: 'int' and 'str'"
     ]
    }
   ],
   "source": [
    "# This will be an error. You can't add a number and a string. \n",
    "# You need to convert the string to a number or vice versa.\n",
    "print(3+'4')"
   ]
  },
  {
   "cell_type": "code",
   "execution_count": null,
   "id": "009d5a12",
   "metadata": {},
   "outputs": [],
   "source": [
    "a = 3 # This is a variable. \n",
    "b = '4'\n",
    "print(a+b) # This will be the same as the above cell."
   ]
  },
  {
   "cell_type": "code",
   "execution_count": null,
   "id": "651f645e",
   "metadata": {},
   "outputs": [],
   "source": [
    "# print out several inputs with `,`\n",
    "print(a, b)"
   ]
  },
  {
   "cell_type": "code",
   "execution_count": null,
   "id": "d6b43683",
   "metadata": {},
   "outputs": [],
   "source": [
    "print(a + int(b)) # This will convert the string to a number.\n",
    "print(str(a) + b) # This will convert the number to a string."
   ]
  },
  {
   "cell_type": "code",
   "execution_count": null,
   "id": "2fb89d99",
   "metadata": {},
   "outputs": [],
   "source": [
    "# Basic arithmetic operations\n",
    "print('addition 1+1 = ', 1+1)\n",
    "print('subtraction 5-1 = ', 5-1)\n",
    "print('multiplication 2*2 = ', 2*2)\n",
    "print('division 5/2 = ', 5/2)\n",
    "print('modulus 5%2 = ', 5%2)\n",
    "print('floor division 5//2 = ', 5//2)\n",
    "print('exponentiation 5**2 = ', 5**2)"
   ]
  },
  {
   "cell_type": "code",
   "execution_count": null,
   "id": "568b7053",
   "metadata": {},
   "outputs": [],
   "source": [
    "# Instead of using a new line, you can use a semicolon.\n",
    "print('adsf'); print('asdf')"
   ]
  },
  {
   "cell_type": "markdown",
   "id": "c86d01d0",
   "metadata": {},
   "source": [
    "### jupyter lab usage"
   ]
  },
  {
   "cell_type": "markdown",
   "id": "af140878",
   "metadata": {},
   "source": [
    "Basically, code cells are used to write code. However, we can also use code cells to write comments in markdown format.\n",
    "If you want to write in markdown format, right click around the cell and press `m`, then `Shift+Enter`. You go back to code format by pressing `y`.\n",
    "Moreover, you can add a new cell by pressing `a` or `b`(`a` is for above, `b` is for below). \n",
    "Others; `x`; cut a cell. `c` (Shift + `c` to copy multi cells); copy a cell. `v`; paste a cell. `z`; undo. \n",
    "\n",
    "[Markdown usage](../basic/markdown.md)"
   ]
  },
  {
   "cell_type": "markdown",
   "id": "03bfadd9",
   "metadata": {},
   "source": [
    "---\n",
    "## Collections(list, tuple, set, dictionary)\n",
    "\n",
    "List, tuple, set, dictionary are used to store data in different ways."
   ]
  },
  {
   "cell_type": "code",
   "execution_count": null,
   "id": "ea6877c8",
   "metadata": {},
   "outputs": [],
   "source": [
    "l = [3,4,5]\n",
    "index = 0 # index starts with 0\n",
    "print(l[index])\n",
    "\n",
    "l[1] = 7 # You can change the value of an element in a list.\n",
    "print(l)"
   ]
  },
  {
   "cell_type": "code",
   "execution_count": null,
   "id": "02524cd8",
   "metadata": {},
   "outputs": [],
   "source": [
    "# You can use different types of data in a list.\n",
    "l = [3,4,5,'a','b','c', True, False, [1,2,3]]"
   ]
  },
  {
   "cell_type": "code",
   "execution_count": null,
   "id": "aa295a32",
   "metadata": {},
   "outputs": [],
   "source": [
    "t = (3,4,5)\n",
    "\n",
    "t[2] = 7\n",
    "# You can't change the value of an element in a tuple.\n",
    "# However, a tuple uses less memory than a list."
   ]
  },
  {
   "cell_type": "code",
   "execution_count": null,
   "id": "65163821",
   "metadata": {},
   "outputs": [],
   "source": [
    "s = {3,4,5,5}\n",
    "print(s)"
   ]
  },
  {
   "cell_type": "code",
   "execution_count": null,
   "id": "ddd82074",
   "metadata": {},
   "outputs": [],
   "source": [
    "d = {'a':3,'b':4,'c':5}\n",
    "print(d['a'])\n",
    "\n",
    "d['a'] = 6 # You can change the value of an element in a dictionary.\n",
    "d['d'] = 7 # You can add a new key-value pair to a dictionary.\n",
    "print(d)\n",
    "\n",
    "print(d.items()) # This will return a list of all the key-value pairs in the dictionary.\n",
    "print(d.keys()) # This will return a list of all the keys in the dictionary.\n",
    "print(d.values()) # This will return a list of all the values in the dictionary."
   ]
  },
  {
   "cell_type": "markdown",
   "id": "66aa9bf6",
   "metadata": {},
   "source": [
    "---\n",
    "## Open a file"
   ]
  },
  {
   "cell_type": "code",
   "execution_count": null,
   "id": "639eec43",
   "metadata": {},
   "outputs": [],
   "source": [
    "path = './sample.txt'\n",
    "with open(path) as f:\n",
    "    l = f.readlines()\n",
    "    print(l)\n",
    "    for i in range(len(l)):\n",
    "        print(l[i])"
   ]
  },
  {
   "cell_type": "markdown",
   "id": "a9880e2d",
   "metadata": {},
   "source": [
    "---\n",
    "## For loops\n",
    "\n",
    "`for loop` is used to iterate over a collection of items."
   ]
  },
  {
   "cell_type": "code",
   "execution_count": null,
   "id": "cd7c5ff0",
   "metadata": {},
   "outputs": [],
   "source": [
    "for i in range(5):\n",
    "    print(i)\n",
    "# Index starts at 0."
   ]
  },
  {
   "cell_type": "code",
   "execution_count": null,
   "id": "35f03da1",
   "metadata": {},
   "outputs": [],
   "source": [
    "for i in range(5,10):\n",
    "    print(i)\n",
    "# Index starts at 5.\n",
    "# cf. range(5,13,2)"
   ]
  },
  {
   "cell_type": "code",
   "execution_count": null,
   "id": "c7b7a82d",
   "metadata": {},
   "outputs": [],
   "source": [
    "items = ['a','b','c','d','e']\n",
    "for i in items:\n",
    "    print(i)\n",
    "# You can use a for loop to iterate over a list, tuple, dictionary, string, and so on.\n",
    "\n",
    "print('-------------------------------')\n",
    "for i in range(len(items)):\n",
    "    print(items[i])"
   ]
  },
  {
   "cell_type": "code",
   "execution_count": null,
   "id": "fe8b8942",
   "metadata": {},
   "outputs": [],
   "source": [
    "for i, item in enumerate(items):\n",
    "    print(i, item)"
   ]
  },
  {
   "cell_type": "code",
   "execution_count": null,
   "id": "8ca0974c",
   "metadata": {},
   "outputs": [],
   "source": [
    "for _ in range(5):\n",
    "    print('Hello')"
   ]
  },
  {
   "cell_type": "markdown",
   "id": "2d9a6691",
   "metadata": {},
   "source": [
    "---\n",
    "## Comprehension"
   ]
  },
  {
   "cell_type": "code",
   "execution_count": null,
   "id": "804947d6",
   "metadata": {},
   "outputs": [],
   "source": [
    "[i for i in range(5)]"
   ]
  },
  {
   "cell_type": "code",
   "execution_count": null,
   "id": "89f74578",
   "metadata": {},
   "outputs": [],
   "source": [
    "data = [3,14,23,28,35,46,55,65,76,87,98,109,120,131,142]\n",
    "[x*10 for x in data]"
   ]
  },
  {
   "cell_type": "code",
   "execution_count": null,
   "id": "57912c92",
   "metadata": {},
   "outputs": [],
   "source": [
    "[x for x in data if x%2==0]"
   ]
  },
  {
   "cell_type": "code",
   "execution_count": null,
   "id": "a9feb069",
   "metadata": {},
   "outputs": [],
   "source": [
    "[x if x>50 else x*10 for x in data]"
   ]
  },
  {
   "cell_type": "markdown",
   "id": "b3884270",
   "metadata": {},
   "source": [
    "You can use list comprehension like below but it is not recommended because it is hard to read."
   ]
  },
  {
   "cell_type": "code",
   "execution_count": null,
   "id": "5e9d4beb",
   "metadata": {},
   "outputs": [],
   "source": [
    "import numpy as np # This is a module. NumPy is a package that contains many useful functions for working with arrays.\n",
    "a = np.arange(1,51)\n",
    "fizz_buzz = ['fizzbuzz' if x%3==0 and x%5==0 else 'fizz' if x%3==0 else 'buzz' if x%5==0 else x for x in a]\n",
    "print(fizz_buzz)"
   ]
  },
  {
   "cell_type": "markdown",
   "id": "4af265e7",
   "metadata": {},
   "source": [
    "---\n",
    "## Functions\n",
    "\n",
    "`function` is a block of code which take inputs and returns outputs. It only runs when it is called. \n",
    "Actually, most code we write consists of functions."
   ]
  },
  {
   "cell_type": "code",
   "execution_count": null,
   "id": "72d18c4c",
   "metadata": {},
   "outputs": [],
   "source": [
    "def print_hello():\n",
    "    print('Hello, world!')"
   ]
  },
  {
   "cell_type": "code",
   "execution_count": null,
   "id": "0709df68",
   "metadata": {},
   "outputs": [],
   "source": [
    "print_hello()"
   ]
  },
  {
   "cell_type": "code",
   "execution_count": null,
   "id": "023ef944",
   "metadata": {},
   "outputs": [],
   "source": [
    "def myfunc(arg1, arg2):\n",
    "    for i in range(arg1):\n",
    "        print(arg2)\n",
    "\n",
    "myfunc(3, 'Hello')\n",
    "# = myfunc(arg1=3, arg2='Hello')"
   ]
  },
  {
   "cell_type": "code",
   "execution_count": null,
   "id": "58412a6c",
   "metadata": {},
   "outputs": [],
   "source": [
    "import numpy as np # NumPy is a package that contains many useful functions for working with arrays.\n",
    "import matplotlib.pyplot as plt # Matplotlib is a package that contains many useful functions for plotting.\n",
    "\n",
    "x = np.linspace(0,10, 100)\n",
    "y = np.sin(x)\n",
    "\n",
    "print(x[:5])\n",
    "print(y[:5])"
   ]
  },
  {
   "cell_type": "code",
   "execution_count": null,
   "id": "1ee909fc",
   "metadata": {},
   "outputs": [],
   "source": [
    "plt.plot(x,y)\n",
    "plt.title('sin')\n",
    "plt.show()"
   ]
  },
  {
   "cell_type": "markdown",
   "id": "eb25e60c",
   "metadata": {},
   "source": [
    "### lambda functions"
   ]
  },
  {
   "cell_type": "markdown",
   "id": "ce76f09d",
   "metadata": {},
   "source": [
    "$$ f(x) = x^2 $$"
   ]
  },
  {
   "cell_type": "code",
   "execution_count": null,
   "id": "c48727fc",
   "metadata": {},
   "outputs": [],
   "source": [
    "f = lambda x: x**2\n",
    "\n",
    "print(f(3))"
   ]
  },
  {
   "cell_type": "markdown",
   "id": "79ba543c",
   "metadata": {},
   "source": [
    "## Reference\n",
    "[Python Beginners Guide](https://wiki.python.org/moin/BeginnersGuide/Programmers)"
   ]
  }
 ],
 "metadata": {
  "jupytext": {
   "text_representation": {
    "extension": ".md",
    "format_name": "myst",
    "format_version": 0.13,
    "jupytext_version": "1.15.0"
   }
  },
  "kernelspec": {
   "display_name": "Python 3.8.9 ('venv': venv)",
   "language": "python",
   "name": "python3"
  },
  "language_info": {
   "codemirror_mode": {
    "name": "ipython",
    "version": 3
   },
   "file_extension": ".py",
   "mimetype": "text/x-python",
   "name": "python",
   "nbconvert_exporter": "python",
   "pygments_lexer": "ipython3",
   "version": "3.9.6"
  },
  "source_map": [
   12,
   26,
   34,
   40,
   42,
   46,
   52,
   62,
   66,
   68,
   75,
   82,
   88,
   94,
   99,
   104,
   115,
   118,
   122,
   131,
   138,
   147,
   152,
   160,
   165,
   176,
   181,
   188,
   195,
   201,
   208,
   219,
   224,
   227,
   232,
   236,
   241,
   245,
   247,
   251,
   256,
   264,
   269,
   273,
   282,
   293,
   297,
   301,
   305,
   309
  ]
 },
 "nbformat": 4,
 "nbformat_minor": 5
}