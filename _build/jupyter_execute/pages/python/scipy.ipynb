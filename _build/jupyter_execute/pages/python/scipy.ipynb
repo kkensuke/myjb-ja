{
 "cells": [
  {
   "cell_type": "markdown",
   "id": "1032654d",
   "metadata": {},
   "source": [
    "# [SciPY](https://docs.scipy.org/doc/scipy/index.html)\n",
    "\n",
    "> SciPy is a collection of **mathematical algorithms and convenience functions** built on the NumPy extension of Python. - scippy doc\n",
    "\n",
    "In this page, you see examples of scipy functions (differentiation, integration, optimization) to solve problems."
   ]
  },
  {
   "cell_type": "code",
   "execution_count": null,
   "id": "f2825ae8",
   "metadata": {},
   "outputs": [],
   "source": [
    "import numpy as np\n",
    "import matplotlib.pyplot as plt\n",
    "from scipy import integrate, diff, optimize\n",
    "\n",
    "from IPython.display import display, Latex"
   ]
  },
  {
   "cell_type": "markdown",
   "id": "8c7873d2",
   "metadata": {},
   "source": [
    "## Differentiation\n",
    "### scipy.integrate.solve_ivp\n",
    "Solve an **initial value problem** for a system of ODEs.\n",
    "\n",
    "$$ \\frac{dy}{dt} = f(t, y), \\quad y(t_0) = y_0 $$"
   ]
  },
  {
   "cell_type": "markdown",
   "id": "d5c9f413",
   "metadata": {},
   "source": [
    ">```python\n",
    ">scipy.integrate.solve_ivp(fun, t_span, y0, method='RK45', t_eval=None,\\\n",
    ">    dense_output=False, events=None, vectorized=False, args=None, **options)\n",
    ">```"
   ]
  },
  {
   "cell_type": "markdown",
   "id": "c326bf2b",
   "metadata": {},
   "source": [
    "Solve the Lotka-Volterra equations. The Lotka-Volterra equations, also known as the predator-prey equations, are a pair of first-order, non-linear, differential equations frequently used to describe the dynamics of biological systems in which two species interact, one as a predator and the other as prey. They were proposed independently by Alfred J. Lotka in 1925 and Vito Volterra in 1926.\n",
    "\n",
    "$$ \\frac{dx}{dt} = ax - bxy ,\\quad \\frac{dy}{dt} = -cx + dxy  $$"
   ]
  },
  {
   "cell_type": "code",
   "execution_count": null,
   "id": "0ceb607a",
   "metadata": {},
   "outputs": [],
   "source": [
    "from scipy.integrate import solve_ivp\n",
    "\n",
    "\n",
    "def lotkavolterra(t, z, a, b, c, d):\n",
    "    x, y = z\n",
    "    return [a * x - b * x * y, -c * y + d * x * y]\n",
    "\n",
    "\n",
    "sol = solve_ivp(lotkavolterra, [0, 15], [10, 5], args=(1.5, 1, 3, 1), dense_output=True)\n",
    "\n",
    "t = np.linspace(0, 15, 300)\n",
    "z = sol.sol(t)\n",
    "\n",
    "plt.plot(t, z.T)\n",
    "plt.xlabel(\"t\")\n",
    "plt.legend([\"x; prey\", \"y; predator\"], shadow=True)\n",
    "plt.title(\"Lotka-Volterra System\")\n",
    "plt.show()"
   ]
  },
  {
   "cell_type": "markdown",
   "id": "46d6d11f",
   "metadata": {},
   "source": [
    "---\n",
    "## Integration\n",
    "### scipy.integrate.quad\n",
    "Compute a definite integral.\n",
    "\n",
    ">```python\n",
    ">scipy.integrate.quad(func, a, b, args=(), full_output=0, epsabs=1.49e-08, epsrel=1.49e-08,\\\n",
    ">    limit=50, points=None, weight=None, wvar=None, wopts=None, maxp1=50, limlst=50)\n",
    ">```\n",
    "\n",
    "Return `y` and `abserr`.\n",
    "- y(float): The integral of func from a to b.\n",
    "- abserr(float): An estimate of the absolute error in the result.\n",
    "\n",
    "Let's compute the integral: $ \\int_0^4 x^2 dx$"
   ]
  },
  {
   "cell_type": "code",
   "execution_count": null,
   "id": "84295aff",
   "metadata": {},
   "outputs": [],
   "source": [
    "x2 = lambda x: x**2\n",
    "ans = integrate.quad(x2, 0, 4)  # numerical result\n",
    "print(\"x, y = \", ans)\n",
    "\n",
    "\n",
    "display(Latex(\"$$ \\int_0^4 x^2 dx = \\\\frac{x^3}{3} \\Big|_0^4 = \\\\frac{4^3}{3} = 23.3333 $$\"))"
   ]
  },
  {
   "cell_type": "markdown",
   "id": "8f9c42a0",
   "metadata": {},
   "source": [
    "---\n",
    "## Root finding\n",
    "### scipy.optimize.root_scalar\n",
    "Find a root of a scalar function.\n",
    ">```python\n",
    ">scipy.optimize.root_scalar(f, args=(), method=None, bracket=None, fprime=None, fprime2=None,\\\n",
    ">    x0=None, x1=None, xtol=None, rtol=None, maxiter=None, options=None)\n",
    ">```"
   ]
  },
  {
   "cell_type": "markdown",
   "id": "8870619d",
   "metadata": {},
   "source": [
    "find a root of a scalar function\n",
    "\n",
    "$$f(x) = x^2 - x -1 $$"
   ]
  },
  {
   "cell_type": "code",
   "execution_count": null,
   "id": "5860b259",
   "metadata": {},
   "outputs": [],
   "source": [
    "from scipy import optimize\n",
    "\n",
    "\n",
    "def f(x):\n",
    "    return x**2 - x - 1\n",
    "\n",
    "\n",
    "sol = optimize.root_scalar(f, bracket=[0, 3])  # numerical result\n",
    "print(\"numerical result: \", sol.root)\n",
    "\n",
    "\n",
    "print(\"\\nanalytical result:\")\n",
    "display(Latex(\"$$ f(x) = x^2 -x - 1 = 0 \\Longleftrightarrow x = \\\\frac{1 \\pm \\sqrt{5}}{2} = -0.618034, 1.618034 $$\"))"
   ]
  },
  {
   "cell_type": "markdown",
   "id": "7872e228",
   "metadata": {},
   "source": [
    "---\n",
    "### scipy.optimize.root\n",
    "Find a root of a vector function.\n",
    "\n",
    ">```python\n",
    ">scipy.optimize.root(func, x0, args=(), method='hybr', jac=None, tol=None,\n",
    ">                    callback=None, options=None)\n",
    ">```"
   ]
  },
  {
   "cell_type": "code",
   "execution_count": null,
   "id": "d06fc546",
   "metadata": {},
   "outputs": [],
   "source": [
    "def fun(x):\n",
    "    return [x[0] + 0.5 * (x[0] - x[1]) ** 3 - 1.0, 0.5 * (x[1] - x[0]) ** 3 + x[1]]\n",
    "\n",
    "\n",
    "def jac(x):  # Jacbian\n",
    "    return np.array(\n",
    "        [\n",
    "            [1 + 1.5 * (x[0] - x[1]) ** 2, -1.5 * (x[0] - x[1]) ** 2],\n",
    "            [-1.5 * (x[1] - x[0]) ** 2, 1 + 1.5 * (x[1] - x[0]) ** 2],\n",
    "        ]\n",
    "    )\n",
    "\n",
    "\n",
    "sol = optimize.root(fun, [0, 0], jac=jac, method=\"hybr\")\n",
    "print('numerical result: ', sol.x)"
   ]
  },
  {
   "cell_type": "markdown",
   "id": "81f491b1",
   "metadata": {},
   "source": [
    "---\n",
    "### scipy.optimize.minimize\n",
    "Local (multivariate) optimization\n",
    "\n",
    ">```python\n",
    ">scipy.optimize.minimize(fun, x0, args=(), method=None, jac=None, hess=None,\\\n",
    ">    hessp=None, bounds=None, constraints=(), tol=None, callback=None, options=None)\n",
    ">```"
   ]
  },
  {
   "cell_type": "markdown",
   "id": "3fabbd4a",
   "metadata": {},
   "source": [
    "find the minimum point of\n",
    "\n",
    "$$ f(x,y) = (1-x)^2 + 5(y-x^2)^2 $$"
   ]
  },
  {
   "cell_type": "code",
   "execution_count": null,
   "id": "a6ef95ae",
   "metadata": {},
   "outputs": [],
   "source": [
    "from scipy.optimize import minimize\n",
    "\n",
    "f = lambda x: (1 - x[0]) ** 2 + 5 * (x[1] - x[0] ** 2) ** 2\n",
    "x0 = [-1, -1]\n",
    "res = minimize(f, x0, method=\"CG\", options={\"disp\": True})\n",
    "print(\"\\nnumerical result: \", res.x)"
   ]
  },
  {
   "cell_type": "markdown",
   "id": "fde8d418",
   "metadata": {},
   "source": [
    "---\n",
    "### scipy.optimize.least_squares\n",
    "Least-squares\n",
    ">```python\n",
    ">scipy.optimize.least_squares(fun, x0, jac='2-point', bounds=(- inf, inf), method='trf', ftol=1e-08,\\\n",
    ">    xtol=1e-08, gtol=1e-08, x_scale=1.0, loss='linear', f_scale=1.0, diff_step=None, tr_solver=None,\\\n",
    ">    tr_options={}, jac_sparsity=None, max_nfev=None, verbose=0, args=(), kwargs={})\n",
    ">```"
   ]
  },
  {
   "cell_type": "markdown",
   "id": "3451f143",
   "metadata": {},
   "source": [
    "Here, we solve fitting problem."
   ]
  },
  {
   "cell_type": "code",
   "execution_count": null,
   "id": "ab920d19",
   "metadata": {},
   "outputs": [],
   "source": [
    "# Solve a nonlinear least-squares problem with bounds on the variables.\n",
    "import os\n",
    "import scipy.optimize as opt\n",
    "\n",
    "# p: parameters, t: time, y: measured data\n",
    "fitFunc = lambda p, t: p[0] * np.exp(-p[1] * t) * np.cos(p[2] * t)\n",
    "errFunc = lambda p, t, y: fitFunc(p, t) - y\n",
    "\n",
    "np.random.seed(0)\n",
    "x = np.linspace(0, 5, 100)\n",
    "y = fitFunc([3, 0.5, 3], x) + np.random.randn(len(x)) / 3\n",
    "\n",
    "p0 = [1, 1, 1]  # Initial guess for the parameters\n",
    "(p, success) = opt.leastsq(errFunc, p0, args=(x, y))\n",
    "print(\"\\nnumerical result: \", p)\n",
    "print(\"true value: \", [3, 0.5, 3])\n",
    "nfit = fitFunc(p, x)\n",
    "\n",
    "plt.plot(x, y, label=\"Measured data\", color=\"orange\")\n",
    "plt.plot(x, nfit, label=\"fitting curve\", color=\"red\")\n",
    "plt.legend()\n",
    "plt.show()"
   ]
  }
 ],
 "metadata": {
  "jupytext": {
   "text_representation": {
    "extension": ".md",
    "format_name": "myst",
    "format_version": 0.13,
    "jupytext_version": "1.15.0"
   }
  },
  "kernelspec": {
   "display_name": "Python 3 (ipykernel)",
   "language": "python",
   "name": "python3"
  },
  "source_map": [
   12,
   20,
   26,
   34,
   41,
   47,
   66,
   84,
   91,
   102,
   108,
   122,
   133,
   149,
   160,
   166,
   173,
   184,
   188
  ]
 },
 "nbformat": 4,
 "nbformat_minor": 5
}