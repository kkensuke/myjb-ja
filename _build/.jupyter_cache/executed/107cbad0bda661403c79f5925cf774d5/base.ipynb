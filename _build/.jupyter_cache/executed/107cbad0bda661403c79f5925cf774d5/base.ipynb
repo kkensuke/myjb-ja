{
 "cells": [
  {
   "cell_type": "code",
   "execution_count": 1,
   "id": "9af823e4",
   "metadata": {},
   "outputs": [],
   "source": [
    "from sympy import *"
   ]
  },
  {
   "cell_type": "code",
   "execution_count": 2,
   "id": "c1a9fcd8",
   "metadata": {},
   "outputs": [],
   "source": [
    "x = Symbol(\"x\")\n",
    "y = Symbol(\"y\")"
   ]
  },
  {
   "cell_type": "code",
   "execution_count": 3,
   "id": "e4644019",
   "metadata": {},
   "outputs": [
    {
     "data": {
      "text/latex": [
       "$\\displaystyle \\left(x + y\\right)^{2}$"
      ],
      "text/plain": [
       "(x + y)**2"
      ]
     },
     "execution_count": 3,
     "metadata": {},
     "output_type": "execute_result"
    }
   ],
   "source": [
    "(x + y) ** 2"
   ]
  },
  {
   "cell_type": "code",
   "execution_count": 4,
   "id": "08af9380",
   "metadata": {},
   "outputs": [
    {
     "data": {
      "text/latex": [
       "$\\displaystyle x^{2} + 2 x y + y^{2}$"
      ],
      "text/plain": [
       "x**2 + 2*x*y + y**2"
      ]
     },
     "metadata": {},
     "output_type": "display_data"
    }
   ],
   "source": [
    "f = expand((x + y) ** 2)\n",
    "display(f)"
   ]
  },
  {
   "cell_type": "code",
   "execution_count": 5,
   "id": "7ff0dd0b",
   "metadata": {},
   "outputs": [
    {
     "data": {
      "text/latex": [
       "$\\displaystyle 9$"
      ],
      "text/plain": [
       "9"
      ]
     },
     "execution_count": 5,
     "metadata": {},
     "output_type": "execute_result"
    }
   ],
   "source": [
    "f.subs({x: 1, y: 2})"
   ]
  },
  {
   "cell_type": "code",
   "execution_count": 6,
   "id": "b02cd776",
   "metadata": {},
   "outputs": [
    {
     "data": {
      "text/latex": [
       "$\\displaystyle \\left(x - 3\\right) \\left(x - 1\\right)$"
      ],
      "text/plain": [
       "(x - 3)*(x - 1)"
      ]
     },
     "execution_count": 6,
     "metadata": {},
     "output_type": "execute_result"
    }
   ],
   "source": [
    "factor(x**2 - 4 * x + 3)"
   ]
  },
  {
   "cell_type": "code",
   "execution_count": 7,
   "id": "c2664c7c",
   "metadata": {},
   "outputs": [
    {
     "data": {
      "text/plain": [
       "[1/2 - sqrt(5)/2, 1/2 + sqrt(5)/2]"
      ]
     },
     "execution_count": 7,
     "metadata": {},
     "output_type": "execute_result"
    }
   ],
   "source": [
    "solve(x**2 - x - 1)"
   ]
  },
  {
   "cell_type": "code",
   "execution_count": 8,
   "id": "34335e5b",
   "metadata": {},
   "outputs": [
    {
     "data": {
      "text/latex": [
       "$\\displaystyle - \\frac{x^{3} + 2 x^{2} + 3 x + 4}{5 \\left(x^{4} + x^{3} + x^{2} + x + 1\\right)} + \\frac{1}{5 \\left(x - 1\\right)}$"
      ],
      "text/plain": [
       "-(x**3 + 2*x**2 + 3*x + 4)/(5*(x**4 + x**3 + x**2 + x + 1)) + 1/(5*(x - 1))"
      ]
     },
     "execution_count": 8,
     "metadata": {},
     "output_type": "execute_result"
    }
   ],
   "source": [
    "apart(1 / (x**5 - 1))"
   ]
  },
  {
   "cell_type": "code",
   "execution_count": 9,
   "id": "344714d0",
   "metadata": {},
   "outputs": [
    {
     "data": {
      "text/latex": [
       "$\\displaystyle e^{a x} \\sin{\\left(b x \\right)}$"
      ],
      "text/plain": [
       "exp(a*x)*sin(b*x)"
      ]
     },
     "metadata": {},
     "output_type": "display_data"
    }
   ],
   "source": [
    "a = Symbol(\"a\")  # Without real=True, a is treated as a complex number.\n",
    "b = Symbol(\"b\")\n",
    "\n",
    "u = exp(a * x) * sin(b * x)\n",
    "display(u)"
   ]
  },
  {
   "cell_type": "code",
   "execution_count": 10,
   "id": "d48594d0",
   "metadata": {},
   "outputs": [
    {
     "data": {
      "text/latex": [
       "$\\displaystyle \\begin{cases} 0 & \\text{for}\\: a = 0 \\wedge b = 0 \\\\\\frac{x e^{- i b x} \\sin{\\left(b x \\right)}}{2} - \\frac{i x e^{- i b x} \\cos{\\left(b x \\right)}}{2} - \\frac{e^{- i b x} \\cos{\\left(b x \\right)}}{2 b} & \\text{for}\\: a = - i b \\\\\\frac{x e^{i b x} \\sin{\\left(b x \\right)}}{2} + \\frac{i x e^{i b x} \\cos{\\left(b x \\right)}}{2} - \\frac{e^{i b x} \\cos{\\left(b x \\right)}}{2 b} & \\text{for}\\: a = i b \\\\\\frac{a e^{a x} \\sin{\\left(b x \\right)}}{a^{2} + b^{2}} - \\frac{b e^{a x} \\cos{\\left(b x \\right)}}{a^{2} + b^{2}} & \\text{otherwise} \\end{cases}$"
      ],
      "text/plain": [
       "Piecewise((0, Eq(a, 0) & Eq(b, 0)), (x*exp(-I*b*x)*sin(b*x)/2 - I*x*exp(-I*b*x)*cos(b*x)/2 - exp(-I*b*x)*cos(b*x)/(2*b), Eq(a, -I*b)), (x*exp(I*b*x)*sin(b*x)/2 + I*x*exp(I*b*x)*cos(b*x)/2 - exp(I*b*x)*cos(b*x)/(2*b), Eq(a, I*b)), (a*exp(a*x)*sin(b*x)/(a**2 + b**2) - b*exp(a*x)*cos(b*x)/(a**2 + b**2), True))"
      ]
     },
     "metadata": {},
     "output_type": "display_data"
    }
   ],
   "source": [
    "int_u = integrate(u, x)\n",
    "display(int_u)"
   ]
  },
  {
   "cell_type": "code",
   "execution_count": 11,
   "id": "a9bbc9c5",
   "metadata": {},
   "outputs": [
    {
     "data": {
      "text/latex": [
       "$\\displaystyle x + \\left(a^{2} \\sin{\\left(b x \\right)} + 2 a b \\cos{\\left(b x \\right)} - b^{2} \\sin{\\left(b x \\right)}\\right) e^{a x} + e^{a x} \\sin{\\left(b x \\right)}$"
      ],
      "text/plain": [
       "x + (a**2*sin(b*x) + 2*a*b*cos(b*x) - b**2*sin(b*x))*exp(a*x) + exp(a*x)*sin(b*x)"
      ]
     },
     "metadata": {},
     "output_type": "display_data"
    }
   ],
   "source": [
    "R = diff(u, x, 2) + u + x\n",
    "display(R)"
   ]
  },
  {
   "cell_type": "code",
   "execution_count": 12,
   "id": "a8f29e92",
   "metadata": {},
   "outputs": [
    {
     "data": {
      "text/latex": [
       "$\\displaystyle \\frac{N \\left(N + 1\\right)}{2}$"
      ],
      "text/plain": [
       "N*(N + 1)/2"
      ]
     },
     "execution_count": 12,
     "metadata": {},
     "output_type": "execute_result"
    }
   ],
   "source": [
    "k, N = symbols(\"k, N\", integer=True)\n",
    "factor(summation(k, (k, 1, N)))"
   ]
  },
  {
   "cell_type": "code",
   "execution_count": 13,
   "id": "88c3bda9",
   "metadata": {},
   "outputs": [
    {
     "data": {
      "text/latex": [
       "$\\displaystyle 1$"
      ],
      "text/plain": [
       "1"
      ]
     },
     "execution_count": 13,
     "metadata": {},
     "output_type": "execute_result"
    }
   ],
   "source": [
    "limit(sin(x) / x, x, 0)"
   ]
  },
  {
   "cell_type": "code",
   "execution_count": 14,
   "id": "6dba9d56",
   "metadata": {},
   "outputs": [
    {
     "data": {
      "text/latex": [
       "$\\displaystyle s^{2} x^{3} + t x^{2} + 3 x + 1$"
      ],
      "text/plain": [
       "s**2*x**3 + t*x**2 + 3*x + 1"
      ]
     },
     "metadata": {},
     "output_type": "display_data"
    }
   ],
   "source": [
    "s = Symbol(\"s\")\n",
    "t = Symbol(\"t\")\n",
    "\n",
    "l = (s**2 * x**3) + (t * x**2) + (3 * x) + 1\n",
    "\n",
    "display(l)"
   ]
  },
  {
   "cell_type": "code",
   "execution_count": 15,
   "id": "fc595d19",
   "metadata": {},
   "outputs": [
    {
     "data": {
      "text/latex": [
       "$\\displaystyle \\frac{s^{2}}{4} + \\frac{t}{3} + \\frac{5}{2}$"
      ],
      "text/plain": [
       "s**2/4 + t/3 + 5/2"
      ]
     },
     "metadata": {},
     "output_type": "display_data"
    }
   ],
   "source": [
    "int_l = integrate(l, (x, 0, 1))\n",
    "display(int_l)"
   ]
  }
 ],
 "metadata": {
  "jupytext": {
   "text_representation": {
    "extension": ".md",
    "format_name": "myst",
    "format_version": 0.13,
    "jupytext_version": "1.15.0"
   }
  },
  "kernelspec": {
   "display_name": "Python 3 (ipykernel)",
   "language": "python",
   "name": "python3"
  },
  "language_info": {
   "codemirror_mode": {
    "name": "ipython",
    "version": 3
   },
   "file_extension": ".py",
   "mimetype": "text/x-python",
   "name": "python",
   "nbconvert_exporter": "python",
   "pygments_lexer": "ipython3",
   "version": "3.9.6"
  },
  "source_map": [
   12,
   19,
   21,
   25,
   30,
   32,
   36,
   39,
   43,
   45,
   49,
   51,
   55,
   57,
   61,
   63,
   67,
   75,
   80,
   83,
   87,
   90,
   96,
   98,
   102,
   111
  ]
 },
 "nbformat": 4,
 "nbformat_minor": 5
}